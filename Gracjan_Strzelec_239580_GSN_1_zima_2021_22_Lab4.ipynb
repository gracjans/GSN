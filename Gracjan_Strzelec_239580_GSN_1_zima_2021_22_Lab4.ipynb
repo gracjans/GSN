{
  "nbformat": 4,
  "nbformat_minor": 0,
  "metadata": {
    "colab": {
      "name": "Gracjan_Strzelec_239580_GSN_1_zima_2021_22_Lab4.ipynb",
      "provenance": [],
      "collapsed_sections": [],
      "include_colab_link": true
    },
    "kernelspec": {
      "name": "python3",
      "display_name": "Python 3"
    },
    "language_info": {
      "name": "python"
    }
  },
  "cells": [
    {
      "cell_type": "markdown",
      "metadata": {
        "id": "view-in-github",
        "colab_type": "text"
      },
      "source": [
        "<a href=\"https://colab.research.google.com/github/gracjans/GSN/blob/main/Gracjan_Strzelec_239580_GSN_1_zima_2021_22_Lab4.ipynb\" target=\"_parent\"><img src=\"https://colab.research.google.com/assets/colab-badge.svg\" alt=\"Open In Colab\"/></a>"
      ]
    },
    {
      "cell_type": "markdown",
      "metadata": {
        "id": "l4URUV8_K6JG"
      },
      "source": [
        "# GSN 1 - Winter 2021/22 \n",
        "Homework check and self study"
      ]
    },
    {
      "cell_type": "markdown",
      "metadata": {
        "id": "XIr2bE6hLEe9"
      },
      "source": [
        "### Task 1\n",
        "- Using the code prepared during homework perform a \"forward pass\" through your networks using syntetic data created in previous classes\n",
        "\n",
        "- What operations (if any) do you have to perform on input data to be able to do this operation. \n",
        "\n"
      ]
    },
    {
      "cell_type": "markdown",
      "metadata": {
        "id": "EZlKnsyeZVa9"
      },
      "source": [
        "#### Load dataset and neural network code prepared during homework"
      ]
    },
    {
      "cell_type": "code",
      "metadata": {
        "colab": {
          "base_uri": "https://localhost:8080/"
        },
        "id": "z9v3ojf_SvyV",
        "outputId": "762bf286-68a4-4737-ed20-61615d9f9666"
      },
      "source": [
        "from google.colab import drive\n",
        "drive.mount('/content/drive')"
      ],
      "execution_count": 1,
      "outputs": [
        {
          "output_type": "stream",
          "name": "stdout",
          "text": [
            "Mounted at /content/drive\n"
          ]
        }
      ]
    },
    {
      "cell_type": "code",
      "metadata": {
        "id": "17k8g_EJSvX3"
      },
      "source": [
        "import numpy as np\n",
        "import matplotlib.pyplot as plt\n",
        "import cv2\n",
        "X = np.load('drive/MyDrive/lab2-dataset/X.npy')\n",
        "y = np.load('drive/MyDrive/lab2-dataset/y.npy')\n",
        "bb = np.load('drive/MyDrive/lab2-dataset/bb.npy')"
      ],
      "execution_count": 2,
      "outputs": []
    },
    {
      "cell_type": "code",
      "metadata": {
        "id": "aONVrbnUZFWO"
      },
      "source": [
        "class myLayer:\n",
        "    def __init__(self, neuron_count, inputs_count, activation, weights=None, biases=None):\n",
        "        self.neuron_count = neuron_count\n",
        "        self.inputs_count = inputs_count\n",
        "        self.activation = activation\n",
        "\n",
        "        # check if weights or biases are passed as an network argument, otherwise initialize it with random values\n",
        "        if weights is not None and biases is not None:\n",
        "            self.weights, self.biases = np.array(weights), np.array(biases)\n",
        "\n",
        "        elif weights is not None:\n",
        "            self.weights = np.array(weights)\n",
        "            self.biases = self.initialize_random(self.neuron_count, self.inputs_count)[1]\n",
        "\n",
        "        elif biases is not None:\n",
        "            self.biases = np.array(biases)\n",
        "            self.weights = self.initialize_random(self.neuron_count, self.inputs_count)[0]\n",
        "\n",
        "        else:\n",
        "            self.weights, self.biases = self.initialize_random(self.neuron_count, self.inputs_count)\n",
        "\n",
        "    @staticmethod\n",
        "    def initialize_random(neuron_count, inputs_count):\n",
        "        weights = 0.1 * np.random.rand(neuron_count, inputs_count)\n",
        "        biases = 0.01 * np.random.rand(neuron_count)\n",
        "        return weights, biases\n",
        "\n",
        "    def forward(self, inputs):\n",
        "        z = np.dot(inputs, self.weights.T) + self.biases\n",
        "        return self.activation(z)"
      ],
      "execution_count": 3,
      "outputs": []
    },
    {
      "cell_type": "code",
      "metadata": {
        "id": "lgChnfDQSu8l"
      },
      "source": [
        "class myNetwork:\n",
        "    \"\"\"\n",
        "    myNetwork class parameters:\n",
        "        layers_count: int (number of layers in neural network),\n",
        "        neurons_count: tuple of ints (tuple with number of neurons in each layer)\n",
        "            (lenght should correspond to number of layers defined in previous parameter)\n",
        "        inputs_count: int (number of inputs to each neuron of input layer)\n",
        "        activation: function (one of activation function from above)\n",
        "        weights: OPTIONAL - tuple of arrays (arrays of weights for each of layer)\n",
        "        biases: OPTIONAL - tuple of arrays (arrays of biases for each of layer)\n",
        "    \"\"\"\n",
        "    def __init__(self, layers_count, neurons_count, inputs_count, activation, weights=None, biases=None):\n",
        "        self.layers_instances = []\n",
        "\n",
        "        # initialize layer class instances\n",
        "        for layer_id in range(layers_count):\n",
        "            layer_weights = weights[layer_id] if weights is not None else None\n",
        "            layer_biases = biases[layer_id] if biases is not None else None\n",
        "            if layer_id == 0:\n",
        "                self.layers_instances.append(myLayer(neurons_count[layer_id], inputs_count, activation, layer_weights, layer_biases))\n",
        "            else:\n",
        "                prevous_layer_inputs_count = self.layers_instances[layer_id-1].weights.shape\n",
        "                self.layers_instances.append(myLayer(neurons_count[layer_id], prevous_layer_inputs_count[0], activation, layer_weights, layer_biases))\n",
        "        \n",
        "        # do validation of shapes\n",
        "        self.validate_weights_shape(self.layers_instances) \n",
        "\n",
        "    @staticmethod\n",
        "    def validate_weights_shape(layers):\n",
        "        for i in range(len(layers)-1):\n",
        "          assert layers[i].weights.shape[0] == layers[i+1].weights.shape[1]\n",
        "\n",
        "    def forward(self, inputs):\n",
        "        current_state = np.array(inputs)\n",
        "        for layer in self.layers_instances:\n",
        "          current_state = layer.forward(current_state)\n",
        "        return np.exp(current_state) / np.sum(np.exp(current_state))"
      ],
      "execution_count": 4,
      "outputs": []
    },
    {
      "cell_type": "code",
      "metadata": {
        "id": "EptYkxODT-wn"
      },
      "source": [
        "# ACTIVATION FUNCTIONS \n",
        "def linear(x):\n",
        "    return x\n",
        "\n",
        "def sigmoid(X):\n",
        "    return 1 / (1 + np.exp(-X))\n",
        "\n",
        "def relu(x):\n",
        "    return x * (x > 0)\n",
        "\n",
        "def tanh(X):\n",
        "    return (np.exp(X) - np.exp(-X)) / (np.exp(X) + np.exp(-X))"
      ],
      "execution_count": 5,
      "outputs": []
    },
    {
      "cell_type": "markdown",
      "metadata": {
        "id": "IULKy-C9ZmWx"
      },
      "source": [
        "#### initialize neural network and perform a forward pass"
      ]
    },
    {
      "cell_type": "code",
      "metadata": {
        "colab": {
          "base_uri": "https://localhost:8080/",
          "height": 283
        },
        "id": "YAlZsIdch1cL",
        "outputId": "b6db8af6-6d5c-4523-8fe1-f74f42be04a7"
      },
      "source": [
        "plt.imshow(X[533])"
      ],
      "execution_count": 6,
      "outputs": [
        {
          "output_type": "execute_result",
          "data": {
            "text/plain": [
              "<matplotlib.image.AxesImage at 0x7f44cb1dbd10>"
            ]
          },
          "metadata": {},
          "execution_count": 6
        },
        {
          "output_type": "display_data",
          "data": {
            "image/png": "[encoded data removed]",
            "text/plain": [
              "<Figure size 432x288 with 1 Axes>"
            ]
          },
          "metadata": {
            "needs_background": "light"
          }
        }
      ]
    },
    {
      "cell_type": "code",
      "metadata": {
        "id": "nYob307hZx9u"
      },
      "source": [
        "# initialize NN with 3 layers (size of layers: 3,4,3), 32*32*3 inputs, sigmoid activation function and random weights/biases from range 0-1\n",
        "myNetwork1 = myNetwork(3, (3, 4, 3), 32*32*3, sigmoid)"
      ],
      "execution_count": 22,
      "outputs": []
    },
    {
      "cell_type": "code",
      "metadata": {
        "id": "LdMAXxJ1repo"
      },
      "source": [
        "# prepare input data (resize samples to 1D array)\n",
        "\n",
        "# prepare single sample\n",
        "single_sample = X[100].reshape(32*32*3,)\n",
        "\n",
        "# prepare batch of data with 32 samples\n",
        "batch_32 = np.array([X[i].reshape(32*32*3,) for i in range(32)])\n",
        "\n",
        "# prepare batch of every sample\n",
        "batch_alldata = np.array([X[i].reshape(32*32*3,) for i in range(len(X))])"
      ],
      "execution_count": 35,
      "outputs": []
    },
    {
      "cell_type": "code",
      "metadata": {
        "colab": {
          "base_uri": "https://localhost:8080/",
          "height": 283
        },
        "id": "dJmRSunfn4Q0",
        "outputId": "14719099-36c3-4f8e-894e-f44b5f2b771c"
      },
      "source": [
        "# we can reshape sample again to restore the image\n",
        "plt.imshow(single_sample.reshape(32,32,3))"
      ],
      "execution_count": 36,
      "outputs": [
        {
          "output_type": "execute_result",
          "data": {
            "text/plain": [
              "<matplotlib.image.AxesImage at 0x7f44ae999090>"
            ]
          },
          "metadata": {},
          "execution_count": 36
        },
        {
          "output_type": "display_data",
          "data": {
            "image/png": "[encoded data removed]",
            "text/plain": [
              "<Figure size 432x288 with 1 Axes>"
            ]
          },
          "metadata": {
            "needs_background": "light"
          }
        }
      ]
    },
    {
      "cell_type": "code",
      "metadata": {
        "colab": {
          "base_uri": "https://localhost:8080/"
        },
        "id": "paDH8kyDndee",
        "outputId": "846b7e12-b8da-409a-83bf-395a415ea461"
      },
      "source": [
        "# perform forward pass on single samples\n",
        "myNetwork1.forward(single_sample)"
      ],
      "execution_count": 37,
      "outputs": [
        {
          "output_type": "execute_result",
          "data": {
            "text/plain": [
              "array([0.33226842, 0.33084858, 0.33688301])"
            ]
          },
          "metadata": {},
          "execution_count": 37
        }
      ]
    },
    {
      "cell_type": "code",
      "metadata": {
        "colab": {
          "base_uri": "https://localhost:8080/"
        },
        "id": "Ir1lQtgeoX-T",
        "outputId": "61638d44-5fbe-4146-b520-8f4900838f5e"
      },
      "source": [
        "# perform forward pass on batch with every sample\n",
        "myNetwork1.forward(batch_alldata)"
      ],
      "execution_count": 38,
      "outputs": [
        {
          "output_type": "execute_result",
          "data": {
            "text/plain": [
              "array([[0.00036837, 0.00036679, 0.00037348],\n",
              "       [0.00036837, 0.00036679, 0.00037348],\n",
              "       [0.00036837, 0.00036679, 0.00037348],\n",
              "       ...,\n",
              "       [0.00036837, 0.00036679, 0.00037348],\n",
              "       [0.00036837, 0.00036679, 0.00037348],\n",
              "       [0.00036837, 0.00036679, 0.00037348]])"
            ]
          },
          "metadata": {},
          "execution_count": 38
        }
      ]
    },
    {
      "cell_type": "markdown",
      "metadata": {
        "id": "fgphIj6gaml8"
      },
      "source": [
        "To perform forward pass, I had to transform every input to 1D array using .reshape method."
      ]
    },
    {
      "cell_type": "markdown",
      "metadata": {
        "id": "99mJMf48LUGA"
      },
      "source": [
        "## Task 2\n",
        "\n",
        "Using previous knowledge answer following questions:\n",
        "- What is a classification task? What does it mean, that an entity belongs to a \"class\"\n",
        "\n",
        "- Try to propose a method (methods) for calculating \"error\" in defining affiliation of the input data to a specific class. Is it necessary to transform the labels \n",
        "\n",
        "- How would you describe the \"probability\" of input data belonging to a class (using the network output). \n",
        "\n"
      ]
    },
    {
      "cell_type": "markdown",
      "metadata": {
        "id": "2Fj1DRzlpOGs"
      },
      "source": [
        "\n",
        "\n",
        "---\n",
        "\n",
        "\n",
        "Classification is the process of predicting the class of given sample. \n",
        "\n",
        "If there is 'x' symbol written on the image, that sample belongs to class 'x'. Class in this context is used to describe the sample.\n",
        "\n",
        "Classificator should recognize the symbol on the given image and then should return apropriate output."
      ]
    },
    {
      "cell_type": "markdown",
      "metadata": {
        "id": "ToGX13Horo0b"
      },
      "source": [
        "\n",
        "\n",
        "---\n",
        "\n",
        "In our case (clasificating the symbol on the given image) i think most apropriate method for calculating the 'error' will be Categorical Crossentropy (also called Softmax Loss).\n",
        "\n",
        "It is necessary to transform the labels using one-hot encoding before calculating the error (change the labels froms strings to the 1D vectors with 3 records, where one of them is '1', rest is '0')."
      ]
    },
    {
      "cell_type": "markdown",
      "metadata": {
        "id": "71mPS-At0ebs"
      },
      "source": [
        "\n",
        "\n",
        "---\n",
        "\n",
        "On the output of neural network we got 1D array with number of values corresponding to number of neurons in the output layer. \n",
        "Each value represents propability of belonging the input data to the class. It shows us, what are the model predictions, and 'how sure' it is about it's predictions."
      ]
    },
    {
      "cell_type": "markdown",
      "metadata": {
        "id": "I8E8LM-ULWko"
      },
      "source": [
        "## Task 3\n",
        "\n",
        "- Is it possible (using your current knowledge) to modify the weights in the network to perform the classification task \"better\"? How would you do it?"
      ]
    },
    {
      "cell_type": "markdown",
      "metadata": {
        "id": "IMNgEWwPme2F"
      },
      "source": [
        "One of the ideas for choosing better initial weights, would be to use weights from another, previously trained model. The model, that has solved a similar problem before."
      ]
    }
  ]
}