{
  "nbformat": 4,
  "nbformat_minor": 0,
  "metadata": {
    "colab": {
      "name": "Gracjan_Strzelec_239580_GSN_1_zima_2021_22_Lab6.ipynb",
      "provenance": [],
      "collapsed_sections": [],
      "include_colab_link": true
    },
    "kernelspec": {
      "name": "python3",
      "display_name": "Python 3"
    },
    "language_info": {
      "name": "python"
    }
  },
  "cells": [
    {
      "cell_type": "markdown",
      "metadata": {
        "id": "view-in-github",
        "colab_type": "text"
      },
      "source": [
        "<a href=\"https://colab.research.google.com/github/gracjans/GSN/blob/main/Gracjan_Strzelec_239580_GSN_1_zima_2021_22_Lab6.ipynb\" target=\"_parent\"><img src=\"https://colab.research.google.com/assets/colab-badge.svg\" alt=\"Open In Colab\"/></a>"
      ]
    },
    {
      "cell_type": "markdown",
      "metadata": {
        "id": "l4URUV8_K6JG"
      },
      "source": [
        "# GSN 1 - Winter 2021/22 "
      ]
    },
    {
      "cell_type": "code",
      "metadata": {
        "colab": {
          "base_uri": "https://localhost:8080/"
        },
        "id": "z9v3ojf_SvyV",
        "outputId": "693475ba-87f7-4b1a-dcf7-00b626af3e85"
      },
      "source": [
        "from google.colab import drive\n",
        "drive.mount('/content/drive')"
      ],
      "execution_count": 291,
      "outputs": [
        {
          "output_type": "stream",
          "name": "stdout",
          "text": [
            "Drive already mounted at /content/drive; to attempt to forcibly remount, call drive.mount(\"/content/drive\", force_remount=True).\n"
          ]
        }
      ]
    },
    {
      "cell_type": "code",
      "metadata": {
        "id": "17k8g_EJSvX3"
      },
      "source": [
        "import numpy as np\n",
        "from sklearn.model_selection import train_test_split\n",
        "from tqdm import trange\n",
        "from sklearn.metrics import accuracy_score\n",
        "from tensorflow import keras\n",
        "\n",
        "import matplotlib.pyplot as plt\n",
        "import cv2"
      ],
      "execution_count": 292,
      "outputs": []
    },
    {
      "cell_type": "code",
      "metadata": {
        "id": "f98UJ3Fah2xZ"
      },
      "source": [
        "\"\"\"\n",
        "myNetwork class parameters:\n",
        "      neurons_count: int (number of neurons in layer)     \n",
        "      inputs_count: int (number of inputs to each neuron of layer)\n",
        "      weights: OPTIONAL - tuple of arrays (arrays of weights for each of layer)\n",
        "      biases: OPTIONAL - tuple of arrays (arrays of biases for each of layer)\n",
        "\"\"\"\n",
        "\n",
        "class myLayer:\n",
        "    def __init__(self, inputs_count, neuron_count, learning_rate=0.01, weights=None, biases=None):\n",
        "        self.learning_rate = learning_rate\n",
        "\n",
        "        # check if weights or biases are passed as an network argument, otherwise initialize it by default\n",
        "        if weights is not None:\n",
        "            self.weights = np.array(weights)  \n",
        "        else:  \n",
        "            self.weights = np.random.normal(scale=0.01, size=(neuron_count, inputs_count))\n",
        "\n",
        "        if biases is not None:\n",
        "            self.biases = np.array(biases)\n",
        "        else:  \n",
        "            self.biases = np.zeros(neuron_count)\n",
        "\n",
        "    def forward(self, inputs):\n",
        "        return np.dot(inputs, self.weights.T) + self.biases\n",
        "\n",
        "    def backward(self, input, grad):\n",
        "        grad_input = np.dot(grad, self.weights)\n",
        "        grad_weights = np.dot(input.T, grad)\n",
        "        grad_biases = grad.mean(axis=0) * input.shape[0]\n",
        "\n",
        "        self.weights = self.weights - self.learning_rate * grad_weights.T\n",
        "        self.biases = self.biases - self.learning_rate * grad_biases.T\n",
        "\n",
        "        return grad_input"
      ],
      "execution_count": 293,
      "outputs": []
    },
    {
      "cell_type": "code",
      "metadata": {
        "id": "EptYkxODT-wn"
      },
      "source": [
        "# ACTIVATION FUNCTIONS\n",
        "\n",
        "class sigmoid():\n",
        "    def forward(self, x):\n",
        "      return 1 / (1 + np.exp(-X))\n",
        "    def backward(self, x, grad):\n",
        "      sig_grad = x * (1 - x)\n",
        "      return grad * sig_grad\n",
        "\n",
        "class relu():\n",
        "    def forward(self, x):\n",
        "      return x * (x > 0)\n",
        "    def backward(self, x, grad):\n",
        "      re_grad = 1 * (x > 0)\n",
        "      return grad * re_grad\n",
        "\n",
        "class tanh():\n",
        "    def forward(self, x):\n",
        "      return (np.exp(x) - np.exp(-x)) / (np.exp(x) + np.exp(-x))\n",
        "    def backward(self, x, grad):\n",
        "      tan_grad = 1 - (np.exp(x) - np.exp(-x)) / (np.exp(x) + np.exp(-x))**2\n",
        "      return grad * tan_grad"
      ],
      "execution_count": 294,
      "outputs": []
    },
    {
      "cell_type": "code",
      "metadata": {
        "id": "d06otz2gmo2k"
      },
      "source": [
        "def softmax_crossentropy_with_logits(logits, reference_answers):\n",
        "    logits_for_answers = logits[np.arange(len(logits)),reference_answers]\n",
        "    xentropy = -logits_for_answers + np.log(np.sum(np.exp(logits),axis=-1))\n",
        "    return xentropy\n",
        "\n",
        "def grad_softmax_crossentropy_with_logits(logits, reference_answers):\n",
        "    ones_for_answers = np.zeros_like(logits)\n",
        "    ones_for_answers[np.arange(len(logits)),reference_answers] = 1\n",
        "    softmax = np.exp(logits) / np.exp(logits).sum(axis=-1, keepdims=True)\n",
        "    return (- ones_for_answers + softmax) / logits.shape[0]"
      ],
      "execution_count": 295,
      "outputs": []
    },
    {
      "cell_type": "code",
      "metadata": {
        "id": "O-IatISClrGp"
      },
      "source": [
        "class myNetwork:\n",
        "    def __init__(self):\n",
        "        self.layers_instances = []\n",
        "\n",
        "    def add_layer(self, layer):\n",
        "        self.layers_instances.append(layer)\n",
        "\n",
        "    def forward(self, inputs):\n",
        "        self.inputs = [inputs]\n",
        "\n",
        "        current_state = np.array(inputs)\n",
        "        for layer in self.layers_instances:\n",
        "          current_state = layer.forward(current_state)\n",
        "          self.inputs.append(current_state)\n",
        "        return current_state\n",
        "\n",
        "    def backward(self, grad):\n",
        "        current_state = grad\n",
        "        for layer_index in range(len(self.layers_instances))[::-1]:\n",
        "          layer = self.layers_instances[layer_index]\n",
        "          current_state = layer.backward(self.inputs[layer_index], current_state)"
      ],
      "execution_count": 296,
      "outputs": []
    },
    {
      "cell_type": "code",
      "metadata": {
        "id": "Wmt7OhwyzPse"
      },
      "source": [
        "def iterate_minibatches(inputs, targets, batchsize, shuffle=False):\n",
        "    assert len(inputs) == len(targets)\n",
        "\n",
        "    if shuffle:\n",
        "        indices = np.random.permutation(len(inputs)) \n",
        "\n",
        "    for start_idx in trange(0, len(inputs) - batchsize + 1, batchsize, desc='minibatch iteration'):\n",
        "        if shuffle:\n",
        "            excerpt = indices[start_idx:start_idx + batchsize]\n",
        "        else:\n",
        "            excerpt = slice(start_idx, start_idx + batchsize)\n",
        "\n",
        "        yield inputs[excerpt], targets[excerpt]"
      ],
      "execution_count": 297,
      "outputs": []
    },
    {
      "cell_type": "markdown",
      "metadata": {
        "id": "IULKy-C9ZmWx"
      },
      "source": [
        "### Initialize and train neural network with MNIST dataset"
      ]
    },
    {
      "cell_type": "code",
      "metadata": {
        "colab": {
          "base_uri": "https://localhost:8080/"
        },
        "id": "Q1Q59c8rzu1g",
        "outputId": "b6670288-ac53-4a23-c980-3768be56df5c"
      },
      "source": [
        "(X_train, y_train), (X_test, y_test) = keras.datasets.mnist.load_data()\n",
        "X_train, X_test = np.reshape(X_train / 255., (60000, 28*28)), np.reshape(X_test /255. , (10000, 28 * 28))\n",
        "\n",
        "print(X_train.shape)\n",
        "print(y_train.shape)"
      ],
      "execution_count": 300,
      "outputs": [
        {
          "output_type": "stream",
          "name": "stdout",
          "text": [
            "(60000, 784)\n",
            "(60000,)\n"
          ]
        }
      ]
    },
    {
      "cell_type": "code",
      "metadata": {
        "colab": {
          "base_uri": "https://localhost:8080/"
        },
        "id": "4vPqMxrVzWGV",
        "outputId": "ed85496d-5564-4ea7-b78b-5fe28cf995ec"
      },
      "source": [
        "### full network training ###\n",
        "net = myNetwork()\n",
        "net.add_layer(myLayer(784, 128))\n",
        "net.add_layer(tanh())\n",
        "net.add_layer(myLayer(128, 64))\n",
        "net.add_layer(tanh())\n",
        "net.add_layer(myLayer(64, 10))\n",
        "\n",
        "for epoch in range(10):\n",
        "    epoch_loss = []\n",
        "    for x_batch, y_batch in iterate_minibatches(X_train, y_train, batchsize=32, shuffle=True):\n",
        "\n",
        "        ### forward ###\n",
        "        logits = net.forward(x_batch)\n",
        "\n",
        "        ### loss calculation ###\n",
        "        loss = softmax_crossentropy_with_logits(logits, y_batch)\n",
        "        epoch_loss.append(np.mean(loss))\n",
        "\n",
        "        ### backward ###\n",
        "        loss_grad = grad_softmax_crossentropy_with_logits(logits, y_batch)\n",
        "        net.backward(loss_grad)\n",
        "\n",
        "    preds = []\n",
        "    for x_batch, _ in iterate_minibatches(X_test, y_test, batchsize=1, shuffle=False):\n",
        "        preds.append(np.argmax(net.forward(x_batch)))\n",
        "\n",
        "    print(f'\\nEpoch: {epoch + 1} \\t Loss: {np.mean(epoch_loss)} \\t Test accuracy: {accuracy_score(y_test, preds)} \\n')"
      ],
      "execution_count": 306,
      "outputs": [
        {
          "output_type": "stream",
          "name": "stderr",
          "text": [
            "minibatch iteration: 100%|██████████| 1875/1875 [00:09<00:00, 199.12it/s]\n",
            "minibatch iteration: 100%|██████████| 10000/10000 [00:01<00:00, 7925.22it/s]\n"
          ]
        },
        {
          "output_type": "stream",
          "name": "stdout",
          "text": [
            "\n",
            "Epoch: 1 \t Loss: 2.282199967214619 \t Test accuracy: 0.23 \n",
            "\n"
          ]
        },
        {
          "output_type": "stream",
          "name": "stderr",
          "text": [
            "minibatch iteration: 100%|██████████| 1875/1875 [00:09<00:00, 198.87it/s]\n",
            "minibatch iteration: 100%|██████████| 10000/10000 [00:01<00:00, 7733.64it/s]\n"
          ]
        },
        {
          "output_type": "stream",
          "name": "stdout",
          "text": [
            "\n",
            "Epoch: 2 \t Loss: 1.3644134803034604 \t Test accuracy: 0.7602 \n",
            "\n"
          ]
        },
        {
          "output_type": "stream",
          "name": "stderr",
          "text": [
            "minibatch iteration: 100%|██████████| 1875/1875 [00:09<00:00, 199.47it/s]\n",
            "minibatch iteration: 100%|██████████| 10000/10000 [00:01<00:00, 7882.34it/s]\n"
          ]
        },
        {
          "output_type": "stream",
          "name": "stdout",
          "text": [
            "\n",
            "Epoch: 3 \t Loss: 0.649398980677139 \t Test accuracy: 0.8426 \n",
            "\n"
          ]
        },
        {
          "output_type": "stream",
          "name": "stderr",
          "text": [
            "minibatch iteration: 100%|██████████| 1875/1875 [00:09<00:00, 198.62it/s]\n",
            "minibatch iteration: 100%|██████████| 10000/10000 [00:01<00:00, 7898.24it/s]\n"
          ]
        },
        {
          "output_type": "stream",
          "name": "stdout",
          "text": [
            "\n",
            "Epoch: 4 \t Loss: 0.49070212754129133 \t Test accuracy: 0.8786 \n",
            "\n"
          ]
        },
        {
          "output_type": "stream",
          "name": "stderr",
          "text": [
            "minibatch iteration: 100%|██████████| 1875/1875 [00:09<00:00, 201.68it/s]\n",
            "minibatch iteration: 100%|██████████| 10000/10000 [00:01<00:00, 7867.71it/s]\n"
          ]
        },
        {
          "output_type": "stream",
          "name": "stdout",
          "text": [
            "\n",
            "Epoch: 5 \t Loss: 0.4036901161662993 \t Test accuracy: 0.8941 \n",
            "\n"
          ]
        },
        {
          "output_type": "stream",
          "name": "stderr",
          "text": [
            "minibatch iteration: 100%|██████████| 1875/1875 [00:09<00:00, 199.78it/s]\n",
            "minibatch iteration: 100%|██████████| 10000/10000 [00:01<00:00, 7709.68it/s]\n"
          ]
        },
        {
          "output_type": "stream",
          "name": "stdout",
          "text": [
            "\n",
            "Epoch: 6 \t Loss: 0.3543630733148165 \t Test accuracy: 0.9023 \n",
            "\n"
          ]
        },
        {
          "output_type": "stream",
          "name": "stderr",
          "text": [
            "minibatch iteration: 100%|██████████| 1875/1875 [00:09<00:00, 199.42it/s]\n",
            "minibatch iteration: 100%|██████████| 10000/10000 [00:01<00:00, 7932.09it/s]\n"
          ]
        },
        {
          "output_type": "stream",
          "name": "stdout",
          "text": [
            "\n",
            "Epoch: 7 \t Loss: 0.3243417334713747 \t Test accuracy: 0.9094 \n",
            "\n"
          ]
        },
        {
          "output_type": "stream",
          "name": "stderr",
          "text": [
            "minibatch iteration: 100%|██████████| 1875/1875 [00:09<00:00, 199.60it/s]\n",
            "minibatch iteration: 100%|██████████| 10000/10000 [00:01<00:00, 7884.54it/s]\n"
          ]
        },
        {
          "output_type": "stream",
          "name": "stdout",
          "text": [
            "\n",
            "Epoch: 8 \t Loss: 0.3038924750929168 \t Test accuracy: 0.9149 \n",
            "\n"
          ]
        },
        {
          "output_type": "stream",
          "name": "stderr",
          "text": [
            "minibatch iteration: 100%|██████████| 1875/1875 [00:09<00:00, 198.78it/s]\n",
            "minibatch iteration: 100%|██████████| 10000/10000 [00:01<00:00, 7675.76it/s]\n"
          ]
        },
        {
          "output_type": "stream",
          "name": "stdout",
          "text": [
            "\n",
            "Epoch: 9 \t Loss: 0.2882281897048434 \t Test accuracy: 0.9175 \n",
            "\n"
          ]
        },
        {
          "output_type": "stream",
          "name": "stderr",
          "text": [
            "minibatch iteration: 100%|██████████| 1875/1875 [00:09<00:00, 197.59it/s]\n",
            "minibatch iteration: 100%|██████████| 10000/10000 [00:01<00:00, 7899.86it/s]"
          ]
        },
        {
          "output_type": "stream",
          "name": "stdout",
          "text": [
            "\n",
            "Epoch: 10 \t Loss: 0.27610334161270617 \t Test accuracy: 0.9199 \n",
            "\n"
          ]
        },
        {
          "output_type": "stream",
          "name": "stderr",
          "text": [
            "\n"
          ]
        }
      ]
    },
    {
      "cell_type": "markdown",
      "metadata": {
        "id": "ZceicWRbPj1a"
      },
      "source": [
        "### Initialize and train neural network with previously created dataset (x, o, + images)"
      ]
    },
    {
      "cell_type": "code",
      "metadata": {
        "colab": {
          "base_uri": "https://localhost:8080/"
        },
        "id": "5TaeKzT2JWkq",
        "outputId": "93aebf92-6165-4bdd-f500-cbf099584c3d"
      },
      "source": [
        "X = np.load('drive/MyDrive/lab2-dataset/X.npy')\n",
        "y = np.load('drive/MyDrive/lab2-dataset/y.npy')\n",
        "bb = np.load('drive/MyDrive/lab2-dataset/bb.npy')\n",
        "\n",
        "X = (X / 255.).reshape(len(X), 32*32*3)\n",
        "\n",
        "X_train, X_test, y_train, y_test = train_test_split(X, y, test_size=0.1, random_state=42)\n",
        "\n",
        "print(X_train.shape)\n",
        "print(y_train.shape)"
      ],
      "execution_count": 309,
      "outputs": [
        {
          "output_type": "stream",
          "name": "stdout",
          "text": [
            "(811, 3072)\n",
            "(811,)\n"
          ]
        }
      ]
    },
    {
      "cell_type": "code",
      "metadata": {
        "colab": {
          "base_uri": "https://localhost:8080/"
        },
        "id": "DCDLYsdZPunH",
        "outputId": "d3c579d9-f0ea-4ec5-903e-20a5362cb66f"
      },
      "source": [
        "net2 = myNetwork()\n",
        "net2.add_layer(myLayer(32*32*3, 128))\n",
        "net2.add_layer(relu())\n",
        "net2.add_layer(myLayer(128, 32))\n",
        "net2.add_layer(relu())\n",
        "net2.add_layer(myLayer(32, 3))\n",
        "\n",
        "for epoch in range(20):\n",
        "    epoch_loss = []\n",
        "    for x_batch, y_batch in iterate_minibatches(X_train, y_train, batchsize=1, shuffle=True):\n",
        "\n",
        "        ### forward ###\n",
        "        logits = net2.forward(x_batch)\n",
        "\n",
        "        ### loss calculation ###\n",
        "        loss = softmax_crossentropy_with_logits(logits, y_batch)\n",
        "        epoch_loss.append(np.mean(loss))\n",
        "\n",
        "        ### backward ###\n",
        "        loss_grad = grad_softmax_crossentropy_with_logits(logits, y_batch)\n",
        "        net2.backward(loss_grad)\n",
        "\n",
        "    preds = []\n",
        "    for x_batch, _ in iterate_minibatches(X_test, y_test, batchsize=1, shuffle=False):\n",
        "        preds.append(np.argmax(net2.forward(x_batch)))\n",
        "\n",
        "    print(f'\\nEpoch: {epoch + 1} \\t Loss: {np.mean(epoch_loss)} \\t Test accuracy: {accuracy_score(y_test, preds)} \\n')"
      ],
      "execution_count": 311,
      "outputs": [
        {
          "output_type": "stream",
          "name": "stderr",
          "text": [
            "minibatch iteration: 100%|██████████| 811/811 [00:05<00:00, 154.31it/s]\n",
            "minibatch iteration: 100%|██████████| 91/91 [00:00<00:00, 3430.85it/s]\n"
          ]
        },
        {
          "output_type": "stream",
          "name": "stdout",
          "text": [
            "\n",
            "Epoch: 1 \t Loss: 1.1003026058451546 \t Test accuracy: 0.43956043956043955 \n",
            "\n"
          ]
        },
        {
          "output_type": "stream",
          "name": "stderr",
          "text": [
            "minibatch iteration: 100%|██████████| 811/811 [00:05<00:00, 160.62it/s]\n",
            "minibatch iteration: 100%|██████████| 91/91 [00:00<00:00, 3974.03it/s]\n"
          ]
        },
        {
          "output_type": "stream",
          "name": "stdout",
          "text": [
            "\n",
            "Epoch: 2 \t Loss: 1.1008133270539506 \t Test accuracy: 0.43956043956043955 \n",
            "\n"
          ]
        },
        {
          "output_type": "stream",
          "name": "stderr",
          "text": [
            "minibatch iteration: 100%|██████████| 811/811 [00:04<00:00, 162.67it/s]\n",
            "minibatch iteration: 100%|██████████| 91/91 [00:00<00:00, 3928.42it/s]\n"
          ]
        },
        {
          "output_type": "stream",
          "name": "stdout",
          "text": [
            "\n",
            "Epoch: 3 \t Loss: 1.1006060342859 \t Test accuracy: 0.43956043956043955 \n",
            "\n"
          ]
        },
        {
          "output_type": "stream",
          "name": "stderr",
          "text": [
            "minibatch iteration: 100%|██████████| 811/811 [00:04<00:00, 167.83it/s]\n",
            "minibatch iteration: 100%|██████████| 91/91 [00:00<00:00, 3918.50it/s]\n"
          ]
        },
        {
          "output_type": "stream",
          "name": "stdout",
          "text": [
            "\n",
            "Epoch: 4 \t Loss: 1.0996045842161069 \t Test accuracy: 0.43956043956043955 \n",
            "\n"
          ]
        },
        {
          "output_type": "stream",
          "name": "stderr",
          "text": [
            "minibatch iteration: 100%|██████████| 811/811 [00:04<00:00, 162.26it/s]\n",
            "minibatch iteration: 100%|██████████| 91/91 [00:00<00:00, 4596.69it/s]\n"
          ]
        },
        {
          "output_type": "stream",
          "name": "stdout",
          "text": [
            "\n",
            "Epoch: 5 \t Loss: 1.096520085115205 \t Test accuracy: 0.24175824175824176 \n",
            "\n"
          ]
        },
        {
          "output_type": "stream",
          "name": "stderr",
          "text": [
            "minibatch iteration: 100%|██████████| 811/811 [00:04<00:00, 162.90it/s]\n",
            "minibatch iteration: 100%|██████████| 91/91 [00:00<00:00, 3650.78it/s]\n"
          ]
        },
        {
          "output_type": "stream",
          "name": "stdout",
          "text": [
            "\n",
            "Epoch: 6 \t Loss: 1.089379540185402 \t Test accuracy: 0.2857142857142857 \n",
            "\n"
          ]
        },
        {
          "output_type": "stream",
          "name": "stderr",
          "text": [
            "minibatch iteration: 100%|██████████| 811/811 [00:04<00:00, 165.03it/s]\n",
            "minibatch iteration: 100%|██████████| 91/91 [00:00<00:00, 3607.65it/s]\n"
          ]
        },
        {
          "output_type": "stream",
          "name": "stdout",
          "text": [
            "\n",
            "Epoch: 7 \t Loss: 1.0659747081622721 \t Test accuracy: 0.26373626373626374 \n",
            "\n"
          ]
        },
        {
          "output_type": "stream",
          "name": "stderr",
          "text": [
            "minibatch iteration: 100%|██████████| 811/811 [00:05<00:00, 160.44it/s]\n",
            "minibatch iteration: 100%|██████████| 91/91 [00:00<00:00, 4997.21it/s]\n"
          ]
        },
        {
          "output_type": "stream",
          "name": "stdout",
          "text": [
            "\n",
            "Epoch: 8 \t Loss: 1.0142605942894032 \t Test accuracy: 0.4725274725274725 \n",
            "\n"
          ]
        },
        {
          "output_type": "stream",
          "name": "stderr",
          "text": [
            "minibatch iteration: 100%|██████████| 811/811 [00:04<00:00, 168.69it/s]\n",
            "minibatch iteration: 100%|██████████| 91/91 [00:00<00:00, 4223.03it/s]\n"
          ]
        },
        {
          "output_type": "stream",
          "name": "stdout",
          "text": [
            "\n",
            "Epoch: 9 \t Loss: 0.8947853684999721 \t Test accuracy: 0.5714285714285714 \n",
            "\n"
          ]
        },
        {
          "output_type": "stream",
          "name": "stderr",
          "text": [
            "minibatch iteration: 100%|██████████| 811/811 [00:04<00:00, 165.10it/s]\n",
            "minibatch iteration: 100%|██████████| 91/91 [00:00<00:00, 4570.76it/s]\n"
          ]
        },
        {
          "output_type": "stream",
          "name": "stdout",
          "text": [
            "\n",
            "Epoch: 10 \t Loss: 0.6879673156692613 \t Test accuracy: 0.4175824175824176 \n",
            "\n"
          ]
        },
        {
          "output_type": "stream",
          "name": "stderr",
          "text": [
            "minibatch iteration: 100%|██████████| 811/811 [00:04<00:00, 164.84it/s]\n",
            "minibatch iteration: 100%|██████████| 91/91 [00:00<00:00, 3793.15it/s]\n"
          ]
        },
        {
          "output_type": "stream",
          "name": "stdout",
          "text": [
            "\n",
            "Epoch: 11 \t Loss: 0.4891061935870995 \t Test accuracy: 0.8681318681318682 \n",
            "\n"
          ]
        },
        {
          "output_type": "stream",
          "name": "stderr",
          "text": [
            "minibatch iteration: 100%|██████████| 811/811 [00:04<00:00, 162.96it/s]\n",
            "minibatch iteration: 100%|██████████| 91/91 [00:00<00:00, 4013.10it/s]\n"
          ]
        },
        {
          "output_type": "stream",
          "name": "stdout",
          "text": [
            "\n",
            "Epoch: 12 \t Loss: 0.3264645505102179 \t Test accuracy: 0.7912087912087912 \n",
            "\n"
          ]
        },
        {
          "output_type": "stream",
          "name": "stderr",
          "text": [
            "minibatch iteration: 100%|██████████| 811/811 [00:05<00:00, 157.13it/s]\n",
            "minibatch iteration: 100%|██████████| 91/91 [00:00<00:00, 4111.13it/s]\n"
          ]
        },
        {
          "output_type": "stream",
          "name": "stdout",
          "text": [
            "\n",
            "Epoch: 13 \t Loss: 0.29566141091744175 \t Test accuracy: 0.8461538461538461 \n",
            "\n"
          ]
        },
        {
          "output_type": "stream",
          "name": "stderr",
          "text": [
            "minibatch iteration: 100%|██████████| 811/811 [00:04<00:00, 164.35it/s]\n",
            "minibatch iteration: 100%|██████████| 91/91 [00:00<00:00, 3890.38it/s]\n"
          ]
        },
        {
          "output_type": "stream",
          "name": "stdout",
          "text": [
            "\n",
            "Epoch: 14 \t Loss: 0.18510256642268655 \t Test accuracy: 0.8901098901098901 \n",
            "\n"
          ]
        },
        {
          "output_type": "stream",
          "name": "stderr",
          "text": [
            "minibatch iteration: 100%|██████████| 811/811 [00:04<00:00, 163.77it/s]\n",
            "minibatch iteration: 100%|██████████| 91/91 [00:00<00:00, 4662.73it/s]\n"
          ]
        },
        {
          "output_type": "stream",
          "name": "stdout",
          "text": [
            "\n",
            "Epoch: 15 \t Loss: 0.1661491274819439 \t Test accuracy: 0.9230769230769231 \n",
            "\n"
          ]
        },
        {
          "output_type": "stream",
          "name": "stderr",
          "text": [
            "minibatch iteration: 100%|██████████| 811/811 [00:04<00:00, 165.98it/s]\n",
            "minibatch iteration: 100%|██████████| 91/91 [00:00<00:00, 2569.87it/s]\n"
          ]
        },
        {
          "output_type": "stream",
          "name": "stdout",
          "text": [
            "\n",
            "Epoch: 16 \t Loss: 0.13624092243493965 \t Test accuracy: 0.8571428571428571 \n",
            "\n"
          ]
        },
        {
          "output_type": "stream",
          "name": "stderr",
          "text": [
            "minibatch iteration: 100%|██████████| 811/811 [00:04<00:00, 167.51it/s]\n",
            "minibatch iteration: 100%|██████████| 91/91 [00:00<00:00, 4534.81it/s]\n"
          ]
        },
        {
          "output_type": "stream",
          "name": "stdout",
          "text": [
            "\n",
            "Epoch: 17 \t Loss: 0.06341710177029164 \t Test accuracy: 0.9230769230769231 \n",
            "\n"
          ]
        },
        {
          "output_type": "stream",
          "name": "stderr",
          "text": [
            "minibatch iteration: 100%|██████████| 811/811 [00:04<00:00, 169.53it/s]\n",
            "minibatch iteration: 100%|██████████| 91/91 [00:00<00:00, 4610.46it/s]\n"
          ]
        },
        {
          "output_type": "stream",
          "name": "stdout",
          "text": [
            "\n",
            "Epoch: 18 \t Loss: 0.09995121328746581 \t Test accuracy: 0.9340659340659341 \n",
            "\n"
          ]
        },
        {
          "output_type": "stream",
          "name": "stderr",
          "text": [
            "minibatch iteration: 100%|██████████| 811/811 [00:04<00:00, 167.01it/s]\n",
            "minibatch iteration: 100%|██████████| 91/91 [00:00<00:00, 4605.62it/s]\n"
          ]
        },
        {
          "output_type": "stream",
          "name": "stdout",
          "text": [
            "\n",
            "Epoch: 19 \t Loss: 0.10581186851954756 \t Test accuracy: 0.9120879120879121 \n",
            "\n"
          ]
        },
        {
          "output_type": "stream",
          "name": "stderr",
          "text": [
            "minibatch iteration: 100%|██████████| 811/811 [00:04<00:00, 163.88it/s]\n",
            "minibatch iteration: 100%|██████████| 91/91 [00:00<00:00, 4117.87it/s]"
          ]
        },
        {
          "output_type": "stream",
          "name": "stdout",
          "text": [
            "\n",
            "Epoch: 20 \t Loss: 0.014646831862251504 \t Test accuracy: 0.967032967032967 \n",
            "\n"
          ]
        },
        {
          "output_type": "stream",
          "name": "stderr",
          "text": [
            "\n"
          ]
        }
      ]
    },
    {
      "cell_type": "code",
      "metadata": {
        "id": "u2Oo8byjP1qz"
      },
      "source": [
        ""
      ],
      "execution_count": null,
      "outputs": []
    }
  ]
}