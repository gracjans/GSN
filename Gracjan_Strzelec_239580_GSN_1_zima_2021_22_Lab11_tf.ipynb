{
  "nbformat": 4,
  "nbformat_minor": 0,
  "metadata": {
    "colab": {
      "name": "Gracjan-Strzelec_239580_GSN_1_zima_2021_22_Lab11.ipynb",
      "provenance": [],
      "collapsed_sections": []
    },
    "kernelspec": {
      "name": "python3",
      "display_name": "Python 3"
    },
    "language_info": {
      "name": "python"
    },
    "accelerator": "GPU"
  },
  "cells": [
    {
      "cell_type": "markdown",
      "metadata": {
        "id": "PHQnJnXbN3Lm"
      },
      "source": [
        "Necessary imports\n"
      ]
    },
    {
      "cell_type": "code",
      "metadata": {
        "id": "hXVHcjeEGPm3"
      },
      "source": [
        "from __future__ import print_function\n",
        "\n",
        "import tensorflow as tf\n",
        "from tensorflow import keras\n",
        "# import keras # Keras can be imported as a separate library (and can use different backends)\n",
        "from tensorflow.keras.datasets import mnist\n",
        "from tensorflow.keras.models import Sequential, Model, load_model, model_from_json\n",
        "from tensorflow.keras.layers import Dense, Dropout, Input, Activation, Conv2D, MaxPooling2D, Flatten\n",
        "from tensorflow.keras.optimizers import RMSprop, SGD, Adagrad, Adadelta, Adam \n",
        "from tensorflow.keras.utils import plot_model\n",
        "from tensorflow.keras.callbacks import ModelCheckpoint, EarlyStopping\n",
        "\n",
        "\n",
        "from tensorflow.keras.callbacks import EarlyStopping, ModelCheckpoint\n",
        "\n",
        "from tensorflow.keras import metrics\n",
        "from tensorflow.keras import losses\n",
        "import numpy as np\n",
        "from sklearn.model_selection import train_test_split\n",
        "from tqdm import trange\n",
        "from sklearn.metrics import accuracy_score\n",
        "\n",
        "import matplotlib.pyplot as plt\n",
        "\n",
        "\n",
        "\n",
        "batch_size = 128\n",
        "num_classes = 10\n",
        "epochs = 20"
      ],
      "execution_count": 1,
      "outputs": []
    },
    {
      "cell_type": "markdown",
      "metadata": {
        "id": "oD52LIwsOPck"
      },
      "source": [
        "Importing and preparing the data (simple MNIST dataset)\n"
      ]
    },
    {
      "cell_type": "code",
      "metadata": {
        "id": "RQCmejp7KDEb",
        "outputId": "17fd4208-b390-4f32-f192-01155eda0b0f",
        "colab": {
          "base_uri": "https://localhost:8080/"
        }
      },
      "source": [
        "# the data, split between train and test sets\n",
        "(x_train, y_train), (x_test, y_test) = mnist.load_data()\n",
        "\n",
        "## flatten the data from 2D to 1D (vector)\n",
        "## the data shape is [28x28]\n",
        "\n",
        "x_train = x_train.reshape(60000, 784) \n",
        "x_test = x_test.reshape(10000, 784)\n",
        "x_train = x_train.astype('float32')\n",
        "x_test = x_test.astype('float32')\n",
        "\n",
        "## convert to float [0.0 - 1.0]\n",
        "x_train /= 255\n",
        "x_test /= 255\n",
        "print(x_train.shape[0], 'train samples')\n",
        "print(x_test.shape[0], 'test samples')\n",
        "\n",
        "print(y_train.shape)"
      ],
      "execution_count": 2,
      "outputs": [
        {
          "output_type": "stream",
          "name": "stdout",
          "text": [
            "Downloading data from https://storage.googleapis.com/tensorflow/tf-keras-datasets/mnist.npz\n",
            "11493376/11490434 [==============================] - 0s 0us/step\n",
            "11501568/11490434 [==============================] - 0s 0us/step\n",
            "60000 train samples\n",
            "10000 test samples\n",
            "(60000,)\n"
          ]
        }
      ]
    },
    {
      "cell_type": "markdown",
      "metadata": {
        "id": "gSBmNcVWOY6D"
      },
      "source": [
        "Convert class vectors (single label) to One-hot encoding (vector encoding)"
      ]
    },
    {
      "cell_type": "code",
      "metadata": {
        "id": "3qNzRzjFKDIa"
      },
      "source": [
        "## One-hot encoding\n",
        "y_train = keras.utils.to_categorical(y_train, num_classes)\n",
        "y_test = keras.utils.to_categorical(y_test, num_classes)"
      ],
      "execution_count": 3,
      "outputs": []
    },
    {
      "cell_type": "markdown",
      "metadata": {
        "id": "gDUS_UvwOtey"
      },
      "source": [
        "There are two main ways to define model architecture in Keras - Sequential and Functional APIs.\n",
        "\n",
        "- Sequential API is very easy to understand and can be a great tool for creating linear (sequential) model architectures. \n",
        "\n",
        "- Functional API can be used to create more complicated architectures, with multiple inputs and outputs, as well as divergences from linear processing path.\n",
        "\n"
      ]
    },
    {
      "cell_type": "code",
      "metadata": {
        "id": "MYl_jH7EKDLF",
        "outputId": "4f66b2ad-b129-4de3-ffd1-c9ac4b1017ce",
        "colab": {
          "base_uri": "https://localhost:8080/",
          "height": 1000
        }
      },
      "source": [
        "## Prepare model architecture using Sequential API - long version\n",
        "model = Sequential()\n",
        "\n",
        "model.add(Input(shape=(784,)))\n",
        "model.add(Dense(512))\n",
        "model.add(Activation('relu'))\n",
        "\n",
        "# model.add(Dropout(0.2))\n",
        "model.add(Dense(512))\n",
        "model.add(Activation('relu'))\n",
        "\n",
        "# model.add(Dropout(0.2))\n",
        "model.add(Dense(num_classes))\n",
        "model.add(Activation('softmax'))\n",
        "\n",
        "# show model summary\n",
        "model.summary()\n",
        "# # visualize the model\n",
        "dot_img_file = '/tmp/model_1.png'\n",
        "plot_model(model, to_file=dot_img_file, show_shapes=True)"
      ],
      "execution_count": 4,
      "outputs": [
        {
          "output_type": "stream",
          "name": "stdout",
          "text": [
            "Model: \"sequential\"\n",
            "_________________________________________________________________\n",
            " Layer (type)                Output Shape              Param #   \n",
            "=================================================================\n",
            " dense (Dense)               (None, 512)               401920    \n",
            "                                                                 \n",
            " activation (Activation)     (None, 512)               0         \n",
            "                                                                 \n",
            " dense_1 (Dense)             (None, 512)               262656    \n",
            "                                                                 \n",
            " activation_1 (Activation)   (None, 512)               0         \n",
            "                                                                 \n",
            " dense_2 (Dense)             (None, 10)                5130      \n",
            "                                                                 \n",
            " activation_2 (Activation)   (None, 10)                0         \n",
            "                                                                 \n",
            "=================================================================\n",
            "Total params: 669,706\n",
            "Trainable params: 669,706\n",
            "Non-trainable params: 0\n",
            "_________________________________________________________________\n"
          ]
        },
        {
          "output_type": "execute_result",
          "data": {
            "image/png": "[encoded data removed]",
            "text/plain": [
              "<IPython.core.display.Image object>"
            ]
          },
          "metadata": {},
          "execution_count": 4
        }
      ]
    },
    {
      "cell_type": "code",
      "metadata": {
        "id": "O-MgFRNdQ6kH",
        "outputId": "f4eb4870-14c9-4090-e9a1-e7e6527fe72e",
        "colab": {
          "base_uri": "https://localhost:8080/",
          "height": 696
        }
      },
      "source": [
        "## Prepare model architecture using Sequential API\n",
        "model = Sequential()\n",
        "\n",
        "model.add(Dense(512, activation='relu', input_shape=(784,)))\n",
        "# model.add(Dropout(0.2))\n",
        "model.add(Dense(512, activation='relu'))\n",
        "# model.add(Dropout(0.2))\n",
        "model.add(Dense(num_classes, activation='softmax'))\n",
        "\n",
        "\n",
        "# show model summary\n",
        "model.summary()\n",
        "# # visualize the model\n",
        "dot_img_file = '/tmp/model_1.png'\n",
        "plot_model(model, to_file=dot_img_file, show_shapes=True)"
      ],
      "execution_count": 5,
      "outputs": [
        {
          "output_type": "stream",
          "name": "stdout",
          "text": [
            "Model: \"sequential_1\"\n",
            "_________________________________________________________________\n",
            " Layer (type)                Output Shape              Param #   \n",
            "=================================================================\n",
            " dense_3 (Dense)             (None, 512)               401920    \n",
            "                                                                 \n",
            " dense_4 (Dense)             (None, 512)               262656    \n",
            "                                                                 \n",
            " dense_5 (Dense)             (None, 10)                5130      \n",
            "                                                                 \n",
            "=================================================================\n",
            "Total params: 669,706\n",
            "Trainable params: 669,706\n",
            "Non-trainable params: 0\n",
            "_________________________________________________________________\n"
          ]
        },
        {
          "output_type": "execute_result",
          "data": {
            "image/png": "[encoded data removed]",
            "text/plain": [
              "<IPython.core.display.Image object>"
            ]
          },
          "metadata": {},
          "execution_count": 5
        }
      ]
    },
    {
      "cell_type": "code",
      "metadata": {
        "id": "RHszrYfaM0r3",
        "outputId": "afdf12c1-023b-47d4-8123-890408d601f6",
        "colab": {
          "base_uri": "https://localhost:8080/",
          "height": 1000
        }
      },
      "source": [
        "# Prepare model architecture using Functional API - long version\n",
        "\n",
        "input = Input(shape=(784,), name='input')\n",
        "x = Dense(512)(input)\n",
        "x = Activation('relu')(x)\n",
        "x = Dense(512)(x)\n",
        "x = Activation('relu')(x)\n",
        "x = Dense(num_classes)(x)\n",
        "output = Activation('softmax', name='output')(x)\n",
        "\n",
        "model = Model(inputs=[input], outputs=[output] )\n",
        "\n",
        "# show model summary\n",
        "model.summary()\n",
        "# # visualize the model\n",
        "dot_img_file = '/tmp/model_1.png'\n",
        "plot_model(model, to_file=dot_img_file, show_shapes=True)"
      ],
      "execution_count": 6,
      "outputs": [
        {
          "output_type": "stream",
          "name": "stdout",
          "text": [
            "Model: \"model\"\n",
            "_________________________________________________________________\n",
            " Layer (type)                Output Shape              Param #   \n",
            "=================================================================\n",
            " input (InputLayer)          [(None, 784)]             0         \n",
            "                                                                 \n",
            " dense_6 (Dense)             (None, 512)               401920    \n",
            "                                                                 \n",
            " activation_3 (Activation)   (None, 512)               0         \n",
            "                                                                 \n",
            " dense_7 (Dense)             (None, 512)               262656    \n",
            "                                                                 \n",
            " activation_4 (Activation)   (None, 512)               0         \n",
            "                                                                 \n",
            " dense_8 (Dense)             (None, 10)                5130      \n",
            "                                                                 \n",
            " output (Activation)         (None, 10)                0         \n",
            "                                                                 \n",
            "=================================================================\n",
            "Total params: 669,706\n",
            "Trainable params: 669,706\n",
            "Non-trainable params: 0\n",
            "_________________________________________________________________\n"
          ]
        },
        {
          "output_type": "execute_result",
          "data": {
            "image/png": "[encoded data removed]",
            "text/plain": [
              "<IPython.core.display.Image object>"
            ]
          },
          "metadata": {},
          "execution_count": 6
        }
      ]
    },
    {
      "cell_type": "code",
      "metadata": {
        "id": "7HIESN4DTvNL",
        "outputId": "c89ae1c4-a3fe-4c65-f939-d91432658471",
        "colab": {
          "base_uri": "https://localhost:8080/",
          "height": 733
        }
      },
      "source": [
        "# Prepare model architecture using Functional API - concise\n",
        "\n",
        "input = Input(shape=(784,), name='input')\n",
        "x = Dense(512, activation='relu', name='first_dense')(input)\n",
        "x = Dense(512, activation='relu', name='second_dense')(x)\n",
        "output = Dense(num_classes, activation='softmax', name='output')(x)\n",
        "\n",
        "model = Model(inputs=[input], outputs=[output] )\n",
        "\n",
        "\n",
        "# show model summary\n",
        "model.summary()\n",
        "# # visualize the model\n",
        "dot_img_file = '/tmp/model_1.png'\n",
        "plot_model(model, to_file=dot_img_file, show_shapes=True)\n",
        "\n"
      ],
      "execution_count": 7,
      "outputs": [
        {
          "output_type": "stream",
          "name": "stdout",
          "text": [
            "Model: \"model_1\"\n",
            "_________________________________________________________________\n",
            " Layer (type)                Output Shape              Param #   \n",
            "=================================================================\n",
            " input (InputLayer)          [(None, 784)]             0         \n",
            "                                                                 \n",
            " first_dense (Dense)         (None, 512)               401920    \n",
            "                                                                 \n",
            " second_dense (Dense)        (None, 512)               262656    \n",
            "                                                                 \n",
            " output (Dense)              (None, 10)                5130      \n",
            "                                                                 \n",
            "=================================================================\n",
            "Total params: 669,706\n",
            "Trainable params: 669,706\n",
            "Non-trainable params: 0\n",
            "_________________________________________________________________\n"
          ]
        },
        {
          "output_type": "execute_result",
          "data": {
            "image/png": "[encoded data removed]",
            "text/plain": [
              "<IPython.core.display.Image object>"
            ]
          },
          "metadata": {},
          "execution_count": 7
        }
      ]
    },
    {
      "cell_type": "markdown",
      "metadata": {
        "id": "0TBGNn5BVsHL"
      },
      "source": [
        "In order to use the model it needs to be \"compiled\" first in Keras. \n",
        "Compilation process prepares the model for training - sets the optimizer (backpropagation technique), loss, metrics etc."
      ]
    },
    {
      "cell_type": "code",
      "metadata": {
        "id": "VaTvcUv5KDNr"
      },
      "source": [
        "# set params using text (good for built-in types)\n",
        "model.compile(loss='categorical_crossentropy',\n",
        "              optimizer='rmsprop',\n",
        "              metrics=['accuracy'])\n"
      ],
      "execution_count": 8,
      "outputs": []
    },
    {
      "cell_type": "code",
      "metadata": {
        "id": "Vh_DuIZ4daTj"
      },
      "source": [
        "# OR set params using objects (so we can even use custom losses, metrics or optimizers)\n",
        "model.compile(loss=losses.categorical_crossentropy,\n",
        "              optimizer=RMSprop(),\n",
        "              metrics=[metrics.categorical_accuracy])"
      ],
      "execution_count": 9,
      "outputs": []
    },
    {
      "cell_type": "markdown",
      "metadata": {
        "id": "1cYt6rvQp1AP"
      },
      "source": [
        "Choosing the correct optimizer and setting the parameters (simplest of which is Learning Rate) can increase the speed of training step and/or accuracy of the resulting model. For more information please check:\n",
        "\n",
        "https://www.dlology.com/blog/quick-notes-on-how-to-choose-optimizer-in-keras/\n",
        "\n",
        "https://keras.io/optimizers/"
      ]
    },
    {
      "cell_type": "code",
      "metadata": {
        "id": "LBnPLB0JKDQF",
        "outputId": "bf14eb51-fae9-486a-a14c-35dfe25c629e",
        "colab": {
          "base_uri": "https://localhost:8080/"
        }
      },
      "source": [
        "# Train model\n",
        "history = model.fit(x_train, y_train,\n",
        "                    batch_size=batch_size,\n",
        "                    epochs=epochs,\n",
        "                    verbose=1,\n",
        "                    validation_data=(x_test, y_test))\n",
        "\n",
        "score = model.evaluate(x_test, y_test, verbose=0)\n",
        "print('Test loss:', score[0])\n",
        "print('Test accuracy:', score[1])"
      ],
      "execution_count": 10,
      "outputs": [
        {
          "output_type": "stream",
          "name": "stdout",
          "text": [
            "Epoch 1/20\n",
            "469/469 [==============================] - 5s 6ms/step - loss: 0.2191 - categorical_accuracy: 0.9326 - val_loss: 0.1045 - val_categorical_accuracy: 0.9675\n",
            "Epoch 2/20\n",
            "469/469 [==============================] - 3s 6ms/step - loss: 0.0822 - categorical_accuracy: 0.9744 - val_loss: 0.0781 - val_categorical_accuracy: 0.9751\n",
            "Epoch 3/20\n",
            "469/469 [==============================] - 3s 6ms/step - loss: 0.0549 - categorical_accuracy: 0.9833 - val_loss: 0.0717 - val_categorical_accuracy: 0.9793\n",
            "Epoch 4/20\n",
            "469/469 [==============================] - 3s 6ms/step - loss: 0.0384 - categorical_accuracy: 0.9881 - val_loss: 0.0778 - val_categorical_accuracy: 0.9799\n",
            "Epoch 5/20\n",
            "469/469 [==============================] - 3s 6ms/step - loss: 0.0291 - categorical_accuracy: 0.9906 - val_loss: 0.1041 - val_categorical_accuracy: 0.9778\n",
            "Epoch 6/20\n",
            "469/469 [==============================] - 3s 6ms/step - loss: 0.0220 - categorical_accuracy: 0.9926 - val_loss: 0.0867 - val_categorical_accuracy: 0.9801\n",
            "Epoch 7/20\n",
            "469/469 [==============================] - 3s 6ms/step - loss: 0.0180 - categorical_accuracy: 0.9940 - val_loss: 0.1064 - val_categorical_accuracy: 0.9810\n",
            "Epoch 8/20\n",
            "469/469 [==============================] - 3s 6ms/step - loss: 0.0164 - categorical_accuracy: 0.9950 - val_loss: 0.0906 - val_categorical_accuracy: 0.9816\n",
            "Epoch 9/20\n",
            "469/469 [==============================] - 3s 6ms/step - loss: 0.0138 - categorical_accuracy: 0.9958 - val_loss: 0.1031 - val_categorical_accuracy: 0.9828\n",
            "Epoch 10/20\n",
            "469/469 [==============================] - 3s 6ms/step - loss: 0.0115 - categorical_accuracy: 0.9965 - val_loss: 0.1213 - val_categorical_accuracy: 0.9826\n",
            "Epoch 11/20\n",
            "469/469 [==============================] - 3s 6ms/step - loss: 0.0108 - categorical_accuracy: 0.9969 - val_loss: 0.1278 - val_categorical_accuracy: 0.9798\n",
            "Epoch 12/20\n",
            "469/469 [==============================] - 3s 6ms/step - loss: 0.0102 - categorical_accuracy: 0.9972 - val_loss: 0.1233 - val_categorical_accuracy: 0.9851\n",
            "Epoch 13/20\n",
            "469/469 [==============================] - 3s 6ms/step - loss: 0.0096 - categorical_accuracy: 0.9973 - val_loss: 0.1118 - val_categorical_accuracy: 0.9855\n",
            "Epoch 14/20\n",
            "469/469 [==============================] - 3s 6ms/step - loss: 0.0083 - categorical_accuracy: 0.9977 - val_loss: 0.1480 - val_categorical_accuracy: 0.9822\n",
            "Epoch 15/20\n",
            "469/469 [==============================] - 3s 6ms/step - loss: 0.0073 - categorical_accuracy: 0.9982 - val_loss: 0.1465 - val_categorical_accuracy: 0.9815\n",
            "Epoch 16/20\n",
            "469/469 [==============================] - 3s 6ms/step - loss: 0.0055 - categorical_accuracy: 0.9984 - val_loss: 0.1632 - val_categorical_accuracy: 0.9817\n",
            "Epoch 17/20\n",
            "469/469 [==============================] - 3s 6ms/step - loss: 0.0052 - categorical_accuracy: 0.9986 - val_loss: 0.1628 - val_categorical_accuracy: 0.9824\n",
            "Epoch 18/20\n",
            "469/469 [==============================] - 3s 6ms/step - loss: 0.0053 - categorical_accuracy: 0.9984 - val_loss: 0.1857 - val_categorical_accuracy: 0.9815\n",
            "Epoch 19/20\n",
            "469/469 [==============================] - 3s 6ms/step - loss: 0.0062 - categorical_accuracy: 0.9985 - val_loss: 0.1814 - val_categorical_accuracy: 0.9814\n",
            "Epoch 20/20\n",
            "469/469 [==============================] - 3s 6ms/step - loss: 0.0057 - categorical_accuracy: 0.9984 - val_loss: 0.1632 - val_categorical_accuracy: 0.9850\n",
            "Test loss: 0.16322742402553558\n",
            "Test accuracy: 0.9850000143051147\n"
          ]
        }
      ]
    },
    {
      "cell_type": "code",
      "metadata": {
        "id": "gKrAmRwXd3or",
        "outputId": "ca3be23d-21d0-450d-e96e-fac063e5180b",
        "colab": {
          "base_uri": "https://localhost:8080/"
        }
      },
      "source": [
        "# history object stores the history of training as a dictionary\n",
        "\n",
        "# Available data:\n",
        "print(history.history.keys())"
      ],
      "execution_count": 11,
      "outputs": [
        {
          "output_type": "stream",
          "name": "stdout",
          "text": [
            "dict_keys(['loss', 'categorical_accuracy', 'val_loss', 'val_categorical_accuracy'])\n"
          ]
        }
      ]
    },
    {
      "cell_type": "code",
      "metadata": {
        "id": "4Mb2Xf1sKDUo",
        "outputId": "5f8a02fb-943c-4a43-d615-471c43960e1f",
        "colab": {
          "base_uri": "https://localhost:8080/",
          "height": 573
        }
      },
      "source": [
        "# visualize training history \n",
        "plt.plot(history.history['categorical_accuracy'])\n",
        "plt.plot(history.history['val_categorical_accuracy'])\n",
        "plt.title('Model accuracy')\n",
        "plt.ylabel('Accuracy')\n",
        "plt.xlabel('Epoch')\n",
        "plt.legend(['Train', 'Test'], loc='upper left')\n",
        "plt.show()\n",
        "\n",
        "# Plot training & validation loss values\n",
        "plt.plot(history.history['loss'])\n",
        "plt.plot(history.history['val_loss'])\n",
        "plt.title('Model loss')\n",
        "plt.ylabel('Loss')\n",
        "plt.xlabel('Epoch')\n",
        "plt.legend(['Train', 'Test'], loc='upper left')\n",
        "plt.show()"
      ],
      "execution_count": 12,
      "outputs": [
        {
          "output_type": "display_data",
          "data": {
            "image/png": "[encoded data removed]",
            "text/plain": [
              "<Figure size 432x288 with 1 Axes>"
            ]
          },
          "metadata": {
            "needs_background": "light"
          }
        },
        {
          "output_type": "display_data",
          "data": {
            "image/png": "[encoded data removed]",
            "text/plain": [
              "<Figure size 432x288 with 1 Axes>"
            ]
          },
          "metadata": {
            "needs_background": "light"
          }
        }
      ]
    },
    {
      "cell_type": "markdown",
      "metadata": {
        "id": "IZMM8fSGh4mZ"
      },
      "source": [
        "Models can be saved to disk, for later use (inference) or for retraining"
      ]
    },
    {
      "cell_type": "code",
      "metadata": {
        "id": "Mt_jZ6_nh4YO",
        "outputId": "2851768e-d081-4c89-a353-a3e7f4bede51",
        "colab": {
          "base_uri": "https://localhost:8080/"
        }
      },
      "source": [
        "modelPath = 'savedModel.h5'\n",
        "\n",
        "model.save(modelPath)\n",
        "loadedModel = load_model(modelPath)\n",
        "loadedModel.summary()"
      ],
      "execution_count": 13,
      "outputs": [
        {
          "output_type": "stream",
          "name": "stdout",
          "text": [
            "Model: \"model_1\"\n",
            "_________________________________________________________________\n",
            " Layer (type)                Output Shape              Param #   \n",
            "=================================================================\n",
            " input (InputLayer)          [(None, 784)]             0         \n",
            "                                                                 \n",
            " first_dense (Dense)         (None, 512)               401920    \n",
            "                                                                 \n",
            " second_dense (Dense)        (None, 512)               262656    \n",
            "                                                                 \n",
            " output (Dense)              (None, 10)                5130      \n",
            "                                                                 \n",
            "=================================================================\n",
            "Total params: 669,706\n",
            "Trainable params: 669,706\n",
            "Non-trainable params: 0\n",
            "_________________________________________________________________\n"
          ]
        }
      ]
    },
    {
      "cell_type": "markdown",
      "metadata": {
        "id": "1QXq_UXcf8p0"
      },
      "source": [
        "The model object remebers it's state for the current session - which means, that it can be \"refined\" (fine-tuned) by simply performing more iterations"
      ]
    },
    {
      "cell_type": "code",
      "metadata": {
        "id": "FoE_EQ9hKDW4",
        "outputId": "bfd9f103-0288-45c1-beb1-f03b5161795c",
        "colab": {
          "base_uri": "https://localhost:8080/",
          "height": 792
        }
      },
      "source": [
        "# Refine model\n",
        "startingEpoch = epochs\n",
        "epochsToAdd = 5\n",
        "\n",
        "history = loadedModel.fit(x_train, y_train,\n",
        "                    batch_size=batch_size,\n",
        "                    epochs=(startingEpoch + epochsToAdd), # total epochs\n",
        "                    verbose=1,\n",
        "                    validation_data=(x_test, y_test), \n",
        "                    initial_epoch = startingEpoch # we start counting at this epoch\n",
        "                    )\n",
        "\n",
        "score = loadedModel.evaluate(x_test, y_test, verbose=0)\n",
        "print('Test loss:', score[0])\n",
        "print('Test accuracy:', score[1])\n",
        "\n",
        "plt.plot(history.history['categorical_accuracy'])\n",
        "plt.plot(history.history['val_categorical_accuracy'])\n",
        "plt.title('Model accuracy')\n",
        "plt.ylabel('Accuracy')\n",
        "plt.xlabel('Epoch')\n",
        "plt.legend(['Train', 'Test'], loc='upper left')\n",
        "plt.show()\n",
        "\n",
        "# Plot training & validation loss values\n",
        "plt.plot(history.history['loss'])\n",
        "plt.plot(history.history['val_loss'])\n",
        "plt.title('Model loss')\n",
        "plt.ylabel('Loss')\n",
        "plt.xlabel('Epoch')\n",
        "plt.legend(['Train', 'Test'], loc='upper left')\n",
        "plt.show()"
      ],
      "execution_count": 14,
      "outputs": [
        {
          "output_type": "stream",
          "name": "stdout",
          "text": [
            "Epoch 21/25\n",
            "469/469 [==============================] - 3s 6ms/step - loss: 0.0045 - categorical_accuracy: 0.9988 - val_loss: 0.1936 - val_categorical_accuracy: 0.9807\n",
            "Epoch 22/25\n",
            "469/469 [==============================] - 3s 6ms/step - loss: 0.0056 - categorical_accuracy: 0.9984 - val_loss: 0.2049 - val_categorical_accuracy: 0.9826\n",
            "Epoch 23/25\n",
            "469/469 [==============================] - 3s 6ms/step - loss: 0.0056 - categorical_accuracy: 0.9987 - val_loss: 0.1857 - val_categorical_accuracy: 0.9823\n",
            "Epoch 24/25\n",
            "469/469 [==============================] - 3s 6ms/step - loss: 0.0051 - categorical_accuracy: 0.9988 - val_loss: 0.2124 - val_categorical_accuracy: 0.9815\n",
            "Epoch 25/25\n",
            "469/469 [==============================] - 3s 6ms/step - loss: 0.0053 - categorical_accuracy: 0.9988 - val_loss: 0.1959 - val_categorical_accuracy: 0.9831\n",
            "Test loss: 0.19585870206356049\n",
            "Test accuracy: 0.9830999970436096\n"
          ]
        },
        {
          "output_type": "display_data",
          "data": {
            "image/png": "[encoded data removed]",
            "text/plain": [
              "<Figure size 432x288 with 1 Axes>"
            ]
          },
          "metadata": {
            "needs_background": "light"
          }
        },
        {
          "output_type": "display_data",
          "data": {
            "image/png": "[encoded data removed]",
            "text/plain": [
              "<Figure size 432x288 with 1 Axes>"
            ]
          },
          "metadata": {
            "needs_background": "light"
          }
        }
      ]
    },
    {
      "cell_type": "markdown",
      "metadata": {
        "id": "9vsvQdM-yF31"
      },
      "source": [
        "It is also possible to save only weights of the model, or even just the architecture.\n",
        "\n",
        "This can be very usefull to either store the model, but without the state of the optimizer or to save the architecture as a proof of concept, to then train properly on a different or extended dataset\n"
      ]
    },
    {
      "cell_type": "code",
      "metadata": {
        "id": "rimsRKF3yMFq",
        "outputId": "47981269-00d1-429b-fc77-11dae3faa23b",
        "colab": {
          "base_uri": "https://localhost:8080/"
        }
      },
      "source": [
        "# saving architecture to JSON file\n",
        "json_config = model.to_json()\n",
        "reinitialized_model = keras.models.model_from_json(json_config)\n",
        "\n",
        "with open(\"model_architecture.json\", \"w\") as f:\n",
        "    f.write(json_config)\n",
        "    \n",
        "# saving just weights\n",
        "model.save_weights('model_weights.h5')\n",
        "\n",
        "\n",
        "# loading architecture and weights\n",
        "with open('model_architecture.json', 'r') as f:\n",
        "    model = model_from_json(f.read())\n",
        "\n",
        "# Load weights into the new model\n",
        "model.load_weights('model_weights.h5')\n",
        "\n",
        "model.summary()"
      ],
      "execution_count": 15,
      "outputs": [
        {
          "output_type": "stream",
          "name": "stdout",
          "text": [
            "Model: \"model_1\"\n",
            "_________________________________________________________________\n",
            " Layer (type)                Output Shape              Param #   \n",
            "=================================================================\n",
            " input (InputLayer)          [(None, 784)]             0         \n",
            "                                                                 \n",
            " first_dense (Dense)         (None, 512)               401920    \n",
            "                                                                 \n",
            " second_dense (Dense)        (None, 512)               262656    \n",
            "                                                                 \n",
            " output (Dense)              (None, 10)                5130      \n",
            "                                                                 \n",
            "=================================================================\n",
            "Total params: 669,706\n",
            "Trainable params: 669,706\n",
            "Non-trainable params: 0\n",
            "_________________________________________________________________\n"
          ]
        }
      ]
    },
    {
      "cell_type": "markdown",
      "metadata": {
        "id": "CJ0j8hIv00u9"
      },
      "source": [
        "Training can be a long process, so it might be necessary to introduce some restrictions and fail-safes.\n",
        "\n",
        "If the training is stopped prematurely due to an error, then it is possibe to loose progress. Therefore it is always advisable to use the checkpointing system in Keras\n",
        "\n",
        "In order to avoid overfitting it is also advisable to terminate the training task earlier than expected, based on some criteria (for example trend of chosen metric)\n",
        "\n",
        "Both theese tasks can be achieved simultaneously using callbacks"
      ]
    },
    {
      "cell_type": "code",
      "metadata": {
        "id": "dhGu4cY91vY1",
        "outputId": "253514ed-b314-4c2b-fc73-a566293fddb7",
        "colab": {
          "base_uri": "https://localhost:8080/"
        }
      },
      "source": [
        "# Early stopping and checkpoint system\n",
        "\n",
        "checkpoint_path = 'checkpoint-{epoch:02d}-{val_categorical_accuracy:.2f}.hdf5'\n",
        "\n",
        "# patience - how many epochs to wait (max) before the system decides that the \n",
        "# trend of measured metric deviated from the desired. For example if monitoring \n",
        "# the validation loss and param set to 30 epoch if during these epochs there is no\n",
        "# overall downward trend, then the training will be stopped\n",
        "\n",
        "from keras.callbacks import Callback\n",
        "\n",
        "# https://www.tensorflow.org/guide/keras/custom_callback\n",
        "\n",
        "class CustomCallback(Callback):\n",
        "    def on_epoch_end(self, epoch, logs=None):\n",
        "        print(f'Epoch {epoch} finished')\n",
        "\n",
        "    def on_train_end(self, logs=None):\n",
        "        print('Training over!')\n",
        "\n",
        "keras_callbacks   = [\n",
        "      EarlyStopping(monitor='val_loss', patience=5, mode='min', min_delta=0.0001),\n",
        "      ModelCheckpoint(checkpoint_path, monitor='val_loss', save_best_only=False, mode='min'),\n",
        "      CustomCallback()\n",
        "]\n",
        "\n",
        "model.compile(loss=keras.losses.categorical_crossentropy, optimizer=keras.optimizers.Adam(),metrics=[metrics.categorical_accuracy] )\n",
        "\n",
        "epochs = 100\n",
        "\n",
        "history = model.fit(x_train, y_train,\n",
        "                    batch_size=batch_size,\n",
        "                    epochs=epochs,\n",
        "                    verbose=1,\n",
        "                    validation_data=(x_test, y_test),\n",
        "                    callbacks=keras_callbacks)\n",
        "\n",
        "\n"
      ],
      "execution_count": 16,
      "outputs": [
        {
          "output_type": "stream",
          "name": "stdout",
          "text": [
            "Epoch 1/100\n",
            "460/469 [============================>.] - ETA: 0s - loss: 0.0183 - categorical_accuracy: 0.9958Epoch 0 finished\n",
            "469/469 [==============================] - 3s 6ms/step - loss: 0.0182 - categorical_accuracy: 0.9958 - val_loss: 0.1363 - val_categorical_accuracy: 0.9810\n",
            "Epoch 2/100\n",
            "467/469 [============================>.] - ETA: 0s - loss: 0.0164 - categorical_accuracy: 0.9960Epoch 1 finished\n",
            "469/469 [==============================] - 3s 5ms/step - loss: 0.0164 - categorical_accuracy: 0.9960 - val_loss: 0.1294 - val_categorical_accuracy: 0.9756\n",
            "Epoch 3/100\n",
            "459/469 [============================>.] - ETA: 0s - loss: 0.0127 - categorical_accuracy: 0.9964Epoch 2 finished\n",
            "469/469 [==============================] - 3s 5ms/step - loss: 0.0127 - categorical_accuracy: 0.9964 - val_loss: 0.1166 - val_categorical_accuracy: 0.9818\n",
            "Epoch 4/100\n",
            "463/469 [============================>.] - ETA: 0s - loss: 0.0135 - categorical_accuracy: 0.9964Epoch 3 finished\n",
            "469/469 [==============================] - 2s 5ms/step - loss: 0.0135 - categorical_accuracy: 0.9965 - val_loss: 0.1213 - val_categorical_accuracy: 0.9818\n",
            "Epoch 5/100\n",
            "468/469 [============================>.] - ETA: 0s - loss: 0.0083 - categorical_accuracy: 0.9977Epoch 4 finished\n",
            "469/469 [==============================] - 3s 5ms/step - loss: 0.0083 - categorical_accuracy: 0.9977 - val_loss: 0.1010 - val_categorical_accuracy: 0.9826\n",
            "Epoch 6/100\n",
            "460/469 [============================>.] - ETA: 0s - loss: 0.0123 - categorical_accuracy: 0.9963Epoch 5 finished\n",
            "469/469 [==============================] - 2s 5ms/step - loss: 0.0125 - categorical_accuracy: 0.9962 - val_loss: 0.1143 - val_categorical_accuracy: 0.9787\n",
            "Epoch 7/100\n",
            "460/469 [============================>.] - ETA: 0s - loss: 0.0152 - categorical_accuracy: 0.9954Epoch 6 finished\n",
            "469/469 [==============================] - 2s 5ms/step - loss: 0.0152 - categorical_accuracy: 0.9955 - val_loss: 0.1437 - val_categorical_accuracy: 0.9774\n",
            "Epoch 8/100\n",
            "462/469 [============================>.] - ETA: 0s - loss: 0.0084 - categorical_accuracy: 0.9975Epoch 7 finished\n",
            "469/469 [==============================] - 2s 5ms/step - loss: 0.0087 - categorical_accuracy: 0.9975 - val_loss: 0.1154 - val_categorical_accuracy: 0.9819\n",
            "Epoch 9/100\n",
            "458/469 [============================>.] - ETA: 0s - loss: 0.0122 - categorical_accuracy: 0.9966Epoch 8 finished\n",
            "469/469 [==============================] - 2s 5ms/step - loss: 0.0124 - categorical_accuracy: 0.9965 - val_loss: 0.1101 - val_categorical_accuracy: 0.9819\n",
            "Epoch 10/100\n",
            "459/469 [============================>.] - ETA: 0s - loss: 0.0065 - categorical_accuracy: 0.9979Epoch 9 finished\n",
            "469/469 [==============================] - 3s 5ms/step - loss: 0.0065 - categorical_accuracy: 0.9979 - val_loss: 0.1042 - val_categorical_accuracy: 0.9832\n",
            "Training over!\n"
          ]
        }
      ]
    },
    {
      "cell_type": "code",
      "metadata": {
        "id": "fjnc-X0y4XrZ",
        "outputId": "f1556293-0deb-4850-83a1-fd56a5bc6150",
        "colab": {
          "base_uri": "https://localhost:8080/"
        }
      },
      "source": [
        "history.history.keys()"
      ],
      "execution_count": 17,
      "outputs": [
        {
          "output_type": "execute_result",
          "data": {
            "text/plain": [
              "dict_keys(['loss', 'categorical_accuracy', 'val_loss', 'val_categorical_accuracy'])"
            ]
          },
          "metadata": {},
          "execution_count": 17
        }
      ]
    },
    {
      "cell_type": "code",
      "metadata": {
        "id": "MFnkZ-Q94WDT",
        "outputId": "aa2f8538-344e-4855-9e3e-b99573b1e0a1",
        "colab": {
          "base_uri": "https://localhost:8080/",
          "height": 573
        }
      },
      "source": [
        "# visualize training history \n",
        "plt.plot(history.history['categorical_accuracy'])\n",
        "plt.plot(history.history['val_categorical_accuracy'])\n",
        "plt.title('Model accuracy')\n",
        "plt.ylabel('Accuracy')\n",
        "plt.xlabel('Epoch')\n",
        "plt.legend(['Train', 'Test'], loc='upper left')\n",
        "plt.show()\n",
        "\n",
        "# Plot training & validation loss values\n",
        "plt.plot(history.history['loss'])\n",
        "plt.plot(history.history['val_loss'])\n",
        "plt.title('Model loss')\n",
        "plt.ylabel('Loss')\n",
        "plt.xlabel('Epoch')\n",
        "plt.legend(['Train', 'Test'], loc='upper left')\n",
        "plt.show()"
      ],
      "execution_count": 18,
      "outputs": [
        {
          "output_type": "display_data",
          "data": {
            "image/png": "[encoded data removed]",
            "text/plain": [
              "<Figure size 432x288 with 1 Axes>"
            ]
          },
          "metadata": {
            "needs_background": "light"
          }
        },
        {
          "output_type": "display_data",
          "data": {
            "image/png": "[encoded data removed]",
            "text/plain": [
              "<Figure size 432x288 with 1 Axes>"
            ]
          },
          "metadata": {
            "needs_background": "light"
          }
        }
      ]
    },
    {
      "cell_type": "markdown",
      "metadata": {
        "id": "v91iXKvdx7nu"
      },
      "source": [
        "TASK 1:\n",
        "- Implement an MLP network using Keras framework, using the same architecture as in your previous homework (MLP from scratch). Compare the results (train time and accuracy) on your own datasets.\n",
        "- Perform manual hyperparameter tuning - try to find optimal architecture for each dataset (using Keras), by tuning the number of layers, number of neurons ets. "
      ]
    },
    {
      "cell_type": "markdown",
      "source": [
        "### Import previously created dataset (x, o, + images)"
      ],
      "metadata": {
        "id": "F7eso-3F2UO6"
      }
    },
    {
      "cell_type": "code",
      "source": [
        "from google.colab import drive\n",
        "drive.mount('/content/drive')\n",
        "\n",
        "X = np.load('drive/MyDrive/lab2-dataset/X.npy')\n",
        "y = np.load('drive/MyDrive/lab2-dataset/y.npy')\n",
        "bb = np.load('drive/MyDrive/lab2-dataset/bb.npy')\n",
        "\n",
        "X = (X / 255.).reshape(len(X), 32*32*3)\n",
        "\n",
        "X_train, X_test, y_train, y_test = train_test_split(X, y, test_size=0.1, random_state=42)\n",
        "\n",
        "print(X_train.shape)\n",
        "print(y_train.shape)"
      ],
      "metadata": {
        "colab": {
          "base_uri": "https://localhost:8080/"
        },
        "id": "h8GJwXcM2Yzh",
        "outputId": "0ded10f6-70fc-4f14-9cff-c5fa238285d9"
      },
      "execution_count": 51,
      "outputs": [
        {
          "output_type": "stream",
          "name": "stdout",
          "text": [
            "Drive already mounted at /content/drive; to attempt to forcibly remount, call drive.mount(\"/content/drive\", force_remount=True).\n",
            "(811, 3072)\n",
            "(811,)\n"
          ]
        }
      ]
    },
    {
      "cell_type": "markdown",
      "source": [
        "### Import MLP from scratch architecture"
      ],
      "metadata": {
        "id": "UedlQDOT2E5L"
      }
    },
    {
      "cell_type": "code",
      "source": [
        "\"\"\"\n",
        "myNetwork class parameters:\n",
        "      neurons_count: int (number of neurons in layer)     \n",
        "      inputs_count: int (number of inputs to each neuron of layer)\n",
        "      weights: OPTIONAL - tuple of arrays (arrays of weights for each of layer)\n",
        "      biases: OPTIONAL - tuple of arrays (arrays of biases for each of layer)\n",
        "\"\"\"\n",
        "\n",
        "class myLayer:\n",
        "    def __init__(self, inputs_count, neuron_count, learning_rate=0.01, weights=None, biases=None):\n",
        "        self.learning_rate = learning_rate\n",
        "\n",
        "        # check if weights or biases are passed as an network argument, otherwise initialize it by default\n",
        "        if weights is not None:\n",
        "            self.weights = np.array(weights)  \n",
        "        else:  \n",
        "            self.weights = np.random.normal(scale=0.01, size=(neuron_count, inputs_count))\n",
        "\n",
        "        if biases is not None:\n",
        "            self.biases = np.array(biases)\n",
        "        else:  \n",
        "            self.biases = np.zeros(neuron_count)\n",
        "\n",
        "    def forward(self, inputs):\n",
        "        return np.dot(inputs, self.weights.T) + self.biases\n",
        "\n",
        "    def backward(self, input, grad):\n",
        "        grad_input = np.dot(grad, self.weights)\n",
        "        grad_weights = np.dot(input.T, grad)\n",
        "        grad_biases = grad.mean(axis=0) * input.shape[0]\n",
        "\n",
        "        self.weights = self.weights - self.learning_rate * grad_weights.T\n",
        "        self.biases = self.biases - self.learning_rate * grad_biases.T\n",
        "\n",
        "        return grad_input\n",
        "\n",
        "# ACTIVATION FUNCTIONS\n",
        "\n",
        "class sigmoid():\n",
        "    def forward(self, x):\n",
        "      return 1 / (1 + np.exp(-X))\n",
        "    def backward(self, x, grad):\n",
        "      sig_grad = x * (1 - x)\n",
        "      return grad * sig_grad\n",
        "\n",
        "class relu():\n",
        "    def forward(self, x):\n",
        "      return x * (x > 0)\n",
        "    def backward(self, x, grad):\n",
        "      re_grad = 1 * (x > 0)\n",
        "      return grad * re_grad\n",
        "\n",
        "class tanh():\n",
        "    def forward(self, x):\n",
        "      return (np.exp(x) - np.exp(-x)) / (np.exp(x) + np.exp(-x))\n",
        "    def backward(self, x, grad):\n",
        "      tan_grad = 1 - (np.exp(x) - np.exp(-x)) / (np.exp(x) + np.exp(-x))**2\n",
        "      return grad * tan_grad\n",
        "\n",
        "def softmax_crossentropy_with_logits(logits, reference_answers):\n",
        "    logits_for_answers = logits[np.arange(len(logits)),reference_answers]\n",
        "    xentropy = -logits_for_answers + np.log(np.sum(np.exp(logits),axis=-1))\n",
        "    return xentropy\n",
        "\n",
        "def grad_softmax_crossentropy_with_logits(logits, reference_answers):\n",
        "    ones_for_answers = np.zeros_like(logits)\n",
        "    ones_for_answers[np.arange(len(logits)),reference_answers] = 1\n",
        "    softmax = np.exp(logits) / np.exp(logits).sum(axis=-1, keepdims=True)\n",
        "    return (- ones_for_answers + softmax) / logits.shape[0]\n",
        "\n",
        "class myNetwork:\n",
        "    def __init__(self):\n",
        "        self.layers_instances = []\n",
        "\n",
        "    def add_layer(self, layer):\n",
        "        self.layers_instances.append(layer)\n",
        "\n",
        "    def forward(self, inputs):\n",
        "        self.inputs = [inputs]\n",
        "\n",
        "        current_state = np.array(inputs)\n",
        "        for layer in self.layers_instances:\n",
        "          current_state = layer.forward(current_state)\n",
        "          self.inputs.append(current_state)\n",
        "        return current_state\n",
        "\n",
        "    def backward(self, grad):\n",
        "        current_state = grad\n",
        "        for layer_index in range(len(self.layers_instances))[::-1]:\n",
        "          layer = self.layers_instances[layer_index]\n",
        "          current_state = layer.backward(self.inputs[layer_index], current_state)\n",
        "\n",
        "def iterate_minibatches(inputs, targets, batchsize, shuffle=False):\n",
        "    assert len(inputs) == len(targets)\n",
        "\n",
        "    if shuffle:\n",
        "        indices = np.random.permutation(len(inputs)) \n",
        "\n",
        "    for start_idx in trange(0, len(inputs) - batchsize + 1, batchsize, desc='minibatch iteration'):\n",
        "        if shuffle:\n",
        "            excerpt = indices[start_idx:start_idx + batchsize]\n",
        "        else:\n",
        "            excerpt = slice(start_idx, start_idx + batchsize)\n",
        "\n",
        "        yield inputs[excerpt], targets[excerpt]"
      ],
      "metadata": {
        "id": "KzzGHMhJaq_B"
      },
      "execution_count": 52,
      "outputs": []
    },
    {
      "cell_type": "markdown",
      "source": [
        "### Training MLP from scratch on x, o, + images dataset"
      ],
      "metadata": {
        "id": "XQ3O3tZY2vjQ"
      }
    },
    {
      "cell_type": "code",
      "source": [
        "MLP_scratch = myNetwork()\n",
        "MLP_scratch.add_layer(myLayer(32*32*3, 128))\n",
        "MLP_scratch.add_layer(relu())\n",
        "MLP_scratch.add_layer(myLayer(128, 32))\n",
        "MLP_scratch.add_layer(relu())\n",
        "MLP_scratch.add_layer(myLayer(32, 3))\n",
        "\n",
        "test_accuracy = []\n",
        "for epoch in range(20):\n",
        "    epoch_loss = []\n",
        "    for x_batch, y_batch in iterate_minibatches(X_train, y_train, batchsize=1, shuffle=True):\n",
        "\n",
        "        ### forward ###\n",
        "        logits = MLP_scratch.forward(x_batch)\n",
        "\n",
        "        ### loss calculation ###\n",
        "        loss = softmax_crossentropy_with_logits(logits, y_batch)\n",
        "        epoch_loss.append(np.mean(loss))\n",
        "\n",
        "        ### backward ###\n",
        "        loss_grad = grad_softmax_crossentropy_with_logits(logits, y_batch)\n",
        "        MLP_scratch.backward(loss_grad)\n",
        "\n",
        "    preds = []\n",
        "    for x_batch, _ in iterate_minibatches(X_test, y_test, batchsize=1, shuffle=False):\n",
        "        preds.append(np.argmax(MLP_scratch.forward(x_batch)))\n",
        "    test_accuracy.append(accuracy_score(y_test, preds))\n",
        "    print(f'\\nEpoch: {epoch + 1} \\t Loss: {np.mean(epoch_loss)} \\t Test accuracy: {accuracy_score(y_test, preds)} \\n')"
      ],
      "metadata": {
        "colab": {
          "base_uri": "https://localhost:8080/"
        },
        "id": "r2sNdhTL2Jwh",
        "outputId": "19356959-8491-4fef-85cf-58169102c247"
      },
      "execution_count": 53,
      "outputs": [
        {
          "output_type": "stream",
          "name": "stderr",
          "text": [
            "minibatch iteration: 100%|██████████| 811/811 [00:03<00:00, 224.78it/s]\n",
            "minibatch iteration: 100%|██████████| 91/91 [00:00<00:00, 5150.90it/s]\n"
          ]
        },
        {
          "output_type": "stream",
          "name": "stdout",
          "text": [
            "\n",
            "Epoch: 1 \t Loss: 1.099955511051251 \t Test accuracy: 0.43956043956043955 \n",
            "\n"
          ]
        },
        {
          "output_type": "stream",
          "name": "stderr",
          "text": [
            "minibatch iteration: 100%|██████████| 811/811 [00:03<00:00, 224.86it/s]\n",
            "minibatch iteration: 100%|██████████| 91/91 [00:00<00:00, 4314.15it/s]\n"
          ]
        },
        {
          "output_type": "stream",
          "name": "stdout",
          "text": [
            "\n",
            "Epoch: 2 \t Loss: 1.100469149093566 \t Test accuracy: 0.43956043956043955 \n",
            "\n"
          ]
        },
        {
          "output_type": "stream",
          "name": "stderr",
          "text": [
            "minibatch iteration: 100%|██████████| 811/811 [00:03<00:00, 225.83it/s]\n",
            "minibatch iteration: 100%|██████████| 91/91 [00:00<00:00, 3792.85it/s]\n"
          ]
        },
        {
          "output_type": "stream",
          "name": "stdout",
          "text": [
            "\n",
            "Epoch: 3 \t Loss: 1.0992494285354737 \t Test accuracy: 0.3076923076923077 \n",
            "\n"
          ]
        },
        {
          "output_type": "stream",
          "name": "stderr",
          "text": [
            "minibatch iteration: 100%|██████████| 811/811 [00:03<00:00, 225.25it/s]\n",
            "minibatch iteration: 100%|██████████| 91/91 [00:00<00:00, 5034.32it/s]\n"
          ]
        },
        {
          "output_type": "stream",
          "name": "stdout",
          "text": [
            "\n",
            "Epoch: 4 \t Loss: 1.0959086286716653 \t Test accuracy: 0.37362637362637363 \n",
            "\n"
          ]
        },
        {
          "output_type": "stream",
          "name": "stderr",
          "text": [
            "minibatch iteration: 100%|██████████| 811/811 [00:03<00:00, 224.67it/s]\n",
            "minibatch iteration: 100%|██████████| 91/91 [00:00<00:00, 5062.56it/s]\n"
          ]
        },
        {
          "output_type": "stream",
          "name": "stdout",
          "text": [
            "\n",
            "Epoch: 5 \t Loss: 1.0898231888651215 \t Test accuracy: 0.43956043956043955 \n",
            "\n"
          ]
        },
        {
          "output_type": "stream",
          "name": "stderr",
          "text": [
            "minibatch iteration: 100%|██████████| 811/811 [00:03<00:00, 224.23it/s]\n",
            "minibatch iteration: 100%|██████████| 91/91 [00:00<00:00, 5016.98it/s]\n"
          ]
        },
        {
          "output_type": "stream",
          "name": "stdout",
          "text": [
            "\n",
            "Epoch: 6 \t Loss: 1.0613309890363418 \t Test accuracy: 0.3076923076923077 \n",
            "\n"
          ]
        },
        {
          "output_type": "stream",
          "name": "stderr",
          "text": [
            "minibatch iteration: 100%|██████████| 811/811 [00:03<00:00, 225.46it/s]\n",
            "minibatch iteration: 100%|██████████| 91/91 [00:00<00:00, 4144.39it/s]\n"
          ]
        },
        {
          "output_type": "stream",
          "name": "stdout",
          "text": [
            "\n",
            "Epoch: 7 \t Loss: 0.9937016229255045 \t Test accuracy: 0.25274725274725274 \n",
            "\n"
          ]
        },
        {
          "output_type": "stream",
          "name": "stderr",
          "text": [
            "minibatch iteration: 100%|██████████| 811/811 [00:03<00:00, 227.06it/s]\n",
            "minibatch iteration: 100%|██████████| 91/91 [00:00<00:00, 4273.29it/s]\n"
          ]
        },
        {
          "output_type": "stream",
          "name": "stdout",
          "text": [
            "\n",
            "Epoch: 8 \t Loss: 0.8655082645053205 \t Test accuracy: 0.5934065934065934 \n",
            "\n"
          ]
        },
        {
          "output_type": "stream",
          "name": "stderr",
          "text": [
            "minibatch iteration: 100%|██████████| 811/811 [00:03<00:00, 225.16it/s]\n",
            "minibatch iteration: 100%|██████████| 91/91 [00:00<00:00, 4031.15it/s]\n"
          ]
        },
        {
          "output_type": "stream",
          "name": "stdout",
          "text": [
            "\n",
            "Epoch: 9 \t Loss: 0.6448015421019274 \t Test accuracy: 0.7582417582417582 \n",
            "\n"
          ]
        },
        {
          "output_type": "stream",
          "name": "stderr",
          "text": [
            "minibatch iteration: 100%|██████████| 811/811 [00:03<00:00, 221.70it/s]\n",
            "minibatch iteration: 100%|██████████| 91/91 [00:00<00:00, 4918.13it/s]\n"
          ]
        },
        {
          "output_type": "stream",
          "name": "stdout",
          "text": [
            "\n",
            "Epoch: 10 \t Loss: 0.49289873838387477 \t Test accuracy: 0.6703296703296703 \n",
            "\n"
          ]
        },
        {
          "output_type": "stream",
          "name": "stderr",
          "text": [
            "minibatch iteration: 100%|██████████| 811/811 [00:03<00:00, 222.73it/s]\n",
            "minibatch iteration: 100%|██████████| 91/91 [00:00<00:00, 4819.58it/s]\n"
          ]
        },
        {
          "output_type": "stream",
          "name": "stdout",
          "text": [
            "\n",
            "Epoch: 11 \t Loss: 0.39264487051575964 \t Test accuracy: 0.8681318681318682 \n",
            "\n"
          ]
        },
        {
          "output_type": "stream",
          "name": "stderr",
          "text": [
            "minibatch iteration: 100%|██████████| 811/811 [00:03<00:00, 223.16it/s]\n",
            "minibatch iteration: 100%|██████████| 91/91 [00:00<00:00, 4527.18it/s]\n"
          ]
        },
        {
          "output_type": "stream",
          "name": "stdout",
          "text": [
            "\n",
            "Epoch: 12 \t Loss: 0.3055623935659341 \t Test accuracy: 0.8351648351648352 \n",
            "\n"
          ]
        },
        {
          "output_type": "stream",
          "name": "stderr",
          "text": [
            "minibatch iteration: 100%|██████████| 811/811 [00:03<00:00, 222.54it/s]\n",
            "minibatch iteration: 100%|██████████| 91/91 [00:00<00:00, 4405.12it/s]\n"
          ]
        },
        {
          "output_type": "stream",
          "name": "stdout",
          "text": [
            "\n",
            "Epoch: 13 \t Loss: 0.2175536984846232 \t Test accuracy: 0.7472527472527473 \n",
            "\n"
          ]
        },
        {
          "output_type": "stream",
          "name": "stderr",
          "text": [
            "minibatch iteration: 100%|██████████| 811/811 [00:03<00:00, 224.96it/s]\n",
            "minibatch iteration: 100%|██████████| 91/91 [00:00<00:00, 4792.83it/s]\n"
          ]
        },
        {
          "output_type": "stream",
          "name": "stdout",
          "text": [
            "\n",
            "Epoch: 14 \t Loss: 0.1847308562854366 \t Test accuracy: 0.6923076923076923 \n",
            "\n"
          ]
        },
        {
          "output_type": "stream",
          "name": "stderr",
          "text": [
            "minibatch iteration: 100%|██████████| 811/811 [00:03<00:00, 223.96it/s]\n",
            "minibatch iteration: 100%|██████████| 91/91 [00:00<00:00, 4155.40it/s]\n"
          ]
        },
        {
          "output_type": "stream",
          "name": "stdout",
          "text": [
            "\n",
            "Epoch: 15 \t Loss: 0.12392661129925069 \t Test accuracy: 0.9010989010989011 \n",
            "\n"
          ]
        },
        {
          "output_type": "stream",
          "name": "stderr",
          "text": [
            "minibatch iteration: 100%|██████████| 811/811 [00:03<00:00, 223.63it/s]\n",
            "minibatch iteration: 100%|██████████| 91/91 [00:00<00:00, 4179.65it/s]\n"
          ]
        },
        {
          "output_type": "stream",
          "name": "stdout",
          "text": [
            "\n",
            "Epoch: 16 \t Loss: 0.20249123933347898 \t Test accuracy: 0.9120879120879121 \n",
            "\n"
          ]
        },
        {
          "output_type": "stream",
          "name": "stderr",
          "text": [
            "minibatch iteration: 100%|██████████| 811/811 [00:03<00:00, 222.35it/s]\n",
            "minibatch iteration: 100%|██████████| 91/91 [00:00<00:00, 5212.38it/s]\n"
          ]
        },
        {
          "output_type": "stream",
          "name": "stdout",
          "text": [
            "\n",
            "Epoch: 17 \t Loss: 0.11931044581204643 \t Test accuracy: 0.7472527472527473 \n",
            "\n"
          ]
        },
        {
          "output_type": "stream",
          "name": "stderr",
          "text": [
            "minibatch iteration: 100%|██████████| 811/811 [00:03<00:00, 222.44it/s]\n",
            "minibatch iteration: 100%|██████████| 91/91 [00:00<00:00, 4192.97it/s]\n"
          ]
        },
        {
          "output_type": "stream",
          "name": "stdout",
          "text": [
            "\n",
            "Epoch: 18 \t Loss: 0.11423361600160534 \t Test accuracy: 0.967032967032967 \n",
            "\n"
          ]
        },
        {
          "output_type": "stream",
          "name": "stderr",
          "text": [
            "minibatch iteration: 100%|██████████| 811/811 [00:03<00:00, 224.44it/s]\n",
            "minibatch iteration: 100%|██████████| 91/91 [00:00<00:00, 3866.93it/s]\n"
          ]
        },
        {
          "output_type": "stream",
          "name": "stdout",
          "text": [
            "\n",
            "Epoch: 19 \t Loss: 0.09415975767262239 \t Test accuracy: 0.8461538461538461 \n",
            "\n"
          ]
        },
        {
          "output_type": "stream",
          "name": "stderr",
          "text": [
            "minibatch iteration: 100%|██████████| 811/811 [00:03<00:00, 221.95it/s]\n",
            "minibatch iteration: 100%|██████████| 91/91 [00:00<00:00, 4911.81it/s]"
          ]
        },
        {
          "output_type": "stream",
          "name": "stdout",
          "text": [
            "\n",
            "Epoch: 20 \t Loss: 0.03357638623385325 \t Test accuracy: 0.945054945054945 \n",
            "\n"
          ]
        },
        {
          "output_type": "stream",
          "name": "stderr",
          "text": [
            "\n"
          ]
        }
      ]
    },
    {
      "cell_type": "markdown",
      "source": [
        "### Training MLP created using Keras on x, o, + images dataset"
      ],
      "metadata": {
        "id": "XuaLXmcy6IV8"
      }
    },
    {
      "cell_type": "code",
      "source": [
        "y_train = keras.utils.to_categorical(y_train, 3)\n",
        "y_test = keras.utils.to_categorical(y_test, 3)\n",
        "\n",
        "MLP_keras = Sequential()\n",
        "\n",
        "MLP_keras.add(Dense(128, activation='relu', input_shape=(32*32*3,)))\n",
        "MLP_keras.add(Dense(32, activation='relu'))\n",
        "MLP_keras.add(Dense(3, activation='softmax'))\n",
        "\n",
        "\n",
        "MLP_keras.compile(loss='categorical_crossentropy',\n",
        "              optimizer='adam',\n",
        "              metrics=['accuracy'])\n",
        "\n",
        "history = MLP_keras.fit(X_train, y_train,\n",
        "                    batch_size=1,\n",
        "                    epochs=20,\n",
        "                    verbose=1,\n",
        "                    validation_data=(X_test, y_test))\n",
        "\n",
        "score = MLP_keras.evaluate(X_test, y_test, verbose=0)\n",
        "print('Test loss:', score[0])\n",
        "print('Test accuracy:', score[1])"
      ],
      "metadata": {
        "colab": {
          "base_uri": "https://localhost:8080/"
        },
        "id": "7De9ddPo6IEe",
        "outputId": "1e3495ea-8eba-4aea-d579-dedabc537b47"
      },
      "execution_count": 54,
      "outputs": [
        {
          "output_type": "stream",
          "name": "stdout",
          "text": [
            "Epoch 1/20\n",
            "811/811 [==============================] - 3s 4ms/step - loss: 1.1880 - accuracy: 0.3231 - val_loss: 1.0738 - val_accuracy: 0.3736\n",
            "Epoch 2/20\n",
            "811/811 [==============================] - 3s 4ms/step - loss: 1.0438 - accuracy: 0.4291 - val_loss: 1.1116 - val_accuracy: 0.4066\n",
            "Epoch 3/20\n",
            "811/811 [==============================] - 3s 3ms/step - loss: 0.9334 - accuracy: 0.5413 - val_loss: 0.9506 - val_accuracy: 0.5165\n",
            "Epoch 4/20\n",
            "811/811 [==============================] - 3s 4ms/step - loss: 0.7685 - accuracy: 0.6400 - val_loss: 0.8672 - val_accuracy: 0.5495\n",
            "Epoch 5/20\n",
            "811/811 [==============================] - 3s 4ms/step - loss: 0.5151 - accuracy: 0.7818 - val_loss: 0.6463 - val_accuracy: 0.6703\n",
            "Epoch 6/20\n",
            "811/811 [==============================] - 3s 4ms/step - loss: 0.3798 - accuracy: 0.8557 - val_loss: 0.4685 - val_accuracy: 0.7802\n",
            "Epoch 7/20\n",
            "811/811 [==============================] - 3s 4ms/step - loss: 0.2237 - accuracy: 0.9186 - val_loss: 0.3392 - val_accuracy: 0.8571\n",
            "Epoch 8/20\n",
            "811/811 [==============================] - 3s 3ms/step - loss: 0.2165 - accuracy: 0.9199 - val_loss: 0.3761 - val_accuracy: 0.8462\n",
            "Epoch 9/20\n",
            "811/811 [==============================] - 3s 4ms/step - loss: 0.1193 - accuracy: 0.9642 - val_loss: 0.4007 - val_accuracy: 0.8242\n",
            "Epoch 10/20\n",
            "811/811 [==============================] - 3s 3ms/step - loss: 0.0889 - accuracy: 0.9667 - val_loss: 1.2631 - val_accuracy: 0.5824\n",
            "Epoch 11/20\n",
            "811/811 [==============================] - 3s 4ms/step - loss: 0.1598 - accuracy: 0.9396 - val_loss: 0.2398 - val_accuracy: 0.9231\n",
            "Epoch 12/20\n",
            "811/811 [==============================] - 3s 4ms/step - loss: 0.0504 - accuracy: 0.9803 - val_loss: 0.5794 - val_accuracy: 0.7363\n",
            "Epoch 13/20\n",
            "811/811 [==============================] - 3s 3ms/step - loss: 0.1061 - accuracy: 0.9581 - val_loss: 0.2566 - val_accuracy: 0.9011\n",
            "Epoch 14/20\n",
            "811/811 [==============================] - 3s 4ms/step - loss: 0.1486 - accuracy: 0.9605 - val_loss: 0.2767 - val_accuracy: 0.8901\n",
            "Epoch 15/20\n",
            "811/811 [==============================] - 3s 4ms/step - loss: 0.0483 - accuracy: 0.9852 - val_loss: 0.1394 - val_accuracy: 0.9560\n",
            "Epoch 16/20\n",
            "811/811 [==============================] - 3s 3ms/step - loss: 0.0074 - accuracy: 1.0000 - val_loss: 0.1132 - val_accuracy: 0.9780\n",
            "Epoch 17/20\n",
            "811/811 [==============================] - 3s 3ms/step - loss: 0.0032 - accuracy: 1.0000 - val_loss: 0.2856 - val_accuracy: 0.9011\n",
            "Epoch 18/20\n",
            "811/811 [==============================] - 3s 4ms/step - loss: 0.0025 - accuracy: 1.0000 - val_loss: 0.1761 - val_accuracy: 0.9560\n",
            "Epoch 19/20\n",
            "811/811 [==============================] - 3s 4ms/step - loss: 0.4297 - accuracy: 0.8644 - val_loss: 0.2926 - val_accuracy: 0.9011\n",
            "Epoch 20/20\n",
            "811/811 [==============================] - 3s 4ms/step - loss: 0.0297 - accuracy: 0.9914 - val_loss: 0.2381 - val_accuracy: 0.9451\n",
            "Test loss: 0.23812928795814514\n",
            "Test accuracy: 0.9450549483299255\n"
          ]
        }
      ]
    },
    {
      "cell_type": "code",
      "source": [
        "plt.plot(test_accuracy)\n",
        "plt.plot(history.history['val_accuracy'])\n",
        "plt.title('Models test set accuracy')\n",
        "plt.ylabel('Accuracy')\n",
        "plt.xlabel('Epoch')\n",
        "plt.legend(['MLP Scratch', 'MLP Keras'], loc='upper left')\n",
        "plt.show()"
      ],
      "metadata": {
        "colab": {
          "base_uri": "https://localhost:8080/",
          "height": 295
        },
        "id": "awJ1pN235gja",
        "outputId": "d0db0dbb-5da6-4653-a3c2-740f0c430cf7"
      },
      "execution_count": 55,
      "outputs": [
        {
          "output_type": "display_data",
          "data": {
            "image/png": "[encoded data removed]",
            "text/plain": [
              "<Figure size 432x288 with 1 Axes>"
            ]
          },
          "metadata": {
            "needs_background": "light"
          }
        }
      ]
    },
    {
      "cell_type": "markdown",
      "source": [
        "As we can see from chart above, when traning on x, +, o images dataset, both MLP models performed similary. Both models scored above 90% accuracy on test set, with about 1 min traning time (about 3 sec on each epoch). Models were created using 3 dense layers with 128, 32, 3 neurons."
      ],
      "metadata": {
        "id": "NYxOLttG8cEn"
      }
    },
    {
      "cell_type": "markdown",
      "source": [
        "### Manual hyper-parameter tuning"
      ],
      "metadata": {
        "id": "eCgi0HCq9no-"
      }
    },
    {
      "cell_type": "code",
      "source": [
        "MLP_keras_tuning = Sequential()\n",
        "\n",
        "MLP_keras_tuning.add(Dense(32, activation='sigmoid', input_shape=(32*32*3,)))\n",
        "MLP_keras_tuning.add(Dense(8, activation='sigmoid'))\n",
        "MLP_keras_tuning.add(Dense(3, activation='softmax'))\n",
        "\n",
        "\n",
        "MLP_keras_tuning.compile(loss='categorical_crossentropy',\n",
        "              optimizer='RMSprop',\n",
        "              metrics=['accuracy'])\n",
        "\n",
        "history = MLP_keras_tuning.fit(X_train, y_train,\n",
        "                    batch_size=2,\n",
        "                    epochs=20,\n",
        "                    verbose=1,\n",
        "                    validation_data=(X_test, y_test))\n",
        "\n",
        "score = MLP_keras_tuning.evaluate(X_test, y_test, verbose=0)\n",
        "print('Test loss:', score[0])\n",
        "print('Test accuracy:', score[1])"
      ],
      "metadata": {
        "colab": {
          "base_uri": "https://localhost:8080/"
        },
        "id": "YS7KAEg89vjn",
        "outputId": "af81f837-9899-43b7-ff3f-7ae46e5c5406"
      },
      "execution_count": 24,
      "outputs": [
        {
          "output_type": "stream",
          "name": "stdout",
          "text": [
            "Epoch 1/20\n",
            "406/406 [==============================] - 2s 5ms/step - loss: 1.1112 - accuracy: 0.3711 - val_loss: 1.0660 - val_accuracy: 0.4176\n",
            "Epoch 2/20\n",
            "406/406 [==============================] - 2s 4ms/step - loss: 1.0431 - accuracy: 0.4390 - val_loss: 1.0437 - val_accuracy: 0.4396\n",
            "Epoch 3/20\n",
            "406/406 [==============================] - 2s 4ms/step - loss: 0.9743 - accuracy: 0.5339 - val_loss: 0.9888 - val_accuracy: 0.4945\n",
            "Epoch 4/20\n",
            "406/406 [==============================] - 2s 4ms/step - loss: 0.8677 - accuracy: 0.5968 - val_loss: 1.0736 - val_accuracy: 0.4066\n",
            "Epoch 5/20\n",
            "406/406 [==============================] - 2s 4ms/step - loss: 0.7902 - accuracy: 0.6782 - val_loss: 0.8596 - val_accuracy: 0.6374\n",
            "Epoch 6/20\n",
            "406/406 [==============================] - 2s 4ms/step - loss: 0.6842 - accuracy: 0.7497 - val_loss: 0.8054 - val_accuracy: 0.5934\n",
            "Epoch 7/20\n",
            "406/406 [==============================] - 2s 4ms/step - loss: 0.5758 - accuracy: 0.8163 - val_loss: 0.7287 - val_accuracy: 0.6813\n",
            "Epoch 8/20\n",
            "406/406 [==============================] - 2s 4ms/step - loss: 0.4802 - accuracy: 0.8459 - val_loss: 0.7298 - val_accuracy: 0.7143\n",
            "Epoch 9/20\n",
            "406/406 [==============================] - 2s 4ms/step - loss: 0.3900 - accuracy: 0.8816 - val_loss: 0.5472 - val_accuracy: 0.7692\n",
            "Epoch 10/20\n",
            "406/406 [==============================] - 2s 4ms/step - loss: 0.3215 - accuracy: 0.9026 - val_loss: 0.4782 - val_accuracy: 0.7912\n",
            "Epoch 11/20\n",
            "406/406 [==============================] - 2s 4ms/step - loss: 0.2493 - accuracy: 0.9359 - val_loss: 0.7396 - val_accuracy: 0.6813\n",
            "Epoch 12/20\n",
            "406/406 [==============================] - 2s 4ms/step - loss: 0.2128 - accuracy: 0.9433 - val_loss: 0.5369 - val_accuracy: 0.7363\n",
            "Epoch 13/20\n",
            "406/406 [==============================] - 2s 4ms/step - loss: 0.1663 - accuracy: 0.9630 - val_loss: 0.5578 - val_accuracy: 0.7253\n",
            "Epoch 14/20\n",
            "406/406 [==============================] - 2s 4ms/step - loss: 0.1275 - accuracy: 0.9704 - val_loss: 0.3878 - val_accuracy: 0.8242\n",
            "Epoch 15/20\n",
            "406/406 [==============================] - 2s 4ms/step - loss: 0.1173 - accuracy: 0.9704 - val_loss: 0.3893 - val_accuracy: 0.8132\n",
            "Epoch 16/20\n",
            "406/406 [==============================] - 2s 4ms/step - loss: 0.0961 - accuracy: 0.9704 - val_loss: 0.2858 - val_accuracy: 0.8901\n",
            "Epoch 17/20\n",
            "406/406 [==============================] - 2s 4ms/step - loss: 0.0742 - accuracy: 0.9753 - val_loss: 0.2861 - val_accuracy: 0.8901\n",
            "Epoch 18/20\n",
            "406/406 [==============================] - 2s 4ms/step - loss: 0.0649 - accuracy: 0.9815 - val_loss: 0.2821 - val_accuracy: 0.8791\n",
            "Epoch 19/20\n",
            "406/406 [==============================] - 2s 4ms/step - loss: 0.0499 - accuracy: 0.9840 - val_loss: 0.2972 - val_accuracy: 0.8791\n",
            "Epoch 20/20\n",
            "406/406 [==============================] - 2s 4ms/step - loss: 0.0360 - accuracy: 0.9938 - val_loss: 0.7892 - val_accuracy: 0.7033\n",
            "Test loss: 0.7891921401023865\n",
            "Test accuracy: 0.7032967209815979\n"
          ]
        }
      ]
    },
    {
      "cell_type": "markdown",
      "source": [
        "After trying some manual hyperparameters tuning, I was enable to achive better accuracy score than the one these 95% from two cells above. I've tried to use different number of neurons (in input and hidden layers), different optimizers (SGD, adam, RMSprop) and different batch sizes (x, o, + dataset is quite small, so definetely batch_size should be small)."
      ],
      "metadata": {
        "id": "a3cP78eJAKpM"
      }
    },
    {
      "cell_type": "markdown",
      "metadata": {
        "id": "Cf9BzwxxpLvF"
      },
      "source": [
        "### Convolutional Neural Networks\n",
        "\n",
        "Creating simple Conv networks in Keras is very similiar to MLP. The main difference is the dimmensionality of input and internal tensors"
      ]
    },
    {
      "cell_type": "code",
      "metadata": {
        "id": "MWXi0aiMpPaq",
        "outputId": "12291ae8-03ad-4e86-aeee-7e7ad05c2b7a",
        "colab": {
          "base_uri": "https://localhost:8080/"
        }
      },
      "source": [
        "# reload the data, split between train and test sets\n",
        "(x_train, y_train), (x_test, y_test) = mnist.load_data()\n",
        "\n",
        "## the data shape is [28x28] - we are changing it to a [28x28x1]\n",
        "\n",
        "x_train = x_train.reshape((x_train.shape[0], 28, 28, 1))\n",
        "x_test = x_test.reshape((x_test.shape[0], 28, 28, 1))\n",
        "\n",
        "\n",
        "x_train = x_train.astype('float32')\n",
        "x_test = x_test.astype('float32')\n",
        "\n",
        "\n",
        "\n",
        "\n",
        "## convert to float [0.0 - 1.0]\n",
        "x_train /= 255\n",
        "x_test /= 255\n",
        "print(x_train.shape[0], 'train samples')\n",
        "print(x_test.shape[0], 'test samples')\n",
        "\n",
        "print(x_train.shape)\n",
        "\n",
        "## One-hot encoding\n",
        "y_train = keras.utils.to_categorical(y_train, num_classes)\n",
        "y_test = keras.utils.to_categorical(y_test, num_classes)"
      ],
      "execution_count": 56,
      "outputs": [
        {
          "output_type": "stream",
          "name": "stdout",
          "text": [
            "60000 train samples\n",
            "10000 test samples\n",
            "(60000, 28, 28, 1)\n"
          ]
        }
      ]
    },
    {
      "cell_type": "code",
      "metadata": {
        "id": "uzFtCtZJ--jU",
        "outputId": "3305b891-5ba0-4067-f680-b1fae2b9587f",
        "colab": {
          "base_uri": "https://localhost:8080/"
        }
      },
      "source": [
        "# Convolutional network using Conv2D layer and Sequential API (long version)\n",
        "\n",
        "model = tf.keras.Sequential()\n",
        "\n",
        "model.add(Conv2D(64, (3,3), input_shape=(28, 28, 1)))\n",
        "model.add(Activation('relu'))\n",
        "model.add(MaxPooling2D(pool_size=(2,2)))\n",
        "model.add(Conv2D(64, (3,3)))\n",
        "model.add(Activation('relu'))\n",
        "model.add(MaxPooling2D(pool_size=(2,2)))\n",
        "model.add(Flatten()) # we need to resize the data to be able to use Dense layers\n",
        "model.add(Dense(64))\n",
        "model.add(Dense(10))\n",
        "model.add(Activation('softmax'))\n",
        "\n",
        "\n",
        "model.compile(loss=keras.losses.categorical_crossentropy, \n",
        "              optimizer=keras.optimizers.Adam(),\n",
        "              metrics=['categorical_accuracy']) # we can mix text and object based parameters in one compile\n",
        "\n",
        "\n",
        "model.summary()\n"
      ],
      "execution_count": 26,
      "outputs": [
        {
          "output_type": "stream",
          "name": "stdout",
          "text": [
            "Model: \"sequential_4\"\n",
            "_________________________________________________________________\n",
            " Layer (type)                Output Shape              Param #   \n",
            "=================================================================\n",
            " conv2d (Conv2D)             (None, 26, 26, 64)        640       \n",
            "                                                                 \n",
            " activation_5 (Activation)   (None, 26, 26, 64)        0         \n",
            "                                                                 \n",
            " max_pooling2d (MaxPooling2D  (None, 13, 13, 64)       0         \n",
            " )                                                               \n",
            "                                                                 \n",
            " conv2d_1 (Conv2D)           (None, 11, 11, 64)        36928     \n",
            "                                                                 \n",
            " activation_6 (Activation)   (None, 11, 11, 64)        0         \n",
            "                                                                 \n",
            " max_pooling2d_1 (MaxPooling  (None, 5, 5, 64)         0         \n",
            " 2D)                                                             \n",
            "                                                                 \n",
            " flatten (Flatten)           (None, 1600)              0         \n",
            "                                                                 \n",
            " dense_15 (Dense)            (None, 64)                102464    \n",
            "                                                                 \n",
            " dense_16 (Dense)            (None, 10)                650       \n",
            "                                                                 \n",
            " activation_7 (Activation)   (None, 10)                0         \n",
            "                                                                 \n",
            "=================================================================\n",
            "Total params: 140,682\n",
            "Trainable params: 140,682\n",
            "Non-trainable params: 0\n",
            "_________________________________________________________________\n"
          ]
        }
      ]
    },
    {
      "cell_type": "code",
      "metadata": {
        "id": "7-PQUY8uAkkn",
        "outputId": "214f38ca-64b9-4fb2-f188-e2d702e0e312",
        "colab": {
          "base_uri": "https://localhost:8080/"
        }
      },
      "source": [
        "# training and showing history\n",
        "epochs = 10\n",
        "\n",
        "\n",
        "# Train model\n",
        "history = model.fit(x_train, y_train,\n",
        "                    batch_size=batch_size,\n",
        "                    epochs=epochs,\n",
        "                    verbose=1,\n",
        "                    validation_data=(x_test, y_test))\n",
        "\n",
        "score = model.evaluate(x_test, y_test, verbose=0)\n",
        "print('Test loss:', score[0])\n",
        "print('Test accuracy:', score[1])\n",
        "\n"
      ],
      "execution_count": 27,
      "outputs": [
        {
          "output_type": "stream",
          "name": "stdout",
          "text": [
            "Epoch 1/10\n",
            "469/469 [==============================] - 14s 13ms/step - loss: 0.1928 - categorical_accuracy: 0.9438 - val_loss: 0.0591 - val_categorical_accuracy: 0.9822\n",
            "Epoch 2/10\n",
            "469/469 [==============================] - 5s 12ms/step - loss: 0.0536 - categorical_accuracy: 0.9839 - val_loss: 0.0457 - val_categorical_accuracy: 0.9846\n",
            "Epoch 3/10\n",
            "469/469 [==============================] - 6s 12ms/step - loss: 0.0388 - categorical_accuracy: 0.9886 - val_loss: 0.0437 - val_categorical_accuracy: 0.9851\n",
            "Epoch 4/10\n",
            "469/469 [==============================] - 6s 12ms/step - loss: 0.0306 - categorical_accuracy: 0.9902 - val_loss: 0.0301 - val_categorical_accuracy: 0.9913\n",
            "Epoch 5/10\n",
            "469/469 [==============================] - 6s 12ms/step - loss: 0.0249 - categorical_accuracy: 0.9922 - val_loss: 0.0293 - val_categorical_accuracy: 0.9914\n",
            "Epoch 6/10\n",
            "469/469 [==============================] - 5s 12ms/step - loss: 0.0221 - categorical_accuracy: 0.9928 - val_loss: 0.0373 - val_categorical_accuracy: 0.9888\n",
            "Epoch 7/10\n",
            "469/469 [==============================] - 6s 12ms/step - loss: 0.0153 - categorical_accuracy: 0.9952 - val_loss: 0.0357 - val_categorical_accuracy: 0.9892\n",
            "Epoch 8/10\n",
            "469/469 [==============================] - 5s 12ms/step - loss: 0.0151 - categorical_accuracy: 0.9950 - val_loss: 0.0324 - val_categorical_accuracy: 0.9909\n",
            "Epoch 9/10\n",
            "469/469 [==============================] - 5s 12ms/step - loss: 0.0127 - categorical_accuracy: 0.9957 - val_loss: 0.0341 - val_categorical_accuracy: 0.9919\n",
            "Epoch 10/10\n",
            "469/469 [==============================] - 6s 12ms/step - loss: 0.0108 - categorical_accuracy: 0.9962 - val_loss: 0.0367 - val_categorical_accuracy: 0.9900\n",
            "Test loss: 0.03670724108815193\n",
            "Test accuracy: 0.9900000095367432\n"
          ]
        }
      ]
    },
    {
      "cell_type": "code",
      "metadata": {
        "id": "0uCKGchsA3KK",
        "colab": {
          "base_uri": "https://localhost:8080/",
          "height": 573
        },
        "outputId": "79936a0e-c243-41fd-8d03-65a88192c3e4"
      },
      "source": [
        "# visualize training history \n",
        "plt.plot(history.history['categorical_accuracy'])\n",
        "plt.plot(history.history['val_categorical_accuracy'])\n",
        "plt.title('Model accuracy')\n",
        "plt.ylabel('Accuracy')\n",
        "plt.xlabel('Epoch')\n",
        "plt.legend(['Train', 'Test'], loc='upper left')\n",
        "plt.show()\n",
        "\n",
        "# Plot training & validation loss values\n",
        "plt.plot(history.history['loss'])\n",
        "plt.plot(history.history['val_loss'])\n",
        "plt.title('Model loss')\n",
        "plt.ylabel('Loss')\n",
        "plt.xlabel('Epoch')\n",
        "plt.legend(['Train', 'Test'], loc='upper left')\n",
        "plt.show()"
      ],
      "execution_count": 28,
      "outputs": [
        {
          "output_type": "display_data",
          "data": {
            "image/png": "[encoded data removed]",
            "text/plain": [
              "<Figure size 432x288 with 1 Axes>"
            ]
          },
          "metadata": {
            "needs_background": "light"
          }
        },
        {
          "output_type": "display_data",
          "data": {
            "image/png": "[encoded data removed]",
            "text/plain": [
              "<Figure size 432x288 with 1 Axes>"
            ]
          },
          "metadata": {
            "needs_background": "light"
          }
        }
      ]
    },
    {
      "cell_type": "markdown",
      "metadata": {
        "id": "72Qj5gVSBt-X"
      },
      "source": [
        "Very often, in case of image classification, the main problem is the lack of properly classified training data. However, it is possible to generate additional (artificial) samples using generators\n",
        "\n",
        "Fake samples will never be as good as real ones (Ground Truth), but in many situations can help (for example, when objects on images are symmetrical simply flipping the images will generate twice the amount of valid samples)"
      ]
    },
    {
      "cell_type": "code",
      "metadata": {
        "id": "j49zmMkyBmmv"
      },
      "source": [
        "from __future__ import print_function\n",
        "import tensorflow as tf\n",
        "from tensorflow.keras.datasets import cifar10\n",
        "from tensorflow.keras.preprocessing.image import ImageDataGenerator\n",
        "from tensorflow.keras.models import Sequential\n",
        "from tensorflow.keras.layers import Dense, Dropout, Activation, Flatten\n",
        "from tensorflow.keras.layers import Conv2D, MaxPooling2D\n",
        "from tensorflow.keras.utils import to_categorical\n",
        "from tensorflow.keras.optimizers import RMSprop\n",
        "import os\n",
        "\n",
        "\n",
        "# set-up \n",
        "batch_size = 32\n",
        "num_classes = 10\n",
        "epochs = 10\n",
        "\n",
        "# Use data augmentation? Default to false \n",
        "data_augmentation = True\n",
        "\n",
        "save_dir = 'saved_models'\n",
        "model_name = 'keras_cifar10_model.h5'\n"
      ],
      "execution_count": 34,
      "outputs": []
    },
    {
      "cell_type": "code",
      "metadata": {
        "id": "K8_KqFv8FmAi",
        "colab": {
          "base_uri": "https://localhost:8080/"
        },
        "outputId": "16f2f3af-2d73-4ef7-c73f-f0d9a8a7c74b"
      },
      "source": [
        "# CIFAR10 dataset (color images), split between train and test sets:\n",
        "\n",
        "(x_train, y_train), (x_test, y_test) = cifar10.load_data()\n",
        "print('x_train shape:', x_train.shape)\n",
        "print(x_train.shape[0], 'train samples')\n",
        "print(x_test.shape[0], 'test samples')\n",
        "\n",
        "x_train = x_train.astype('float32')\n",
        "x_test = x_test.astype('float32')\n",
        "x_train /= 255\n",
        "x_test /= 255\n",
        "\n",
        "\n",
        "# Convert class vectors to binary class matrices.\n",
        "y_train = to_categorical(y_train, num_classes)\n",
        "y_test = to_categorical(y_test, num_classes)\n"
      ],
      "execution_count": 38,
      "outputs": [
        {
          "output_type": "stream",
          "name": "stdout",
          "text": [
            "x_train shape: (50000, 32, 32, 3)\n",
            "50000 train samples\n",
            "10000 test samples\n"
          ]
        }
      ]
    },
    {
      "cell_type": "code",
      "metadata": {
        "id": "GNajz8YNC-mV"
      },
      "source": [
        "# create a more advanced architecture\n",
        "model = Sequential()\n",
        "model.add(Conv2D(32, (3, 3), padding='same',\n",
        "                 input_shape=x_train.shape[1:]))\n",
        "model.add(Activation('relu'))\n",
        "model.add(Conv2D(32, (3, 3)))\n",
        "model.add(Activation('relu'))\n",
        "model.add(MaxPooling2D(pool_size=(2, 2)))\n",
        "model.add(Dropout(0.25))\n",
        "\n",
        "model.add(Conv2D(64, (3, 3), padding='same'))\n",
        "model.add(Activation('relu'))\n",
        "model.add(Conv2D(64, (3, 3)))\n",
        "model.add(Activation('relu'))\n",
        "model.add(MaxPooling2D(pool_size=(2, 2)))\n",
        "model.add(Dropout(0.25))\n",
        "\n",
        "model.add(Flatten())\n",
        "model.add(Dense(512))\n",
        "model.add(Activation('relu'))\n",
        "model.add(Dropout(0.5))\n",
        "model.add(Dense(num_classes))\n",
        "model.add(Activation('softmax'))\n",
        "\n",
        "\n",
        "# initiate RMSprop optimizer\n",
        "opt = RMSprop(learning_rate=0.0001, decay=1e-6)\n",
        "\n",
        "# compile the model\n",
        "model.compile(loss='categorical_crossentropy',\n",
        "              optimizer=opt,\n",
        "              metrics=['categorical_accuracy'])\n",
        "\n"
      ],
      "execution_count": 39,
      "outputs": []
    },
    {
      "cell_type": "code",
      "metadata": {
        "id": "6nDvVZynDPKV",
        "colab": {
          "base_uri": "https://localhost:8080/"
        },
        "outputId": "2280c812-64f7-46cd-a8ef-19209f7d44a4"
      },
      "source": [
        "if data_augmentation:\n",
        "    print('Using real-time data augmentation.')\n",
        "    # This will do preprocessing and realtime data augmentation:\n",
        "    datagen = ImageDataGenerator(\n",
        "        featurewise_center=False,  # set input mean to 0 over the dataset\n",
        "        samplewise_center=False,  # set each sample mean to 0\n",
        "        featurewise_std_normalization=False,  # divide inputs by std of the dataset\n",
        "        samplewise_std_normalization=False,  # divide each input by its std\n",
        "        zca_whitening=False,  # apply ZCA whitening\n",
        "        zca_epsilon=1e-06,  # epsilon for ZCA whitening\n",
        "        rotation_range=0,  # randomly rotate images in the range (degrees, 0 to 180)\n",
        "        # randomly shift images horizontally (fraction of total width)\n",
        "        width_shift_range=0.1,\n",
        "        # randomly shift images vertically (fraction of total height)\n",
        "        height_shift_range=0.1,\n",
        "        shear_range=0.,  # set range for random shear\n",
        "        zoom_range=0.,  # set range for random zoom\n",
        "        channel_shift_range=0.,  # set range for random channel shifts\n",
        "        # set mode for filling points outside the input boundaries\n",
        "        fill_mode='nearest',\n",
        "        cval=0.,  # value used for fill_mode = \"constant\"\n",
        "        horizontal_flip=True,  # randomly flip images\n",
        "        vertical_flip=False,  # randomly flip images\n",
        "        # set rescaling factor (applied before any other transformation)\n",
        "        rescale=None,\n",
        "        # set function that will be applied on each input\n",
        "        preprocessing_function=None,\n",
        "        # image data format, either \"channels_first\" or \"channels_last\"\n",
        "        data_format=None,\n",
        "        # fraction of images reserved for validation (strictly between 0 and 1)\n",
        "        validation_split=0.0)\n",
        "    \n",
        "    # Compute quantities required for feature-wise normalization\n",
        "    # (std, mean, and principal components if ZCA whitening is applied).\n",
        "    datagen.fit(x_train)\n",
        "else:\n",
        "  print('Not using data augmentation')\n",
        "\n",
        "\n",
        "\n"
      ],
      "execution_count": 40,
      "outputs": [
        {
          "output_type": "stream",
          "name": "stdout",
          "text": [
            "Using real-time data augmentation.\n"
          ]
        }
      ]
    },
    {
      "cell_type": "code",
      "metadata": {
        "id": "kq9XCxvNDaxj",
        "colab": {
          "base_uri": "https://localhost:8080/"
        },
        "outputId": "6c6c2752-488f-466e-cb45-482d7dfd2554"
      },
      "source": [
        "# Train the model\n",
        "\n",
        "if data_augmentation:\n",
        "  # Fit the model on the batches generated by datagen.flow().\n",
        "  model.fit(datagen.flow(x_train, y_train,\n",
        "                                    batch_size=batch_size),\n",
        "                      epochs=epochs,\n",
        "                      validation_data=(x_test, y_test),\n",
        "                      workers=4)\n",
        "\n",
        "else:\n",
        "    print('Not using data augmentation.')\n",
        "    model.fit(x_train, y_train,\n",
        "              batch_size=batch_size,\n",
        "              epochs=epochs,\n",
        "              validation_data=(x_test, y_test),\n",
        "              shuffle=True)\n"
      ],
      "execution_count": 41,
      "outputs": [
        {
          "output_type": "stream",
          "name": "stdout",
          "text": [
            "Epoch 1/10\n",
            "1563/1563 [==============================] - 60s 38ms/step - loss: 1.8610 - categorical_accuracy: 0.3146 - val_loss: 1.5874 - val_categorical_accuracy: 0.4252\n",
            "Epoch 2/10\n",
            "1563/1563 [==============================] - 58s 37ms/step - loss: 1.5975 - categorical_accuracy: 0.4148 - val_loss: 1.3946 - val_categorical_accuracy: 0.4919\n",
            "Epoch 3/10\n",
            "1563/1563 [==============================] - 59s 37ms/step - loss: 1.4793 - categorical_accuracy: 0.4634 - val_loss: 1.3199 - val_categorical_accuracy: 0.5290\n",
            "Epoch 4/10\n",
            "1563/1563 [==============================] - 59s 38ms/step - loss: 1.3944 - categorical_accuracy: 0.4950 - val_loss: 1.2350 - val_categorical_accuracy: 0.5524\n",
            "Epoch 5/10\n",
            "1563/1563 [==============================] - 59s 37ms/step - loss: 1.3248 - categorical_accuracy: 0.5266 - val_loss: 1.1858 - val_categorical_accuracy: 0.5743\n",
            "Epoch 6/10\n",
            "1563/1563 [==============================] - 59s 38ms/step - loss: 1.2631 - categorical_accuracy: 0.5511 - val_loss: 1.1330 - val_categorical_accuracy: 0.5975\n",
            "Epoch 7/10\n",
            "1563/1563 [==============================] - 58s 37ms/step - loss: 1.2123 - categorical_accuracy: 0.5706 - val_loss: 1.0425 - val_categorical_accuracy: 0.6328\n",
            "Epoch 8/10\n",
            "1563/1563 [==============================] - 58s 37ms/step - loss: 1.1645 - categorical_accuracy: 0.5891 - val_loss: 1.0458 - val_categorical_accuracy: 0.6396\n",
            "Epoch 9/10\n",
            "1563/1563 [==============================] - 59s 37ms/step - loss: 1.1275 - categorical_accuracy: 0.6003 - val_loss: 0.9807 - val_categorical_accuracy: 0.6575\n",
            "Epoch 10/10\n",
            "1563/1563 [==============================] - 60s 38ms/step - loss: 1.0915 - categorical_accuracy: 0.6130 - val_loss: 0.9505 - val_categorical_accuracy: 0.6654\n"
          ]
        }
      ]
    },
    {
      "cell_type": "code",
      "metadata": {
        "id": "BgPUpLJjGTyz"
      },
      "source": [
        "# Score trained model.\n",
        "\n",
        "scores = model.evaluate(x_test, y_test, verbose=1)\n",
        "print('Test loss:', scores[0])\n",
        "print('Test accuracy:', scores[1])"
      ],
      "execution_count": null,
      "outputs": []
    },
    {
      "cell_type": "code",
      "metadata": {
        "id": "fJ9YketWDV05"
      },
      "source": [
        "# Save model and weights\n",
        "if not os.path.isdir(save_dir):\n",
        "    os.makedirs(save_dir)\n",
        "model_path = os.path.join(save_dir, model_name)\n",
        "model.save(model_path)\n",
        "print('Saved trained model at %s ' % model_path)\n"
      ],
      "execution_count": null,
      "outputs": []
    },
    {
      "cell_type": "markdown",
      "metadata": {
        "id": "DCnu6DaBICvX"
      },
      "source": [
        "Task 2\n",
        "- Implement a convolutional network for each of your own datasets. Compare the results to your best architecture based on Dense layers (MLP) and Convolutional layers (CNN)\n",
        "- Integrate generators and callbacks in your training. Investigate the impact of using a generator on accuracy and speed of training on your on custom datasets."
      ]
    },
    {
      "cell_type": "markdown",
      "source": [
        "### Import previously created dataset (x, o, + images)"
      ],
      "metadata": {
        "id": "imYglKXGRnIT"
      }
    },
    {
      "cell_type": "code",
      "source": [
        "from google.colab import drive\n",
        "drive.mount('/content/drive')\n",
        "\n",
        "X = np.load('drive/MyDrive/lab2-dataset/X.npy')\n",
        "y = np.load('drive/MyDrive/lab2-dataset/y.npy')\n",
        "bb = np.load('drive/MyDrive/lab2-dataset/bb.npy')\n",
        "\n",
        "X = (X / 255.)\n",
        "\n",
        "X_train, X_test, y_train, y_test = train_test_split(X, y, test_size=0.1, random_state=42)\n",
        "\n",
        "print(X_train.shape)\n",
        "print(y_train.shape)"
      ],
      "metadata": {
        "colab": {
          "base_uri": "https://localhost:8080/"
        },
        "outputId": "c88bb0e0-e9da-4920-9ad0-1359ed06853e",
        "id": "-jUt8DCVRnIU"
      },
      "execution_count": 85,
      "outputs": [
        {
          "output_type": "stream",
          "name": "stdout",
          "text": [
            "Drive already mounted at /content/drive; to attempt to forcibly remount, call drive.mount(\"/content/drive\", force_remount=True).\n",
            "(811, 32, 32, 3)\n",
            "(811,)\n"
          ]
        }
      ]
    },
    {
      "cell_type": "markdown",
      "source": [
        "### CNN network traning on x, +, o images dataset"
      ],
      "metadata": {
        "id": "affyY4ImUBEX"
      }
    },
    {
      "cell_type": "code",
      "source": [
        "#y_train = keras.utils.to_categorical(y_train, 3)\n",
        "#y_test = keras.utils.to_categorical(y_test, 3)\n",
        "\n",
        "print(y_test[0])\n",
        "\n",
        "CNN_keras = Sequential()\n",
        "\n",
        "CNN_keras.add(Conv2D(64, (3,3), activation='relu', input_shape=(32, 32, 3)))\n",
        "CNN_keras.add(MaxPooling2D(pool_size=(2,2)))\n",
        "CNN_keras.add(Conv2D(64, (3,3), activation='relu'))\n",
        "CNN_keras.add(MaxPooling2D(pool_size=(2,2)))\n",
        "CNN_keras.add(Flatten())\n",
        "CNN_keras.add(Dense(128, activation='relu', input_shape=(32*32*3,)))\n",
        "CNN_keras.add(Dense(32, activation='relu'))\n",
        "CNN_keras.add(Dense(3, activation='softmax'))\n",
        "\n",
        "\n",
        "CNN_keras.compile(loss='categorical_crossentropy',\n",
        "              optimizer='adam',\n",
        "              metrics=['accuracy'])\n",
        "\n",
        "history = CNN_keras.fit(X_train, y_train,\n",
        "                    batch_size=1,\n",
        "                    epochs=20,\n",
        "                    verbose=1,\n",
        "                    validation_data=(X_test, y_test))\n",
        "\n",
        "score = CNN_keras.evaluate(X_test, y_test, verbose=0)\n",
        "print('Test loss:', score[0])\n",
        "print('Test accuracy:', score[1])"
      ],
      "metadata": {
        "colab": {
          "base_uri": "https://localhost:8080/"
        },
        "id": "HsdwYm5oUGwV",
        "outputId": "a334650e-5089-4625-dcc1-22121dc1009f"
      },
      "execution_count": 89,
      "outputs": [
        {
          "output_type": "stream",
          "name": "stdout",
          "text": [
            "[0. 1. 0.]\n",
            "Epoch 1/20\n",
            "811/811 [==============================] - 5s 5ms/step - loss: 1.1122 - accuracy: 0.3822 - val_loss: 1.0377 - val_accuracy: 0.5495\n",
            "Epoch 2/20\n",
            "811/811 [==============================] - 4s 5ms/step - loss: 0.2329 - accuracy: 0.9026 - val_loss: 0.0072 - val_accuracy: 1.0000\n",
            "Epoch 3/20\n",
            "811/811 [==============================] - 4s 5ms/step - loss: 0.0010 - accuracy: 1.0000 - val_loss: 0.0024 - val_accuracy: 1.0000\n",
            "Epoch 4/20\n",
            "811/811 [==============================] - 4s 5ms/step - loss: 1.2974e-04 - accuracy: 1.0000 - val_loss: 0.0010 - val_accuracy: 1.0000\n",
            "Epoch 5/20\n",
            "811/811 [==============================] - 4s 5ms/step - loss: 4.3023e-05 - accuracy: 1.0000 - val_loss: 6.6008e-04 - val_accuracy: 1.0000\n",
            "Epoch 6/20\n",
            "811/811 [==============================] - 4s 5ms/step - loss: 2.2429e-05 - accuracy: 1.0000 - val_loss: 7.3573e-04 - val_accuracy: 1.0000\n",
            "Epoch 7/20\n",
            "811/811 [==============================] - 4s 5ms/step - loss: 1.2889e-05 - accuracy: 1.0000 - val_loss: 8.8270e-04 - val_accuracy: 1.0000\n",
            "Epoch 8/20\n",
            "811/811 [==============================] - 4s 5ms/step - loss: 7.5530e-06 - accuracy: 1.0000 - val_loss: 5.4806e-04 - val_accuracy: 1.0000\n",
            "Epoch 9/20\n",
            "811/811 [==============================] - 4s 5ms/step - loss: 4.5384e-06 - accuracy: 1.0000 - val_loss: 5.5713e-04 - val_accuracy: 1.0000\n",
            "Epoch 10/20\n",
            "811/811 [==============================] - 4s 5ms/step - loss: 2.7684e-06 - accuracy: 1.0000 - val_loss: 2.5538e-04 - val_accuracy: 1.0000\n",
            "Epoch 11/20\n",
            "811/811 [==============================] - 4s 5ms/step - loss: 1.7686e-06 - accuracy: 1.0000 - val_loss: 3.5988e-04 - val_accuracy: 1.0000\n",
            "Epoch 12/20\n",
            "811/811 [==============================] - 4s 5ms/step - loss: 1.0892e-06 - accuracy: 1.0000 - val_loss: 3.0686e-04 - val_accuracy: 1.0000\n",
            "Epoch 13/20\n",
            "811/811 [==============================] - 4s 5ms/step - loss: 6.6307e-07 - accuracy: 1.0000 - val_loss: 2.8626e-04 - val_accuracy: 1.0000\n",
            "Epoch 14/20\n",
            "811/811 [==============================] - 4s 5ms/step - loss: 4.3832e-07 - accuracy: 1.0000 - val_loss: 9.1509e-05 - val_accuracy: 1.0000\n",
            "Epoch 15/20\n",
            "811/811 [==============================] - 4s 5ms/step - loss: 2.7061e-07 - accuracy: 1.0000 - val_loss: 7.4354e-05 - val_accuracy: 1.0000\n",
            "Epoch 16/20\n",
            "811/811 [==============================] - 4s 5ms/step - loss: 1.7830e-07 - accuracy: 1.0000 - val_loss: 8.6233e-05 - val_accuracy: 1.0000\n",
            "Epoch 17/20\n",
            "811/811 [==============================] - 4s 5ms/step - loss: 1.1098e-07 - accuracy: 1.0000 - val_loss: 9.9603e-05 - val_accuracy: 1.0000\n",
            "Epoch 18/20\n",
            "811/811 [==============================] - 4s 5ms/step - loss: 7.1290e-08 - accuracy: 1.0000 - val_loss: 1.2151e-04 - val_accuracy: 1.0000\n",
            "Epoch 19/20\n",
            "811/811 [==============================] - 4s 5ms/step - loss: 4.4244e-08 - accuracy: 1.0000 - val_loss: 6.1512e-05 - val_accuracy: 1.0000\n",
            "Epoch 20/20\n",
            "811/811 [==============================] - 4s 5ms/step - loss: 2.8810e-08 - accuracy: 1.0000 - val_loss: 2.5483e-05 - val_accuracy: 1.0000\n",
            "Test loss: 2.5483204808551818e-05\n",
            "Test accuracy: 1.0\n"
          ]
        }
      ]
    },
    {
      "cell_type": "markdown",
      "source": [
        "It seems that adding convolutional layers to model which was tranining on x, +, o images dataset, increased accuacy a lot. Just after first epoch, model scores 100% accuracy. We can see how big is impact of convolutional layers, when it comes to detect simple shapes."
      ],
      "metadata": {
        "id": "M9bmBsjDXsY7"
      }
    },
    {
      "cell_type": "markdown",
      "source": [
        "### Adding callbacks and generators"
      ],
      "metadata": {
        "id": "-whWISlXYLdP"
      }
    },
    {
      "cell_type": "code",
      "source": [
        "class CustomCallback_CNN(Callback):\n",
        "    def on_epoch_end(self, epoch, logs=None):\n",
        "        print(f' Epoch {epoch} finished')\n",
        "\n",
        "CNN_keras_callbacks = [\n",
        "      EarlyStopping(monitor='val_loss', patience=5, mode='min', min_delta=0.0001),\n",
        "      CustomCallback_CNN()\n",
        "]\n",
        "\n",
        "CNN_keras_generator = Sequential()\n",
        "\n",
        "CNN_keras_generator.add(Conv2D(64, (3,3), activation='relu', input_shape=(32, 32, 3)))\n",
        "CNN_keras_generator.add(MaxPooling2D(pool_size=(2,2)))\n",
        "CNN_keras_generator.add(Conv2D(64, (3,3), activation='relu'))\n",
        "CNN_keras_generator.add(MaxPooling2D(pool_size=(2,2)))\n",
        "CNN_keras_generator.add(Flatten())\n",
        "CNN_keras_generator.add(Dense(128, activation='relu', input_shape=(32*32*3,)))\n",
        "CNN_keras_generator.add(Dense(32, activation='relu'))\n",
        "CNN_keras_generator.add(Dense(3, activation='softmax'))\n",
        "\n",
        "\n",
        "CNN_keras_generator.compile(loss='categorical_crossentropy',\n",
        "              optimizer='adam',\n",
        "              metrics=['accuracy'])\n",
        "\n",
        "history = CNN_keras_generator.fit(datagen.flow(X_train, y_train,\n",
        "                    batch_size=1),\n",
        "                    epochs=20,\n",
        "                    verbose=1,\n",
        "                    validation_data=(X_test, y_test),\n",
        "                    callbacks=CNN_keras_callbacks)\n",
        "\n",
        "score = CNN_keras_generator.evaluate(X_test, y_test, verbose=0)\n",
        "print('Test loss:', score[0])\n",
        "print('Test accuracy:', score[1])"
      ],
      "metadata": {
        "colab": {
          "base_uri": "https://localhost:8080/"
        },
        "id": "ni9CQ04jYPob",
        "outputId": "2df8838a-7314-4f8a-b766-8c6e34f1b527"
      },
      "execution_count": 88,
      "outputs": [
        {
          "output_type": "stream",
          "name": "stdout",
          "text": [
            "Epoch 1/20\n",
            "807/811 [============================>.] - ETA: 0s - loss: 1.0972 - accuracy: 0.3383 Epoch 0 finished\n",
            "811/811 [==============================] - 6s 6ms/step - loss: 1.0973 - accuracy: 0.3379 - val_loss: 1.0871 - val_accuracy: 0.4396\n",
            "Epoch 2/20\n",
            "805/811 [============================>.] - ETA: 0s - loss: 1.1044 - accuracy: 0.3540 Epoch 1 finished\n",
            "811/811 [==============================] - 5s 7ms/step - loss: 1.1046 - accuracy: 0.3514 - val_loss: 1.0901 - val_accuracy: 0.4396\n",
            "Epoch 3/20\n",
            "804/811 [============================>.] - ETA: 0s - loss: 0.8681 - accuracy: 0.5211 Epoch 2 finished\n",
            "811/811 [==============================] - 5s 7ms/step - loss: 0.8615 - accuracy: 0.5253 - val_loss: 0.1910 - val_accuracy: 0.9121\n",
            "Epoch 4/20\n",
            "804/811 [============================>.] - ETA: 0s - loss: 0.0930 - accuracy: 0.9714 Epoch 3 finished\n",
            "811/811 [==============================] - 5s 6ms/step - loss: 0.0923 - accuracy: 0.9716 - val_loss: 0.0264 - val_accuracy: 0.9890\n",
            "Epoch 5/20\n",
            "811/811 [==============================] - ETA: 0s - loss: 0.0285 - accuracy: 0.9975 Epoch 4 finished\n",
            "811/811 [==============================] - 5s 6ms/step - loss: 0.0285 - accuracy: 0.9975 - val_loss: 8.0920e-04 - val_accuracy: 1.0000\n",
            "Epoch 6/20\n",
            "810/811 [============================>.] - ETA: 0s - loss: 0.0355 - accuracy: 0.9889 Epoch 5 finished\n",
            "811/811 [==============================] - 5s 6ms/step - loss: 0.0355 - accuracy: 0.9889 - val_loss: 5.5134e-04 - val_accuracy: 1.0000\n",
            "Epoch 7/20\n",
            "808/811 [============================>.] - ETA: 0s - loss: 0.0068 - accuracy: 1.0000 Epoch 6 finished\n",
            "811/811 [==============================] - 5s 6ms/step - loss: 0.0068 - accuracy: 1.0000 - val_loss: 8.2806e-05 - val_accuracy: 1.0000\n",
            "Epoch 8/20\n",
            "803/811 [============================>.] - ETA: 0s - loss: 0.0500 - accuracy: 0.9863 Epoch 7 finished\n",
            "811/811 [==============================] - 5s 6ms/step - loss: 0.0495 - accuracy: 0.9864 - val_loss: 3.9093e-04 - val_accuracy: 1.0000\n",
            "Epoch 9/20\n",
            "809/811 [============================>.] - ETA: 0s - loss: 0.0157 - accuracy: 0.9938 Epoch 8 finished\n",
            "811/811 [==============================] - 5s 6ms/step - loss: 0.0156 - accuracy: 0.9938 - val_loss: 2.6499e-05 - val_accuracy: 1.0000\n",
            "Epoch 10/20\n",
            "808/811 [============================>.] - ETA: 0s - loss: 0.0173 - accuracy: 0.9913 Epoch 9 finished\n",
            "811/811 [==============================] - 5s 6ms/step - loss: 0.0173 - accuracy: 0.9914 - val_loss: 1.5507e-04 - val_accuracy: 1.0000\n",
            "Epoch 11/20\n",
            "808/811 [============================>.] - ETA: 0s - loss: 8.1624e-04 - accuracy: 1.0000 Epoch 10 finished\n",
            "811/811 [==============================] - 5s 6ms/step - loss: 8.1323e-04 - accuracy: 1.0000 - val_loss: 7.7413e-06 - val_accuracy: 1.0000\n",
            "Epoch 12/20\n",
            "805/811 [============================>.] - ETA: 0s - loss: 1.0758e-04 - accuracy: 1.0000 Epoch 11 finished\n",
            "811/811 [==============================] - 5s 6ms/step - loss: 1.0683e-04 - accuracy: 1.0000 - val_loss: 5.5801e-06 - val_accuracy: 1.0000\n",
            "Test loss: 5.5801356211304665e-06\n",
            "Test accuracy: 1.0\n"
          ]
        }
      ]
    },
    {
      "cell_type": "markdown",
      "source": [
        "After adding generator and callbacks to the model, we can see now after 4 epochs, model is 100% accurate on validation data. New images provided by generator makes it harder to learn, but second model propably will generalize better thanks to that generator. More samples mean also longer traning time, which now takes 5sec on each epoch, but using EarlyStopping callback, we could stop model from learning after it's not improving anymore, which means that overall learning time can be shorter."
      ],
      "metadata": {
        "id": "bAzP4ZEtaMlq"
      }
    },
    {
      "cell_type": "markdown",
      "metadata": {
        "id": "QkI7n34-o-ZF"
      },
      "source": [
        "Additional task (extra points)\n",
        "- Prepare a network with two inputs and single output, that takes two images and predicts if the objects on the images are of the same or different class"
      ]
    },
    {
      "cell_type": "markdown",
      "source": [
        "# Hyperparameter tuning - automatic search using tools"
      ],
      "metadata": {
        "id": "UufTS8PQ9J09"
      }
    },
    {
      "cell_type": "code",
      "source": [
        "!pip install -q -U keras-tuner"
      ],
      "metadata": {
        "id": "C6YsMPt29N3U",
        "colab": {
          "base_uri": "https://localhost:8080/"
        },
        "outputId": "4db3d3bb-c687-4ad2-84fb-3ea49358df14"
      },
      "execution_count": 90,
      "outputs": [
        {
          "output_type": "stream",
          "name": "stdout",
          "text": [
            "\u001b[?25l\r\u001b[K     |███▍                            | 10 kB 27.0 MB/s eta 0:00:01\r\u001b[K     |██████▊                         | 20 kB 9.9 MB/s eta 0:00:01\r\u001b[K     |██████████                      | 30 kB 8.4 MB/s eta 0:00:01\r\u001b[K     |█████████████▍                  | 40 kB 8.0 MB/s eta 0:00:01\r\u001b[K     |████████████████▊               | 51 kB 5.2 MB/s eta 0:00:01\r\u001b[K     |████████████████████            | 61 kB 5.3 MB/s eta 0:00:01\r\u001b[K     |███████████████████████▍        | 71 kB 5.6 MB/s eta 0:00:01\r\u001b[K     |██████████████████████████▊     | 81 kB 6.2 MB/s eta 0:00:01\r\u001b[K     |██████████████████████████████  | 92 kB 6.3 MB/s eta 0:00:01\r\u001b[K     |████████████████████████████████| 98 kB 3.7 MB/s \n",
            "\u001b[?25h"
          ]
        }
      ]
    },
    {
      "cell_type": "code",
      "source": [
        "import tensorflow as tf\n",
        "from tensorflow import keras\n",
        "from tensorflow.keras import layers\n",
        "import numpy as np\n",
        "import keras_tuner as kt\n",
        "\n",
        "# Download and prepare the dataset - Fashion MNIST\n",
        "(img_train, label_train), (img_test, label_test) = keras.datasets.fashion_mnist.load_data()\n",
        "\n",
        "# Normalize pixel values between 0 and 1\n",
        "img_train = img_train.astype('float32') / 255.0\n",
        "img_test = img_test.astype('float32') / 255.0"
      ],
      "metadata": {
        "id": "UueGGTx59WEl",
        "colab": {
          "base_uri": "https://localhost:8080/"
        },
        "outputId": "07ff4cbc-3efd-4857-cd94-3657dbb65c06"
      },
      "execution_count": 91,
      "outputs": [
        {
          "output_type": "stream",
          "name": "stdout",
          "text": [
            "Downloading data from https://storage.googleapis.com/tensorflow/tf-keras-datasets/train-labels-idx1-ubyte.gz\n",
            "32768/29515 [=================================] - 0s 0us/step\n",
            "40960/29515 [=========================================] - 0s 0us/step\n",
            "Downloading data from https://storage.googleapis.com/tensorflow/tf-keras-datasets/train-images-idx3-ubyte.gz\n",
            "26427392/26421880 [==============================] - 0s 0us/step\n",
            "26435584/26421880 [==============================] - 0s 0us/step\n",
            "Downloading data from https://storage.googleapis.com/tensorflow/tf-keras-datasets/t10k-labels-idx1-ubyte.gz\n",
            "16384/5148 [===============================================================================================] - 0s 0us/step\n",
            "Downloading data from https://storage.googleapis.com/tensorflow/tf-keras-datasets/t10k-images-idx3-ubyte.gz\n",
            "4423680/4422102 [==============================] - 0s 0us/step\n",
            "4431872/4422102 [==============================] - 0s 0us/step\n"
          ]
        }
      ]
    },
    {
      "cell_type": "code",
      "source": [
        "# Define the model\n",
        "# The model builder function returns a compiled model and uses hyperparameters you define inline to hypertune the model\n",
        "\n",
        "def model_builder(hp):\n",
        "  model = keras.Sequential()\n",
        "  model.add(keras.layers.Flatten(input_shape=(28, 28)))\n",
        "\n",
        "  # Tune the number of units in the first Dense layer\n",
        "  # Choose an optimal value between 32-512\n",
        "  hp_units = hp.Int('units', min_value=32, max_value=512, step=32)\n",
        "  model.add(keras.layers.Dense(units=hp_units, activation='relu'))\n",
        "  model.add(keras.layers.Dense(10))\n",
        "\n",
        "  # Tune the learning rate for the optimizer\n",
        "  # Choose an optimal value from 0.01, 0.001, or 0.0001\n",
        "  hp_learning_rate = hp.Choice('learning_rate', values=[1e-2, 1e-3, 1e-4])\n",
        "\n",
        "  model.compile(optimizer=keras.optimizers.Adam(learning_rate=hp_learning_rate),\n",
        "                loss=keras.losses.SparseCategoricalCrossentropy(from_logits=True),\n",
        "                metrics=['accuracy'])\n",
        "\n",
        "  return model"
      ],
      "metadata": {
        "id": "NwEaCXRk9bNS"
      },
      "execution_count": 92,
      "outputs": []
    },
    {
      "cell_type": "code",
      "source": [
        "# Instantiate the tuner to perform the hypertuning. The Keras Tuner has four tuners available - RandomSearch, Hyperband, BayesianOptimization, and Sklearn. In this tutorial, you use the Hyperband tuner.\n",
        "# To instantiate the Hyperband tuner, you must specify the hypermodel, the objective to optimize and the maximum number of epochs to train (max_epochs).\n",
        "\n",
        "tuner = kt.Hyperband(model_builder,\n",
        "                     objective='val_accuracy',\n",
        "                     max_epochs=10,\n",
        "                     factor=3,\n",
        "                     directory='my_dir',\n",
        "                     project_name='intro_to_keras_tuning')"
      ],
      "metadata": {
        "id": "AkbBwCcJ-AUj"
      },
      "execution_count": 93,
      "outputs": []
    },
    {
      "cell_type": "code",
      "source": [
        "# You can print a summary of the search space:\n",
        "tuner.search_space_summary()"
      ],
      "metadata": {
        "id": "JFX4fFU0-I7j",
        "colab": {
          "base_uri": "https://localhost:8080/"
        },
        "outputId": "92b7cf7c-04d7-47a1-c629-cd16dda1fa7f"
      },
      "execution_count": 94,
      "outputs": [
        {
          "output_type": "stream",
          "name": "stdout",
          "text": [
            "Search space summary\n",
            "Default search space size: 2\n",
            "units (Int)\n",
            "{'default': None, 'conditions': [], 'min_value': 32, 'max_value': 512, 'step': 32, 'sampling': None}\n",
            "learning_rate (Choice)\n",
            "{'default': 0.01, 'conditions': [], 'values': [0.01, 0.001, 0.0001], 'ordered': True}\n"
          ]
        }
      ]
    },
    {
      "cell_type": "code",
      "source": [
        "# Create a callback to stop training early after reaching a certain value for the validation loss.\n",
        "\n",
        "stop_early = tf.keras.callbacks.EarlyStopping(monitor='val_loss', patience=5)"
      ],
      "metadata": {
        "id": "pM_fhsmS-LGb"
      },
      "execution_count": 95,
      "outputs": []
    },
    {
      "cell_type": "code",
      "source": [
        "# Run the hyperparameter search. The arguments for the search method are the same as those used for tf.keras.model.fit in addition to the callback above.\n",
        "\n",
        "tuner.search(img_train, label_train, epochs=50, validation_split=0.2, callbacks=[stop_early])\n",
        "\n",
        "# Get the optimal hyperparameters\n",
        "best_hps=tuner.get_best_hyperparameters(num_trials=1)[0]\n",
        "\n",
        "print(f\"\"\"\n",
        "The hyperparameter search is complete. The optimal number of units in the first densely-connected\n",
        "layer is {best_hps.get('units')} and the optimal learning rate for the optimizer\n",
        "is {best_hps.get('learning_rate')}.\n",
        "\"\"\")"
      ],
      "metadata": {
        "id": "D7rwvGDp-LI8",
        "colab": {
          "base_uri": "https://localhost:8080/"
        },
        "outputId": "72e5a218-7233-473f-9cb5-24101b9a81a4"
      },
      "execution_count": 96,
      "outputs": [
        {
          "output_type": "stream",
          "name": "stdout",
          "text": [
            "Trial 30 Complete [00h 01m 22s]\n",
            "val_accuracy: 0.8901666402816772\n",
            "\n",
            "Best val_accuracy So Far: 0.8901666402816772\n",
            "Total elapsed time: 00h 17m 41s\n",
            "INFO:tensorflow:Oracle triggered exit\n",
            "\n",
            "The hyperparameter search is complete. The optimal number of units in the first densely-connected\n",
            "layer is 352 and the optimal learning rate for the optimizer\n",
            "is 0.001.\n",
            "\n"
          ]
        }
      ]
    },
    {
      "cell_type": "code",
      "source": [
        "# Build the model with the optimal hyperparameters and train it on the data for 50 epochs\n",
        "model = tuner.hypermodel.build(best_hps)\n",
        "history = model.fit(img_train, label_train, epochs=50, validation_split=0.2)\n",
        "\n",
        "val_acc_per_epoch = history.history['val_accuracy']\n",
        "best_epoch = val_acc_per_epoch.index(max(val_acc_per_epoch)) + 1\n",
        "print('Best epoch: %d' % (best_epoch,))"
      ],
      "metadata": {
        "id": "UTm8kt7Z-LLm",
        "colab": {
          "base_uri": "https://localhost:8080/"
        },
        "outputId": "95915536-dc1a-4808-97dd-33aea5e56525"
      },
      "execution_count": 97,
      "outputs": [
        {
          "output_type": "stream",
          "name": "stdout",
          "text": [
            "Epoch 1/50\n",
            "1500/1500 [==============================] - 6s 4ms/step - loss: 0.4988 - accuracy: 0.8230 - val_loss: 0.4141 - val_accuracy: 0.8528\n",
            "Epoch 2/50\n",
            "1500/1500 [==============================] - 5s 3ms/step - loss: 0.3704 - accuracy: 0.8653 - val_loss: 0.3682 - val_accuracy: 0.8684\n",
            "Epoch 3/50\n",
            "1500/1500 [==============================] - 6s 4ms/step - loss: 0.3311 - accuracy: 0.8779 - val_loss: 0.3354 - val_accuracy: 0.8802\n",
            "Epoch 4/50\n",
            "1500/1500 [==============================] - 5s 3ms/step - loss: 0.3075 - accuracy: 0.8862 - val_loss: 0.3263 - val_accuracy: 0.8832\n",
            "Epoch 5/50\n",
            "1500/1500 [==============================] - 6s 4ms/step - loss: 0.2889 - accuracy: 0.8930 - val_loss: 0.3372 - val_accuracy: 0.8763\n",
            "Epoch 6/50\n",
            "1500/1500 [==============================] - 6s 4ms/step - loss: 0.2692 - accuracy: 0.9001 - val_loss: 0.3241 - val_accuracy: 0.8830\n",
            "Epoch 7/50\n",
            "1500/1500 [==============================] - 5s 3ms/step - loss: 0.2579 - accuracy: 0.9027 - val_loss: 0.3098 - val_accuracy: 0.8903\n",
            "Epoch 8/50\n",
            "1500/1500 [==============================] - 6s 4ms/step - loss: 0.2457 - accuracy: 0.9089 - val_loss: 0.3225 - val_accuracy: 0.8887\n",
            "Epoch 9/50\n",
            "1500/1500 [==============================] - 6s 4ms/step - loss: 0.2352 - accuracy: 0.9121 - val_loss: 0.3090 - val_accuracy: 0.8906\n",
            "Epoch 10/50\n",
            "1500/1500 [==============================] - 6s 4ms/step - loss: 0.2274 - accuracy: 0.9151 - val_loss: 0.3323 - val_accuracy: 0.8862\n",
            "Epoch 11/50\n",
            "1500/1500 [==============================] - 5s 3ms/step - loss: 0.2171 - accuracy: 0.9184 - val_loss: 0.3110 - val_accuracy: 0.8915\n",
            "Epoch 12/50\n",
            "1500/1500 [==============================] - 5s 3ms/step - loss: 0.2091 - accuracy: 0.9216 - val_loss: 0.3261 - val_accuracy: 0.8906\n",
            "Epoch 13/50\n",
            "1500/1500 [==============================] - 5s 3ms/step - loss: 0.2007 - accuracy: 0.9244 - val_loss: 0.3429 - val_accuracy: 0.8833\n",
            "Epoch 14/50\n",
            "1500/1500 [==============================] - 5s 3ms/step - loss: 0.1945 - accuracy: 0.9262 - val_loss: 0.3495 - val_accuracy: 0.8880\n",
            "Epoch 15/50\n",
            "1500/1500 [==============================] - 5s 3ms/step - loss: 0.1869 - accuracy: 0.9296 - val_loss: 0.3309 - val_accuracy: 0.8897\n",
            "Epoch 16/50\n",
            "1500/1500 [==============================] - 5s 3ms/step - loss: 0.1808 - accuracy: 0.9317 - val_loss: 0.3378 - val_accuracy: 0.8902\n",
            "Epoch 17/50\n",
            "1500/1500 [==============================] - 5s 3ms/step - loss: 0.1752 - accuracy: 0.9332 - val_loss: 0.3339 - val_accuracy: 0.8907\n",
            "Epoch 18/50\n",
            "1500/1500 [==============================] - 5s 3ms/step - loss: 0.1690 - accuracy: 0.9370 - val_loss: 0.3398 - val_accuracy: 0.8902\n",
            "Epoch 19/50\n",
            "1500/1500 [==============================] - 5s 3ms/step - loss: 0.1622 - accuracy: 0.9386 - val_loss: 0.3558 - val_accuracy: 0.8882\n",
            "Epoch 20/50\n",
            "1500/1500 [==============================] - 5s 3ms/step - loss: 0.1610 - accuracy: 0.9388 - val_loss: 0.3778 - val_accuracy: 0.8811\n",
            "Epoch 21/50\n",
            "1500/1500 [==============================] - 5s 3ms/step - loss: 0.1559 - accuracy: 0.9404 - val_loss: 0.3437 - val_accuracy: 0.8908\n",
            "Epoch 22/50\n",
            "1500/1500 [==============================] - 5s 4ms/step - loss: 0.1467 - accuracy: 0.9443 - val_loss: 0.3606 - val_accuracy: 0.8866\n",
            "Epoch 23/50\n",
            "1500/1500 [==============================] - 6s 4ms/step - loss: 0.1474 - accuracy: 0.9441 - val_loss: 0.3716 - val_accuracy: 0.8891\n",
            "Epoch 24/50\n",
            "1500/1500 [==============================] - 5s 3ms/step - loss: 0.1407 - accuracy: 0.9473 - val_loss: 0.3682 - val_accuracy: 0.8907\n",
            "Epoch 25/50\n",
            "1500/1500 [==============================] - 5s 3ms/step - loss: 0.1352 - accuracy: 0.9493 - val_loss: 0.3658 - val_accuracy: 0.8910\n",
            "Epoch 26/50\n",
            "1500/1500 [==============================] - 5s 3ms/step - loss: 0.1341 - accuracy: 0.9506 - val_loss: 0.3699 - val_accuracy: 0.8936\n",
            "Epoch 27/50\n",
            "1500/1500 [==============================] - 6s 4ms/step - loss: 0.1282 - accuracy: 0.9521 - val_loss: 0.3889 - val_accuracy: 0.8897\n",
            "Epoch 28/50\n",
            "1500/1500 [==============================] - 6s 4ms/step - loss: 0.1259 - accuracy: 0.9528 - val_loss: 0.3734 - val_accuracy: 0.8929\n",
            "Epoch 29/50\n",
            "1500/1500 [==============================] - 5s 3ms/step - loss: 0.1206 - accuracy: 0.9538 - val_loss: 0.4312 - val_accuracy: 0.8866\n",
            "Epoch 30/50\n",
            "1500/1500 [==============================] - 6s 4ms/step - loss: 0.1218 - accuracy: 0.9538 - val_loss: 0.4010 - val_accuracy: 0.8916\n",
            "Epoch 31/50\n",
            "1500/1500 [==============================] - 5s 3ms/step - loss: 0.1191 - accuracy: 0.9551 - val_loss: 0.4304 - val_accuracy: 0.8913\n",
            "Epoch 32/50\n",
            "1500/1500 [==============================] - 5s 3ms/step - loss: 0.1136 - accuracy: 0.9574 - val_loss: 0.4241 - val_accuracy: 0.8904\n",
            "Epoch 33/50\n",
            "1500/1500 [==============================] - 5s 3ms/step - loss: 0.1100 - accuracy: 0.9586 - val_loss: 0.4181 - val_accuracy: 0.8928\n",
            "Epoch 34/50\n",
            "1500/1500 [==============================] - 6s 4ms/step - loss: 0.1066 - accuracy: 0.9605 - val_loss: 0.4259 - val_accuracy: 0.8922\n",
            "Epoch 35/50\n",
            "1500/1500 [==============================] - 6s 4ms/step - loss: 0.1049 - accuracy: 0.9599 - val_loss: 0.4194 - val_accuracy: 0.8880\n",
            "Epoch 36/50\n",
            "1500/1500 [==============================] - 5s 3ms/step - loss: 0.1017 - accuracy: 0.9614 - val_loss: 0.4564 - val_accuracy: 0.8860\n",
            "Epoch 37/50\n",
            "1500/1500 [==============================] - 6s 4ms/step - loss: 0.1001 - accuracy: 0.9618 - val_loss: 0.4460 - val_accuracy: 0.8898\n",
            "Epoch 38/50\n",
            "1500/1500 [==============================] - 5s 3ms/step - loss: 0.1016 - accuracy: 0.9616 - val_loss: 0.4235 - val_accuracy: 0.8929\n",
            "Epoch 39/50\n",
            "1500/1500 [==============================] - 6s 4ms/step - loss: 0.0933 - accuracy: 0.9643 - val_loss: 0.4588 - val_accuracy: 0.8923\n",
            "Epoch 40/50\n",
            "1500/1500 [==============================] - 5s 4ms/step - loss: 0.0962 - accuracy: 0.9638 - val_loss: 0.4462 - val_accuracy: 0.8947\n",
            "Epoch 41/50\n",
            "1500/1500 [==============================] - 5s 3ms/step - loss: 0.0890 - accuracy: 0.9671 - val_loss: 0.4735 - val_accuracy: 0.8940\n",
            "Epoch 42/50\n",
            "1500/1500 [==============================] - 5s 3ms/step - loss: 0.0884 - accuracy: 0.9674 - val_loss: 0.4689 - val_accuracy: 0.8882\n",
            "Epoch 43/50\n",
            "1500/1500 [==============================] - 5s 3ms/step - loss: 0.0895 - accuracy: 0.9661 - val_loss: 0.4784 - val_accuracy: 0.8910\n",
            "Epoch 44/50\n",
            "1500/1500 [==============================] - 6s 4ms/step - loss: 0.0882 - accuracy: 0.9675 - val_loss: 0.4979 - val_accuracy: 0.8908\n",
            "Epoch 45/50\n",
            "1500/1500 [==============================] - 6s 4ms/step - loss: 0.0809 - accuracy: 0.9699 - val_loss: 0.4924 - val_accuracy: 0.8907\n",
            "Epoch 46/50\n",
            "1500/1500 [==============================] - 5s 4ms/step - loss: 0.0811 - accuracy: 0.9690 - val_loss: 0.4795 - val_accuracy: 0.8919\n",
            "Epoch 47/50\n",
            "1500/1500 [==============================] - 6s 4ms/step - loss: 0.0799 - accuracy: 0.9705 - val_loss: 0.5035 - val_accuracy: 0.8922\n",
            "Epoch 48/50\n",
            "1500/1500 [==============================] - 6s 4ms/step - loss: 0.0784 - accuracy: 0.9704 - val_loss: 0.5390 - val_accuracy: 0.8883\n",
            "Epoch 49/50\n",
            "1500/1500 [==============================] - 6s 4ms/step - loss: 0.0781 - accuracy: 0.9709 - val_loss: 0.5087 - val_accuracy: 0.8926\n",
            "Epoch 50/50\n",
            "1500/1500 [==============================] - 5s 4ms/step - loss: 0.0776 - accuracy: 0.9706 - val_loss: 0.5319 - val_accuracy: 0.8890\n",
            "Best epoch: 40\n"
          ]
        }
      ]
    },
    {
      "cell_type": "code",
      "source": [
        "# Re-instantiate the hypermodel and train it with the optimal number of epochs from above.\n",
        "\n",
        "hypermodel = tuner.hypermodel.build(best_hps)\n",
        "\n",
        "# Retrain the model\n",
        "hypermodel.fit(img_train, label_train, epochs=best_epoch, validation_split=0.2)"
      ],
      "metadata": {
        "id": "0N9PNsv7-LOY",
        "colab": {
          "base_uri": "https://localhost:8080/"
        },
        "outputId": "c17df8a7-f665-44f0-c61e-0bd802a2e6ea"
      },
      "execution_count": 98,
      "outputs": [
        {
          "output_type": "stream",
          "name": "stdout",
          "text": [
            "Epoch 1/40\n",
            "1500/1500 [==============================] - 6s 3ms/step - loss: 0.4924 - accuracy: 0.8263 - val_loss: 0.4388 - val_accuracy: 0.8359\n",
            "Epoch 2/40\n",
            "1500/1500 [==============================] - 5s 3ms/step - loss: 0.3700 - accuracy: 0.8644 - val_loss: 0.3811 - val_accuracy: 0.8612\n",
            "Epoch 3/40\n",
            "1500/1500 [==============================] - 5s 3ms/step - loss: 0.3317 - accuracy: 0.8784 - val_loss: 0.3569 - val_accuracy: 0.8713\n",
            "Epoch 4/40\n",
            "1500/1500 [==============================] - 5s 3ms/step - loss: 0.3067 - accuracy: 0.8865 - val_loss: 0.3281 - val_accuracy: 0.8826\n",
            "Epoch 5/40\n",
            "1500/1500 [==============================] - 5s 3ms/step - loss: 0.2889 - accuracy: 0.8925 - val_loss: 0.3220 - val_accuracy: 0.8850\n",
            "Epoch 6/40\n",
            "1500/1500 [==============================] - 6s 4ms/step - loss: 0.2741 - accuracy: 0.8985 - val_loss: 0.3322 - val_accuracy: 0.8821\n",
            "Epoch 7/40\n",
            "1500/1500 [==============================] - 5s 3ms/step - loss: 0.2580 - accuracy: 0.9024 - val_loss: 0.3469 - val_accuracy: 0.8737\n",
            "Epoch 8/40\n",
            "1500/1500 [==============================] - 6s 4ms/step - loss: 0.2472 - accuracy: 0.9062 - val_loss: 0.3340 - val_accuracy: 0.8848\n",
            "Epoch 9/40\n",
            "1500/1500 [==============================] - 6s 4ms/step - loss: 0.2378 - accuracy: 0.9100 - val_loss: 0.3219 - val_accuracy: 0.8846\n",
            "Epoch 10/40\n",
            "1500/1500 [==============================] - 5s 3ms/step - loss: 0.2258 - accuracy: 0.9150 - val_loss: 0.3243 - val_accuracy: 0.8882\n",
            "Epoch 11/40\n",
            "1500/1500 [==============================] - 6s 4ms/step - loss: 0.2191 - accuracy: 0.9177 - val_loss: 0.3096 - val_accuracy: 0.8928\n",
            "Epoch 12/40\n",
            "1500/1500 [==============================] - 5s 3ms/step - loss: 0.2085 - accuracy: 0.9204 - val_loss: 0.3510 - val_accuracy: 0.8787\n",
            "Epoch 13/40\n",
            "1500/1500 [==============================] - 6s 4ms/step - loss: 0.2012 - accuracy: 0.9247 - val_loss: 0.3292 - val_accuracy: 0.8906\n",
            "Epoch 14/40\n",
            "1500/1500 [==============================] - 5s 3ms/step - loss: 0.1946 - accuracy: 0.9269 - val_loss: 0.3204 - val_accuracy: 0.8933\n",
            "Epoch 15/40\n",
            "1500/1500 [==============================] - 6s 4ms/step - loss: 0.1880 - accuracy: 0.9296 - val_loss: 0.3195 - val_accuracy: 0.8909\n",
            "Epoch 16/40\n",
            "1500/1500 [==============================] - 6s 4ms/step - loss: 0.1814 - accuracy: 0.9308 - val_loss: 0.3404 - val_accuracy: 0.8896\n",
            "Epoch 17/40\n",
            "1500/1500 [==============================] - 6s 4ms/step - loss: 0.1745 - accuracy: 0.9345 - val_loss: 0.3494 - val_accuracy: 0.8916\n",
            "Epoch 18/40\n",
            "1500/1500 [==============================] - 5s 3ms/step - loss: 0.1685 - accuracy: 0.9362 - val_loss: 0.3454 - val_accuracy: 0.8932\n",
            "Epoch 19/40\n",
            "1500/1500 [==============================] - 6s 4ms/step - loss: 0.1630 - accuracy: 0.9389 - val_loss: 0.3503 - val_accuracy: 0.8906\n",
            "Epoch 20/40\n",
            "1500/1500 [==============================] - 6s 4ms/step - loss: 0.1579 - accuracy: 0.9409 - val_loss: 0.3610 - val_accuracy: 0.8929\n",
            "Epoch 21/40\n",
            "1500/1500 [==============================] - 5s 3ms/step - loss: 0.1554 - accuracy: 0.9419 - val_loss: 0.3469 - val_accuracy: 0.8929\n",
            "Epoch 22/40\n",
            "1500/1500 [==============================] - 6s 4ms/step - loss: 0.1487 - accuracy: 0.9432 - val_loss: 0.3573 - val_accuracy: 0.8957\n",
            "Epoch 23/40\n",
            "1500/1500 [==============================] - 5s 3ms/step - loss: 0.1443 - accuracy: 0.9457 - val_loss: 0.3718 - val_accuracy: 0.8919\n",
            "Epoch 24/40\n",
            "1500/1500 [==============================] - 5s 3ms/step - loss: 0.1427 - accuracy: 0.9455 - val_loss: 0.3967 - val_accuracy: 0.8863\n",
            "Epoch 25/40\n",
            "1500/1500 [==============================] - 6s 4ms/step - loss: 0.1357 - accuracy: 0.9476 - val_loss: 0.3823 - val_accuracy: 0.8877\n",
            "Epoch 26/40\n",
            "1500/1500 [==============================] - 5s 3ms/step - loss: 0.1321 - accuracy: 0.9499 - val_loss: 0.3606 - val_accuracy: 0.8937\n",
            "Epoch 27/40\n",
            "1500/1500 [==============================] - 5s 3ms/step - loss: 0.1295 - accuracy: 0.9507 - val_loss: 0.3923 - val_accuracy: 0.8923\n",
            "Epoch 28/40\n",
            "1500/1500 [==============================] - 5s 3ms/step - loss: 0.1248 - accuracy: 0.9531 - val_loss: 0.3704 - val_accuracy: 0.8963\n",
            "Epoch 29/40\n",
            "1500/1500 [==============================] - 5s 3ms/step - loss: 0.1233 - accuracy: 0.9532 - val_loss: 0.3729 - val_accuracy: 0.8960\n",
            "Epoch 30/40\n",
            "1500/1500 [==============================] - 6s 4ms/step - loss: 0.1185 - accuracy: 0.9554 - val_loss: 0.4019 - val_accuracy: 0.8944\n",
            "Epoch 31/40\n",
            "1500/1500 [==============================] - 6s 4ms/step - loss: 0.1149 - accuracy: 0.9562 - val_loss: 0.4165 - val_accuracy: 0.8907\n",
            "Epoch 32/40\n",
            "1500/1500 [==============================] - 6s 4ms/step - loss: 0.1116 - accuracy: 0.9581 - val_loss: 0.3985 - val_accuracy: 0.8991\n",
            "Epoch 33/40\n",
            "1500/1500 [==============================] - 6s 4ms/step - loss: 0.1079 - accuracy: 0.9599 - val_loss: 0.4382 - val_accuracy: 0.8909\n",
            "Epoch 34/40\n",
            "1500/1500 [==============================] - 6s 4ms/step - loss: 0.1086 - accuracy: 0.9591 - val_loss: 0.4149 - val_accuracy: 0.8942\n",
            "Epoch 35/40\n",
            "1500/1500 [==============================] - 5s 3ms/step - loss: 0.1037 - accuracy: 0.9606 - val_loss: 0.4361 - val_accuracy: 0.8930\n",
            "Epoch 36/40\n",
            "1500/1500 [==============================] - 5s 3ms/step - loss: 0.1009 - accuracy: 0.9616 - val_loss: 0.4340 - val_accuracy: 0.8951\n",
            "Epoch 37/40\n",
            "1500/1500 [==============================] - 6s 4ms/step - loss: 0.0996 - accuracy: 0.9622 - val_loss: 0.4633 - val_accuracy: 0.8889\n",
            "Epoch 38/40\n",
            "1500/1500 [==============================] - 5s 3ms/step - loss: 0.0971 - accuracy: 0.9637 - val_loss: 0.4339 - val_accuracy: 0.8938\n",
            "Epoch 39/40\n",
            "1500/1500 [==============================] - 5s 3ms/step - loss: 0.0976 - accuracy: 0.9637 - val_loss: 0.4706 - val_accuracy: 0.8919\n",
            "Epoch 40/40\n",
            "1500/1500 [==============================] - 6s 4ms/step - loss: 0.0908 - accuracy: 0.9662 - val_loss: 0.4913 - val_accuracy: 0.8876\n"
          ]
        },
        {
          "output_type": "execute_result",
          "data": {
            "text/plain": [
              "<keras.callbacks.History at 0x7fc801ee0110>"
            ]
          },
          "metadata": {},
          "execution_count": 98
        }
      ]
    },
    {
      "cell_type": "code",
      "source": [
        "# Finally evaluate the hypermodel on the test data.\n",
        "\n",
        "eval_result = hypermodel.evaluate(img_test, label_test)\n",
        "print(\"[test loss, test accuracy]:\", eval_result)"
      ],
      "metadata": {
        "id": "6Q2L6nLj-LSr",
        "colab": {
          "base_uri": "https://localhost:8080/"
        },
        "outputId": "d4a22855-b88f-4b13-d13e-b35640d4cb0d"
      },
      "execution_count": 99,
      "outputs": [
        {
          "output_type": "stream",
          "name": "stdout",
          "text": [
            "313/313 [==============================] - 1s 4ms/step - loss: 0.5421 - accuracy: 0.8802\n",
            "[test loss, test accuracy]: [0.5420951843261719, 0.8802000284194946]\n"
          ]
        }
      ]
    }
  ]
}