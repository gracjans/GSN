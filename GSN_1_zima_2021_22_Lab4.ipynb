{
  "nbformat": 4,
  "nbformat_minor": 0,
  "metadata": {
    "colab": {
      "name": "GSN_1_zima_2021_22_Lab4.ipynb",
      "provenance": [],
      "collapsed_sections": [],
      "include_colab_link": true
    },
    "kernelspec": {
      "name": "python3",
      "display_name": "Python 3"
    },
    "language_info": {
      "name": "python"
    }
  },
  "cells": [
    {
      "cell_type": "markdown",
      "metadata": {
        "id": "view-in-github",
        "colab_type": "text"
      },
      "source": [
        "<a href=\"https://colab.research.google.com/github/gracjans/GSN/blob/main/GSN_1_zima_2021_22_Lab4.ipynb\" target=\"_parent\"><img src=\"https://colab.research.google.com/assets/colab-badge.svg\" alt=\"Open In Colab\"/></a>"
      ]
    },
    {
      "cell_type": "code",
      "metadata": {
        "id": "m4jNrQHCLn_W"
      },
      "source": [
        ""
      ],
      "execution_count": null,
      "outputs": []
    },
    {
      "cell_type": "markdown",
      "metadata": {
        "id": "l4URUV8_K6JG"
      },
      "source": [
        "# GSN 1 - Winter 2021/22 \n",
        "Homework check and self study"
      ]
    },
    {
      "cell_type": "markdown",
      "metadata": {
        "id": "XIr2bE6hLEe9"
      },
      "source": [
        "### Task 1\n",
        "- Using the code prepared during homework perform a \"forward pass\" through your networks using syntetic data created in previous classes\n",
        "\n",
        "- What operations (if any) do you have to perform on input data to be able to do this operation. \n",
        "\n"
      ]
    },
    {
      "cell_type": "markdown",
      "metadata": {
        "id": "99mJMf48LUGA"
      },
      "source": [
        "## Task 2\n",
        "\n",
        "Using previous knowledge answer following questions:\n",
        "- What is a classification task? What does it mean, that an entity belongs to a \"class\"\n",
        "\n",
        "- Try to propose a method (methods) for calculating \"error\" in defining affiliation of the input data to a specific class. Is it necessary to transform the labels \n",
        "\n",
        "- How would you describe the \"probability\" of input data belonging to a class (using the network output). \n",
        "\n"
      ]
    },
    {
      "cell_type": "markdown",
      "metadata": {
        "id": "I8E8LM-ULWko"
      },
      "source": [
        "## Task 3\n",
        "\n",
        "- Is it possible (using your current knowledge) to modify the weights in the network to perform the classification task \"better\"? How would you do it?"
      ]
    }
  ]
}