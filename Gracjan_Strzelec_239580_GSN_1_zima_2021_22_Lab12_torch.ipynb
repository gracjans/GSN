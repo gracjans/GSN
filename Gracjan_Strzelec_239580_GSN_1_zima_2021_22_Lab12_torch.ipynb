{
  "nbformat": 4,
  "nbformat_minor": 0,
  "metadata": {
    "colab": {
      "name": "Gracjan_Strzelec_239580_GSN_1_zima_2021_22_Lab12_torch.ipynb",
      "provenance": [],
      "collapsed_sections": [
        "xuXYRPizWOyy",
        "mUS8HLySXw9p",
        "7VvGxn_zM-fb",
        "RGZdNru1O2m9",
        "MQmVy9hBPFPV",
        "TUcf7ySDPd3p",
        "8MfkRBLUQCi_",
        "KGhOqZkaQdCw",
        "kV7Cj1fIQ0Jm",
        "jX3Q6K-rR2Fz",
        "q_kY528iSzHV",
        "pXUcfEbJS5Yq",
        "wP1dFIlWTSjl",
        "Gae5ApOHTdre",
        "nGv5knorT1iW",
        "Z7I0XDELUjnO",
        "LCFhSx1hZu1V",
        "_FYuCTTJdpSs",
        "uYA0rqr3ddJP"
      ]
    },
    "kernelspec": {
      "name": "python3",
      "display_name": "Python 3"
    },
    "language_info": {
      "name": "python"
    },
    "accelerator": "GPU",
    "widgets": {
      "application/vnd.jupyter.widget-state+json": {
        "07bfbc8387784dacbf6e19e4d7e46a9e": {
          "model_module": "@jupyter-widgets/controls",
          "model_name": "HBoxModel",
          "model_module_version": "1.5.0",
          "state": {
            "_view_name": "HBoxView",
            "_dom_classes": [],
            "_model_name": "HBoxModel",
            "_view_module": "@jupyter-widgets/controls",
            "_model_module_version": "1.5.0",
            "_view_count": null,
            "_view_module_version": "1.5.0",
            "box_style": "",
            "layout": "IPY_MODEL_4be1c4a765f1436989f60bcebbb28013",
            "_model_module": "@jupyter-widgets/controls",
            "children": [
              "IPY_MODEL_c75a4642fa4d44f88bcfc95f867a8f20",
              "IPY_MODEL_eba4afd76a514b2ca355f485b63ae2b2",
              "IPY_MODEL_1963181ac59448e38ee8a58797b1011c"
            ]
          }
        },
        "4be1c4a765f1436989f60bcebbb28013": {
          "model_module": "@jupyter-widgets/base",
          "model_name": "LayoutModel",
          "model_module_version": "1.2.0",
          "state": {
            "_view_name": "LayoutView",
            "grid_template_rows": null,
            "right": null,
            "justify_content": null,
            "_view_module": "@jupyter-widgets/base",
            "overflow": null,
            "_model_module_version": "1.2.0",
            "_view_count": null,
            "flex_flow": null,
            "width": null,
            "min_width": null,
            "border": null,
            "align_items": null,
            "bottom": null,
            "_model_module": "@jupyter-widgets/base",
            "top": null,
            "grid_column": null,
            "overflow_y": null,
            "overflow_x": null,
            "grid_auto_flow": null,
            "grid_area": null,
            "grid_template_columns": null,
            "flex": null,
            "_model_name": "LayoutModel",
            "justify_items": null,
            "grid_row": null,
            "max_height": null,
            "align_content": null,
            "visibility": null,
            "align_self": null,
            "height": null,
            "min_height": null,
            "padding": null,
            "grid_auto_rows": null,
            "grid_gap": null,
            "max_width": null,
            "order": null,
            "_view_module_version": "1.2.0",
            "grid_template_areas": null,
            "object_position": null,
            "object_fit": null,
            "grid_auto_columns": null,
            "margin": null,
            "display": null,
            "left": null
          }
        },
        "c75a4642fa4d44f88bcfc95f867a8f20": {
          "model_module": "@jupyter-widgets/controls",
          "model_name": "HTMLModel",
          "model_module_version": "1.5.0",
          "state": {
            "_view_name": "HTMLView",
            "style": "IPY_MODEL_d38ce182b23a4bf9abd07d311aede57e",
            "_dom_classes": [],
            "description": "",
            "_model_name": "HTMLModel",
            "placeholder": "​",
            "_view_module": "@jupyter-widgets/controls",
            "_model_module_version": "1.5.0",
            "value": "",
            "_view_count": null,
            "_view_module_version": "1.5.0",
            "description_tooltip": null,
            "_model_module": "@jupyter-widgets/controls",
            "layout": "IPY_MODEL_97dfcd7cf26f4a2ea9ebe70365f19d8d"
          }
        },
        "eba4afd76a514b2ca355f485b63ae2b2": {
          "model_module": "@jupyter-widgets/controls",
          "model_name": "FloatProgressModel",
          "model_module_version": "1.5.0",
          "state": {
            "_view_name": "ProgressView",
            "style": "IPY_MODEL_f0db5be6e6f54bdf9513715bdaa19047",
            "_dom_classes": [],
            "description": "",
            "_model_name": "FloatProgressModel",
            "bar_style": "success",
            "max": 26421880,
            "_view_module": "@jupyter-widgets/controls",
            "_model_module_version": "1.5.0",
            "value": 26421880,
            "_view_count": null,
            "_view_module_version": "1.5.0",
            "orientation": "horizontal",
            "min": 0,
            "description_tooltip": null,
            "_model_module": "@jupyter-widgets/controls",
            "layout": "IPY_MODEL_7c57021144d4418383207586006b033b"
          }
        },
        "1963181ac59448e38ee8a58797b1011c": {
          "model_module": "@jupyter-widgets/controls",
          "model_name": "HTMLModel",
          "model_module_version": "1.5.0",
          "state": {
            "_view_name": "HTMLView",
            "style": "IPY_MODEL_097a6c72d31941aa814ca3857ff54696",
            "_dom_classes": [],
            "description": "",
            "_model_name": "HTMLModel",
            "placeholder": "​",
            "_view_module": "@jupyter-widgets/controls",
            "_model_module_version": "1.5.0",
            "value": " 26422272/? [00:01&lt;00:00, 23391779.72it/s]",
            "_view_count": null,
            "_view_module_version": "1.5.0",
            "description_tooltip": null,
            "_model_module": "@jupyter-widgets/controls",
            "layout": "IPY_MODEL_2d9f37b9e864402f946e22b95d6d6054"
          }
        },
        "d38ce182b23a4bf9abd07d311aede57e": {
          "model_module": "@jupyter-widgets/controls",
          "model_name": "DescriptionStyleModel",
          "model_module_version": "1.5.0",
          "state": {
            "_view_name": "StyleView",
            "_model_name": "DescriptionStyleModel",
            "description_width": "",
            "_view_module": "@jupyter-widgets/base",
            "_model_module_version": "1.5.0",
            "_view_count": null,
            "_view_module_version": "1.2.0",
            "_model_module": "@jupyter-widgets/controls"
          }
        },
        "97dfcd7cf26f4a2ea9ebe70365f19d8d": {
          "model_module": "@jupyter-widgets/base",
          "model_name": "LayoutModel",
          "model_module_version": "1.2.0",
          "state": {
            "_view_name": "LayoutView",
            "grid_template_rows": null,
            "right": null,
            "justify_content": null,
            "_view_module": "@jupyter-widgets/base",
            "overflow": null,
            "_model_module_version": "1.2.0",
            "_view_count": null,
            "flex_flow": null,
            "width": null,
            "min_width": null,
            "border": null,
            "align_items": null,
            "bottom": null,
            "_model_module": "@jupyter-widgets/base",
            "top": null,
            "grid_column": null,
            "overflow_y": null,
            "overflow_x": null,
            "grid_auto_flow": null,
            "grid_area": null,
            "grid_template_columns": null,
            "flex": null,
            "_model_name": "LayoutModel",
            "justify_items": null,
            "grid_row": null,
            "max_height": null,
            "align_content": null,
            "visibility": null,
            "align_self": null,
            "height": null,
            "min_height": null,
            "padding": null,
            "grid_auto_rows": null,
            "grid_gap": null,
            "max_width": null,
            "order": null,
            "_view_module_version": "1.2.0",
            "grid_template_areas": null,
            "object_position": null,
            "object_fit": null,
            "grid_auto_columns": null,
            "margin": null,
            "display": null,
            "left": null
          }
        },
        "f0db5be6e6f54bdf9513715bdaa19047": {
          "model_module": "@jupyter-widgets/controls",
          "model_name": "ProgressStyleModel",
          "model_module_version": "1.5.0",
          "state": {
            "_view_name": "StyleView",
            "_model_name": "ProgressStyleModel",
            "description_width": "",
            "_view_module": "@jupyter-widgets/base",
            "_model_module_version": "1.5.0",
            "_view_count": null,
            "_view_module_version": "1.2.0",
            "bar_color": null,
            "_model_module": "@jupyter-widgets/controls"
          }
        },
        "7c57021144d4418383207586006b033b": {
          "model_module": "@jupyter-widgets/base",
          "model_name": "LayoutModel",
          "model_module_version": "1.2.0",
          "state": {
            "_view_name": "LayoutView",
            "grid_template_rows": null,
            "right": null,
            "justify_content": null,
            "_view_module": "@jupyter-widgets/base",
            "overflow": null,
            "_model_module_version": "1.2.0",
            "_view_count": null,
            "flex_flow": null,
            "width": null,
            "min_width": null,
            "border": null,
            "align_items": null,
            "bottom": null,
            "_model_module": "@jupyter-widgets/base",
            "top": null,
            "grid_column": null,
            "overflow_y": null,
            "overflow_x": null,
            "grid_auto_flow": null,
            "grid_area": null,
            "grid_template_columns": null,
            "flex": null,
            "_model_name": "LayoutModel",
            "justify_items": null,
            "grid_row": null,
            "max_height": null,
            "align_content": null,
            "visibility": null,
            "align_self": null,
            "height": null,
            "min_height": null,
            "padding": null,
            "grid_auto_rows": null,
            "grid_gap": null,
            "max_width": null,
            "order": null,
            "_view_module_version": "1.2.0",
            "grid_template_areas": null,
            "object_position": null,
            "object_fit": null,
            "grid_auto_columns": null,
            "margin": null,
            "display": null,
            "left": null
          }
        },
        "097a6c72d31941aa814ca3857ff54696": {
          "model_module": "@jupyter-widgets/controls",
          "model_name": "DescriptionStyleModel",
          "model_module_version": "1.5.0",
          "state": {
            "_view_name": "StyleView",
            "_model_name": "DescriptionStyleModel",
            "description_width": "",
            "_view_module": "@jupyter-widgets/base",
            "_model_module_version": "1.5.0",
            "_view_count": null,
            "_view_module_version": "1.2.0",
            "_model_module": "@jupyter-widgets/controls"
          }
        },
        "2d9f37b9e864402f946e22b95d6d6054": {
          "model_module": "@jupyter-widgets/base",
          "model_name": "LayoutModel",
          "model_module_version": "1.2.0",
          "state": {
            "_view_name": "LayoutView",
            "grid_template_rows": null,
            "right": null,
            "justify_content": null,
            "_view_module": "@jupyter-widgets/base",
            "overflow": null,
            "_model_module_version": "1.2.0",
            "_view_count": null,
            "flex_flow": null,
            "width": null,
            "min_width": null,
            "border": null,
            "align_items": null,
            "bottom": null,
            "_model_module": "@jupyter-widgets/base",
            "top": null,
            "grid_column": null,
            "overflow_y": null,
            "overflow_x": null,
            "grid_auto_flow": null,
            "grid_area": null,
            "grid_template_columns": null,
            "flex": null,
            "_model_name": "LayoutModel",
            "justify_items": null,
            "grid_row": null,
            "max_height": null,
            "align_content": null,
            "visibility": null,
            "align_self": null,
            "height": null,
            "min_height": null,
            "padding": null,
            "grid_auto_rows": null,
            "grid_gap": null,
            "max_width": null,
            "order": null,
            "_view_module_version": "1.2.0",
            "grid_template_areas": null,
            "object_position": null,
            "object_fit": null,
            "grid_auto_columns": null,
            "margin": null,
            "display": null,
            "left": null
          }
        },
        "e11429eb56914713935a175771ae76ca": {
          "model_module": "@jupyter-widgets/controls",
          "model_name": "HBoxModel",
          "model_module_version": "1.5.0",
          "state": {
            "_view_name": "HBoxView",
            "_dom_classes": [],
            "_model_name": "HBoxModel",
            "_view_module": "@jupyter-widgets/controls",
            "_model_module_version": "1.5.0",
            "_view_count": null,
            "_view_module_version": "1.5.0",
            "box_style": "",
            "layout": "IPY_MODEL_8fc7406246ef44e4826e5d9ff2dbc208",
            "_model_module": "@jupyter-widgets/controls",
            "children": [
              "IPY_MODEL_36c3061fff6440b5bc153a023433e480",
              "IPY_MODEL_0ac8e52c729a4bf09a8174e1cc3d2db4",
              "IPY_MODEL_0ea7ef01052c46c2bcebb34f98185440"
            ]
          }
        },
        "8fc7406246ef44e4826e5d9ff2dbc208": {
          "model_module": "@jupyter-widgets/base",
          "model_name": "LayoutModel",
          "model_module_version": "1.2.0",
          "state": {
            "_view_name": "LayoutView",
            "grid_template_rows": null,
            "right": null,
            "justify_content": null,
            "_view_module": "@jupyter-widgets/base",
            "overflow": null,
            "_model_module_version": "1.2.0",
            "_view_count": null,
            "flex_flow": null,
            "width": null,
            "min_width": null,
            "border": null,
            "align_items": null,
            "bottom": null,
            "_model_module": "@jupyter-widgets/base",
            "top": null,
            "grid_column": null,
            "overflow_y": null,
            "overflow_x": null,
            "grid_auto_flow": null,
            "grid_area": null,
            "grid_template_columns": null,
            "flex": null,
            "_model_name": "LayoutModel",
            "justify_items": null,
            "grid_row": null,
            "max_height": null,
            "align_content": null,
            "visibility": null,
            "align_self": null,
            "height": null,
            "min_height": null,
            "padding": null,
            "grid_auto_rows": null,
            "grid_gap": null,
            "max_width": null,
            "order": null,
            "_view_module_version": "1.2.0",
            "grid_template_areas": null,
            "object_position": null,
            "object_fit": null,
            "grid_auto_columns": null,
            "margin": null,
            "display": null,
            "left": null
          }
        },
        "36c3061fff6440b5bc153a023433e480": {
          "model_module": "@jupyter-widgets/controls",
          "model_name": "HTMLModel",
          "model_module_version": "1.5.0",
          "state": {
            "_view_name": "HTMLView",
            "style": "IPY_MODEL_0663a2a5d7eb4ce28f6c832ed9dd7e1c",
            "_dom_classes": [],
            "description": "",
            "_model_name": "HTMLModel",
            "placeholder": "​",
            "_view_module": "@jupyter-widgets/controls",
            "_model_module_version": "1.5.0",
            "value": "",
            "_view_count": null,
            "_view_module_version": "1.5.0",
            "description_tooltip": null,
            "_model_module": "@jupyter-widgets/controls",
            "layout": "IPY_MODEL_38ebc16796be4350a3ed44e40b8b502a"
          }
        },
        "0ac8e52c729a4bf09a8174e1cc3d2db4": {
          "model_module": "@jupyter-widgets/controls",
          "model_name": "FloatProgressModel",
          "model_module_version": "1.5.0",
          "state": {
            "_view_name": "ProgressView",
            "style": "IPY_MODEL_c2f9d6940303465a998ba0f99a1bdad1",
            "_dom_classes": [],
            "description": "",
            "_model_name": "FloatProgressModel",
            "bar_style": "success",
            "max": 29515,
            "_view_module": "@jupyter-widgets/controls",
            "_model_module_version": "1.5.0",
            "value": 29515,
            "_view_count": null,
            "_view_module_version": "1.5.0",
            "orientation": "horizontal",
            "min": 0,
            "description_tooltip": null,
            "_model_module": "@jupyter-widgets/controls",
            "layout": "IPY_MODEL_f31d191636234188ace33c48b5033a21"
          }
        },
        "0ea7ef01052c46c2bcebb34f98185440": {
          "model_module": "@jupyter-widgets/controls",
          "model_name": "HTMLModel",
          "model_module_version": "1.5.0",
          "state": {
            "_view_name": "HTMLView",
            "style": "IPY_MODEL_1740f3de53ba4930ac310d6c3edb3a5b",
            "_dom_classes": [],
            "description": "",
            "_model_name": "HTMLModel",
            "placeholder": "​",
            "_view_module": "@jupyter-widgets/controls",
            "_model_module_version": "1.5.0",
            "value": " 29696/? [00:00&lt;00:00, 136008.61it/s]",
            "_view_count": null,
            "_view_module_version": "1.5.0",
            "description_tooltip": null,
            "_model_module": "@jupyter-widgets/controls",
            "layout": "IPY_MODEL_1c8ea6cb350b44a087dde2cee24dae49"
          }
        },
        "0663a2a5d7eb4ce28f6c832ed9dd7e1c": {
          "model_module": "@jupyter-widgets/controls",
          "model_name": "DescriptionStyleModel",
          "model_module_version": "1.5.0",
          "state": {
            "_view_name": "StyleView",
            "_model_name": "DescriptionStyleModel",
            "description_width": "",
            "_view_module": "@jupyter-widgets/base",
            "_model_module_version": "1.5.0",
            "_view_count": null,
            "_view_module_version": "1.2.0",
            "_model_module": "@jupyter-widgets/controls"
          }
        },
        "38ebc16796be4350a3ed44e40b8b502a": {
          "model_module": "@jupyter-widgets/base",
          "model_name": "LayoutModel",
          "model_module_version": "1.2.0",
          "state": {
            "_view_name": "LayoutView",
            "grid_template_rows": null,
            "right": null,
            "justify_content": null,
            "_view_module": "@jupyter-widgets/base",
            "overflow": null,
            "_model_module_version": "1.2.0",
            "_view_count": null,
            "flex_flow": null,
            "width": null,
            "min_width": null,
            "border": null,
            "align_items": null,
            "bottom": null,
            "_model_module": "@jupyter-widgets/base",
            "top": null,
            "grid_column": null,
            "overflow_y": null,
            "overflow_x": null,
            "grid_auto_flow": null,
            "grid_area": null,
            "grid_template_columns": null,
            "flex": null,
            "_model_name": "LayoutModel",
            "justify_items": null,
            "grid_row": null,
            "max_height": null,
            "align_content": null,
            "visibility": null,
            "align_self": null,
            "height": null,
            "min_height": null,
            "padding": null,
            "grid_auto_rows": null,
            "grid_gap": null,
            "max_width": null,
            "order": null,
            "_view_module_version": "1.2.0",
            "grid_template_areas": null,
            "object_position": null,
            "object_fit": null,
            "grid_auto_columns": null,
            "margin": null,
            "display": null,
            "left": null
          }
        },
        "c2f9d6940303465a998ba0f99a1bdad1": {
          "model_module": "@jupyter-widgets/controls",
          "model_name": "ProgressStyleModel",
          "model_module_version": "1.5.0",
          "state": {
            "_view_name": "StyleView",
            "_model_name": "ProgressStyleModel",
            "description_width": "",
            "_view_module": "@jupyter-widgets/base",
            "_model_module_version": "1.5.0",
            "_view_count": null,
            "_view_module_version": "1.2.0",
            "bar_color": null,
            "_model_module": "@jupyter-widgets/controls"
          }
        },
        "f31d191636234188ace33c48b5033a21": {
          "model_module": "@jupyter-widgets/base",
          "model_name": "LayoutModel",
          "model_module_version": "1.2.0",
          "state": {
            "_view_name": "LayoutView",
            "grid_template_rows": null,
            "right": null,
            "justify_content": null,
            "_view_module": "@jupyter-widgets/base",
            "overflow": null,
            "_model_module_version": "1.2.0",
            "_view_count": null,
            "flex_flow": null,
            "width": null,
            "min_width": null,
            "border": null,
            "align_items": null,
            "bottom": null,
            "_model_module": "@jupyter-widgets/base",
            "top": null,
            "grid_column": null,
            "overflow_y": null,
            "overflow_x": null,
            "grid_auto_flow": null,
            "grid_area": null,
            "grid_template_columns": null,
            "flex": null,
            "_model_name": "LayoutModel",
            "justify_items": null,
            "grid_row": null,
            "max_height": null,
            "align_content": null,
            "visibility": null,
            "align_self": null,
            "height": null,
            "min_height": null,
            "padding": null,
            "grid_auto_rows": null,
            "grid_gap": null,
            "max_width": null,
            "order": null,
            "_view_module_version": "1.2.0",
            "grid_template_areas": null,
            "object_position": null,
            "object_fit": null,
            "grid_auto_columns": null,
            "margin": null,
            "display": null,
            "left": null
          }
        },
        "1740f3de53ba4930ac310d6c3edb3a5b": {
          "model_module": "@jupyter-widgets/controls",
          "model_name": "DescriptionStyleModel",
          "model_module_version": "1.5.0",
          "state": {
            "_view_name": "StyleView",
            "_model_name": "DescriptionStyleModel",
            "description_width": "",
            "_view_module": "@jupyter-widgets/base",
            "_model_module_version": "1.5.0",
            "_view_count": null,
            "_view_module_version": "1.2.0",
            "_model_module": "@jupyter-widgets/controls"
          }
        },
        "1c8ea6cb350b44a087dde2cee24dae49": {
          "model_module": "@jupyter-widgets/base",
          "model_name": "LayoutModel",
          "model_module_version": "1.2.0",
          "state": {
            "_view_name": "LayoutView",
            "grid_template_rows": null,
            "right": null,
            "justify_content": null,
            "_view_module": "@jupyter-widgets/base",
            "overflow": null,
            "_model_module_version": "1.2.0",
            "_view_count": null,
            "flex_flow": null,
            "width": null,
            "min_width": null,
            "border": null,
            "align_items": null,
            "bottom": null,
            "_model_module": "@jupyter-widgets/base",
            "top": null,
            "grid_column": null,
            "overflow_y": null,
            "overflow_x": null,
            "grid_auto_flow": null,
            "grid_area": null,
            "grid_template_columns": null,
            "flex": null,
            "_model_name": "LayoutModel",
            "justify_items": null,
            "grid_row": null,
            "max_height": null,
            "align_content": null,
            "visibility": null,
            "align_self": null,
            "height": null,
            "min_height": null,
            "padding": null,
            "grid_auto_rows": null,
            "grid_gap": null,
            "max_width": null,
            "order": null,
            "_view_module_version": "1.2.0",
            "grid_template_areas": null,
            "object_position": null,
            "object_fit": null,
            "grid_auto_columns": null,
            "margin": null,
            "display": null,
            "left": null
          }
        },
        "039673052fdb409294b9fec91b4d5511": {
          "model_module": "@jupyter-widgets/controls",
          "model_name": "HBoxModel",
          "model_module_version": "1.5.0",
          "state": {
            "_view_name": "HBoxView",
            "_dom_classes": [],
            "_model_name": "HBoxModel",
            "_view_module": "@jupyter-widgets/controls",
            "_model_module_version": "1.5.0",
            "_view_count": null,
            "_view_module_version": "1.5.0",
            "box_style": "",
            "layout": "IPY_MODEL_7e97f86213d5432cad40e25bc5458d5f",
            "_model_module": "@jupyter-widgets/controls",
            "children": [
              "IPY_MODEL_3490e2aebf66460ea4e2cf002e347983",
              "IPY_MODEL_e19d7f16848e4bc190e039c719a5da8c",
              "IPY_MODEL_4cd5c1b6a6304307b51d981bae59bfb4"
            ]
          }
        },
        "7e97f86213d5432cad40e25bc5458d5f": {
          "model_module": "@jupyter-widgets/base",
          "model_name": "LayoutModel",
          "model_module_version": "1.2.0",
          "state": {
            "_view_name": "LayoutView",
            "grid_template_rows": null,
            "right": null,
            "justify_content": null,
            "_view_module": "@jupyter-widgets/base",
            "overflow": null,
            "_model_module_version": "1.2.0",
            "_view_count": null,
            "flex_flow": null,
            "width": null,
            "min_width": null,
            "border": null,
            "align_items": null,
            "bottom": null,
            "_model_module": "@jupyter-widgets/base",
            "top": null,
            "grid_column": null,
            "overflow_y": null,
            "overflow_x": null,
            "grid_auto_flow": null,
            "grid_area": null,
            "grid_template_columns": null,
            "flex": null,
            "_model_name": "LayoutModel",
            "justify_items": null,
            "grid_row": null,
            "max_height": null,
            "align_content": null,
            "visibility": null,
            "align_self": null,
            "height": null,
            "min_height": null,
            "padding": null,
            "grid_auto_rows": null,
            "grid_gap": null,
            "max_width": null,
            "order": null,
            "_view_module_version": "1.2.0",
            "grid_template_areas": null,
            "object_position": null,
            "object_fit": null,
            "grid_auto_columns": null,
            "margin": null,
            "display": null,
            "left": null
          }
        },
        "3490e2aebf66460ea4e2cf002e347983": {
          "model_module": "@jupyter-widgets/controls",
          "model_name": "HTMLModel",
          "model_module_version": "1.5.0",
          "state": {
            "_view_name": "HTMLView",
            "style": "IPY_MODEL_b7c7135e5dfc4621833336e6273d38e1",
            "_dom_classes": [],
            "description": "",
            "_model_name": "HTMLModel",
            "placeholder": "​",
            "_view_module": "@jupyter-widgets/controls",
            "_model_module_version": "1.5.0",
            "value": "",
            "_view_count": null,
            "_view_module_version": "1.5.0",
            "description_tooltip": null,
            "_model_module": "@jupyter-widgets/controls",
            "layout": "IPY_MODEL_1f1eeece1cca41738e1b934f9cb1e8bc"
          }
        },
        "e19d7f16848e4bc190e039c719a5da8c": {
          "model_module": "@jupyter-widgets/controls",
          "model_name": "FloatProgressModel",
          "model_module_version": "1.5.0",
          "state": {
            "_view_name": "ProgressView",
            "style": "IPY_MODEL_3c7c43a7a7af455e9dbf2493d4139e19",
            "_dom_classes": [],
            "description": "",
            "_model_name": "FloatProgressModel",
            "bar_style": "success",
            "max": 4422102,
            "_view_module": "@jupyter-widgets/controls",
            "_model_module_version": "1.5.0",
            "value": 4422102,
            "_view_count": null,
            "_view_module_version": "1.5.0",
            "orientation": "horizontal",
            "min": 0,
            "description_tooltip": null,
            "_model_module": "@jupyter-widgets/controls",
            "layout": "IPY_MODEL_614e47544ea44e978fb43e1fb3f4b5fa"
          }
        },
        "4cd5c1b6a6304307b51d981bae59bfb4": {
          "model_module": "@jupyter-widgets/controls",
          "model_name": "HTMLModel",
          "model_module_version": "1.5.0",
          "state": {
            "_view_name": "HTMLView",
            "style": "IPY_MODEL_20bf87cfc70c4859af5094525d981251",
            "_dom_classes": [],
            "description": "",
            "_model_name": "HTMLModel",
            "placeholder": "​",
            "_view_module": "@jupyter-widgets/controls",
            "_model_module_version": "1.5.0",
            "value": " 4422656/? [00:00&lt;00:00, 7698808.68it/s]",
            "_view_count": null,
            "_view_module_version": "1.5.0",
            "description_tooltip": null,
            "_model_module": "@jupyter-widgets/controls",
            "layout": "IPY_MODEL_8ae1e0bc282b4eab8f489ab7f09bf45c"
          }
        },
        "b7c7135e5dfc4621833336e6273d38e1": {
          "model_module": "@jupyter-widgets/controls",
          "model_name": "DescriptionStyleModel",
          "model_module_version": "1.5.0",
          "state": {
            "_view_name": "StyleView",
            "_model_name": "DescriptionStyleModel",
            "description_width": "",
            "_view_module": "@jupyter-widgets/base",
            "_model_module_version": "1.5.0",
            "_view_count": null,
            "_view_module_version": "1.2.0",
            "_model_module": "@jupyter-widgets/controls"
          }
        },
        "1f1eeece1cca41738e1b934f9cb1e8bc": {
          "model_module": "@jupyter-widgets/base",
          "model_name": "LayoutModel",
          "model_module_version": "1.2.0",
          "state": {
            "_view_name": "LayoutView",
            "grid_template_rows": null,
            "right": null,
            "justify_content": null,
            "_view_module": "@jupyter-widgets/base",
            "overflow": null,
            "_model_module_version": "1.2.0",
            "_view_count": null,
            "flex_flow": null,
            "width": null,
            "min_width": null,
            "border": null,
            "align_items": null,
            "bottom": null,
            "_model_module": "@jupyter-widgets/base",
            "top": null,
            "grid_column": null,
            "overflow_y": null,
            "overflow_x": null,
            "grid_auto_flow": null,
            "grid_area": null,
            "grid_template_columns": null,
            "flex": null,
            "_model_name": "LayoutModel",
            "justify_items": null,
            "grid_row": null,
            "max_height": null,
            "align_content": null,
            "visibility": null,
            "align_self": null,
            "height": null,
            "min_height": null,
            "padding": null,
            "grid_auto_rows": null,
            "grid_gap": null,
            "max_width": null,
            "order": null,
            "_view_module_version": "1.2.0",
            "grid_template_areas": null,
            "object_position": null,
            "object_fit": null,
            "grid_auto_columns": null,
            "margin": null,
            "display": null,
            "left": null
          }
        },
        "3c7c43a7a7af455e9dbf2493d4139e19": {
          "model_module": "@jupyter-widgets/controls",
          "model_name": "ProgressStyleModel",
          "model_module_version": "1.5.0",
          "state": {
            "_view_name": "StyleView",
            "_model_name": "ProgressStyleModel",
            "description_width": "",
            "_view_module": "@jupyter-widgets/base",
            "_model_module_version": "1.5.0",
            "_view_count": null,
            "_view_module_version": "1.2.0",
            "bar_color": null,
            "_model_module": "@jupyter-widgets/controls"
          }
        },
        "614e47544ea44e978fb43e1fb3f4b5fa": {
          "model_module": "@jupyter-widgets/base",
          "model_name": "LayoutModel",
          "model_module_version": "1.2.0",
          "state": {
            "_view_name": "LayoutView",
            "grid_template_rows": null,
            "right": null,
            "justify_content": null,
            "_view_module": "@jupyter-widgets/base",
            "overflow": null,
            "_model_module_version": "1.2.0",
            "_view_count": null,
            "flex_flow": null,
            "width": null,
            "min_width": null,
            "border": null,
            "align_items": null,
            "bottom": null,
            "_model_module": "@jupyter-widgets/base",
            "top": null,
            "grid_column": null,
            "overflow_y": null,
            "overflow_x": null,
            "grid_auto_flow": null,
            "grid_area": null,
            "grid_template_columns": null,
            "flex": null,
            "_model_name": "LayoutModel",
            "justify_items": null,
            "grid_row": null,
            "max_height": null,
            "align_content": null,
            "visibility": null,
            "align_self": null,
            "height": null,
            "min_height": null,
            "padding": null,
            "grid_auto_rows": null,
            "grid_gap": null,
            "max_width": null,
            "order": null,
            "_view_module_version": "1.2.0",
            "grid_template_areas": null,
            "object_position": null,
            "object_fit": null,
            "grid_auto_columns": null,
            "margin": null,
            "display": null,
            "left": null
          }
        },
        "20bf87cfc70c4859af5094525d981251": {
          "model_module": "@jupyter-widgets/controls",
          "model_name": "DescriptionStyleModel",
          "model_module_version": "1.5.0",
          "state": {
            "_view_name": "StyleView",
            "_model_name": "DescriptionStyleModel",
            "description_width": "",
            "_view_module": "@jupyter-widgets/base",
            "_model_module_version": "1.5.0",
            "_view_count": null,
            "_view_module_version": "1.2.0",
            "_model_module": "@jupyter-widgets/controls"
          }
        },
        "8ae1e0bc282b4eab8f489ab7f09bf45c": {
          "model_module": "@jupyter-widgets/base",
          "model_name": "LayoutModel",
          "model_module_version": "1.2.0",
          "state": {
            "_view_name": "LayoutView",
            "grid_template_rows": null,
            "right": null,
            "justify_content": null,
            "_view_module": "@jupyter-widgets/base",
            "overflow": null,
            "_model_module_version": "1.2.0",
            "_view_count": null,
            "flex_flow": null,
            "width": null,
            "min_width": null,
            "border": null,
            "align_items": null,
            "bottom": null,
            "_model_module": "@jupyter-widgets/base",
            "top": null,
            "grid_column": null,
            "overflow_y": null,
            "overflow_x": null,
            "grid_auto_flow": null,
            "grid_area": null,
            "grid_template_columns": null,
            "flex": null,
            "_model_name": "LayoutModel",
            "justify_items": null,
            "grid_row": null,
            "max_height": null,
            "align_content": null,
            "visibility": null,
            "align_self": null,
            "height": null,
            "min_height": null,
            "padding": null,
            "grid_auto_rows": null,
            "grid_gap": null,
            "max_width": null,
            "order": null,
            "_view_module_version": "1.2.0",
            "grid_template_areas": null,
            "object_position": null,
            "object_fit": null,
            "grid_auto_columns": null,
            "margin": null,
            "display": null,
            "left": null
          }
        },
        "0b4858db8363471bbb14516c2e44cb56": {
          "model_module": "@jupyter-widgets/controls",
          "model_name": "HBoxModel",
          "model_module_version": "1.5.0",
          "state": {
            "_view_name": "HBoxView",
            "_dom_classes": [],
            "_model_name": "HBoxModel",
            "_view_module": "@jupyter-widgets/controls",
            "_model_module_version": "1.5.0",
            "_view_count": null,
            "_view_module_version": "1.5.0",
            "box_style": "",
            "layout": "IPY_MODEL_6f434d466135444598c6f6e1638c3330",
            "_model_module": "@jupyter-widgets/controls",
            "children": [
              "IPY_MODEL_1ce255b23c1240f48ec555f1c180306a",
              "IPY_MODEL_e427128b92824cea80e152065af80475",
              "IPY_MODEL_4d270fdf44f84e24a43434f114860fd2"
            ]
          }
        },
        "6f434d466135444598c6f6e1638c3330": {
          "model_module": "@jupyter-widgets/base",
          "model_name": "LayoutModel",
          "model_module_version": "1.2.0",
          "state": {
            "_view_name": "LayoutView",
            "grid_template_rows": null,
            "right": null,
            "justify_content": null,
            "_view_module": "@jupyter-widgets/base",
            "overflow": null,
            "_model_module_version": "1.2.0",
            "_view_count": null,
            "flex_flow": null,
            "width": null,
            "min_width": null,
            "border": null,
            "align_items": null,
            "bottom": null,
            "_model_module": "@jupyter-widgets/base",
            "top": null,
            "grid_column": null,
            "overflow_y": null,
            "overflow_x": null,
            "grid_auto_flow": null,
            "grid_area": null,
            "grid_template_columns": null,
            "flex": null,
            "_model_name": "LayoutModel",
            "justify_items": null,
            "grid_row": null,
            "max_height": null,
            "align_content": null,
            "visibility": null,
            "align_self": null,
            "height": null,
            "min_height": null,
            "padding": null,
            "grid_auto_rows": null,
            "grid_gap": null,
            "max_width": null,
            "order": null,
            "_view_module_version": "1.2.0",
            "grid_template_areas": null,
            "object_position": null,
            "object_fit": null,
            "grid_auto_columns": null,
            "margin": null,
            "display": null,
            "left": null
          }
        },
        "1ce255b23c1240f48ec555f1c180306a": {
          "model_module": "@jupyter-widgets/controls",
          "model_name": "HTMLModel",
          "model_module_version": "1.5.0",
          "state": {
            "_view_name": "HTMLView",
            "style": "IPY_MODEL_a572b35c1cd74cadab174a661d9b0d1d",
            "_dom_classes": [],
            "description": "",
            "_model_name": "HTMLModel",
            "placeholder": "​",
            "_view_module": "@jupyter-widgets/controls",
            "_model_module_version": "1.5.0",
            "value": "",
            "_view_count": null,
            "_view_module_version": "1.5.0",
            "description_tooltip": null,
            "_model_module": "@jupyter-widgets/controls",
            "layout": "IPY_MODEL_1eae6bb1215e4c6a8ded6eb2eccd7b79"
          }
        },
        "e427128b92824cea80e152065af80475": {
          "model_module": "@jupyter-widgets/controls",
          "model_name": "FloatProgressModel",
          "model_module_version": "1.5.0",
          "state": {
            "_view_name": "ProgressView",
            "style": "IPY_MODEL_d69b742f06f341b4b5eb9daa17f3c9d3",
            "_dom_classes": [],
            "description": "",
            "_model_name": "FloatProgressModel",
            "bar_style": "success",
            "max": 5148,
            "_view_module": "@jupyter-widgets/controls",
            "_model_module_version": "1.5.0",
            "value": 5148,
            "_view_count": null,
            "_view_module_version": "1.5.0",
            "orientation": "horizontal",
            "min": 0,
            "description_tooltip": null,
            "_model_module": "@jupyter-widgets/controls",
            "layout": "IPY_MODEL_36f7f18c05bb4458bedffaac05ac3ada"
          }
        },
        "4d270fdf44f84e24a43434f114860fd2": {
          "model_module": "@jupyter-widgets/controls",
          "model_name": "HTMLModel",
          "model_module_version": "1.5.0",
          "state": {
            "_view_name": "HTMLView",
            "style": "IPY_MODEL_35502742e665421b95cff9d22453acdf",
            "_dom_classes": [],
            "description": "",
            "_model_name": "HTMLModel",
            "placeholder": "​",
            "_view_module": "@jupyter-widgets/controls",
            "_model_module_version": "1.5.0",
            "value": " 6144/? [00:00&lt;00:00, 163425.84it/s]",
            "_view_count": null,
            "_view_module_version": "1.5.0",
            "description_tooltip": null,
            "_model_module": "@jupyter-widgets/controls",
            "layout": "IPY_MODEL_2e6ad6237c204cfb9d43b01054897f91"
          }
        },
        "a572b35c1cd74cadab174a661d9b0d1d": {
          "model_module": "@jupyter-widgets/controls",
          "model_name": "DescriptionStyleModel",
          "model_module_version": "1.5.0",
          "state": {
            "_view_name": "StyleView",
            "_model_name": "DescriptionStyleModel",
            "description_width": "",
            "_view_module": "@jupyter-widgets/base",
            "_model_module_version": "1.5.0",
            "_view_count": null,
            "_view_module_version": "1.2.0",
            "_model_module": "@jupyter-widgets/controls"
          }
        },
        "1eae6bb1215e4c6a8ded6eb2eccd7b79": {
          "model_module": "@jupyter-widgets/base",
          "model_name": "LayoutModel",
          "model_module_version": "1.2.0",
          "state": {
            "_view_name": "LayoutView",
            "grid_template_rows": null,
            "right": null,
            "justify_content": null,
            "_view_module": "@jupyter-widgets/base",
            "overflow": null,
            "_model_module_version": "1.2.0",
            "_view_count": null,
            "flex_flow": null,
            "width": null,
            "min_width": null,
            "border": null,
            "align_items": null,
            "bottom": null,
            "_model_module": "@jupyter-widgets/base",
            "top": null,
            "grid_column": null,
            "overflow_y": null,
            "overflow_x": null,
            "grid_auto_flow": null,
            "grid_area": null,
            "grid_template_columns": null,
            "flex": null,
            "_model_name": "LayoutModel",
            "justify_items": null,
            "grid_row": null,
            "max_height": null,
            "align_content": null,
            "visibility": null,
            "align_self": null,
            "height": null,
            "min_height": null,
            "padding": null,
            "grid_auto_rows": null,
            "grid_gap": null,
            "max_width": null,
            "order": null,
            "_view_module_version": "1.2.0",
            "grid_template_areas": null,
            "object_position": null,
            "object_fit": null,
            "grid_auto_columns": null,
            "margin": null,
            "display": null,
            "left": null
          }
        },
        "d69b742f06f341b4b5eb9daa17f3c9d3": {
          "model_module": "@jupyter-widgets/controls",
          "model_name": "ProgressStyleModel",
          "model_module_version": "1.5.0",
          "state": {
            "_view_name": "StyleView",
            "_model_name": "ProgressStyleModel",
            "description_width": "",
            "_view_module": "@jupyter-widgets/base",
            "_model_module_version": "1.5.0",
            "_view_count": null,
            "_view_module_version": "1.2.0",
            "bar_color": null,
            "_model_module": "@jupyter-widgets/controls"
          }
        },
        "36f7f18c05bb4458bedffaac05ac3ada": {
          "model_module": "@jupyter-widgets/base",
          "model_name": "LayoutModel",
          "model_module_version": "1.2.0",
          "state": {
            "_view_name": "LayoutView",
            "grid_template_rows": null,
            "right": null,
            "justify_content": null,
            "_view_module": "@jupyter-widgets/base",
            "overflow": null,
            "_model_module_version": "1.2.0",
            "_view_count": null,
            "flex_flow": null,
            "width": null,
            "min_width": null,
            "border": null,
            "align_items": null,
            "bottom": null,
            "_model_module": "@jupyter-widgets/base",
            "top": null,
            "grid_column": null,
            "overflow_y": null,
            "overflow_x": null,
            "grid_auto_flow": null,
            "grid_area": null,
            "grid_template_columns": null,
            "flex": null,
            "_model_name": "LayoutModel",
            "justify_items": null,
            "grid_row": null,
            "max_height": null,
            "align_content": null,
            "visibility": null,
            "align_self": null,
            "height": null,
            "min_height": null,
            "padding": null,
            "grid_auto_rows": null,
            "grid_gap": null,
            "max_width": null,
            "order": null,
            "_view_module_version": "1.2.0",
            "grid_template_areas": null,
            "object_position": null,
            "object_fit": null,
            "grid_auto_columns": null,
            "margin": null,
            "display": null,
            "left": null
          }
        },
        "35502742e665421b95cff9d22453acdf": {
          "model_module": "@jupyter-widgets/controls",
          "model_name": "DescriptionStyleModel",
          "model_module_version": "1.5.0",
          "state": {
            "_view_name": "StyleView",
            "_model_name": "DescriptionStyleModel",
            "description_width": "",
            "_view_module": "@jupyter-widgets/base",
            "_model_module_version": "1.5.0",
            "_view_count": null,
            "_view_module_version": "1.2.0",
            "_model_module": "@jupyter-widgets/controls"
          }
        },
        "2e6ad6237c204cfb9d43b01054897f91": {
          "model_module": "@jupyter-widgets/base",
          "model_name": "LayoutModel",
          "model_module_version": "1.2.0",
          "state": {
            "_view_name": "LayoutView",
            "grid_template_rows": null,
            "right": null,
            "justify_content": null,
            "_view_module": "@jupyter-widgets/base",
            "overflow": null,
            "_model_module_version": "1.2.0",
            "_view_count": null,
            "flex_flow": null,
            "width": null,
            "min_width": null,
            "border": null,
            "align_items": null,
            "bottom": null,
            "_model_module": "@jupyter-widgets/base",
            "top": null,
            "grid_column": null,
            "overflow_y": null,
            "overflow_x": null,
            "grid_auto_flow": null,
            "grid_area": null,
            "grid_template_columns": null,
            "flex": null,
            "_model_name": "LayoutModel",
            "justify_items": null,
            "grid_row": null,
            "max_height": null,
            "align_content": null,
            "visibility": null,
            "align_self": null,
            "height": null,
            "min_height": null,
            "padding": null,
            "grid_auto_rows": null,
            "grid_gap": null,
            "max_width": null,
            "order": null,
            "_view_module_version": "1.2.0",
            "grid_template_areas": null,
            "object_position": null,
            "object_fit": null,
            "grid_auto_columns": null,
            "margin": null,
            "display": null,
            "left": null
          }
        }
      }
    }
  },
  "cells": [
    {
      "cell_type": "code",
      "execution_count": null,
      "metadata": {
        "id": "oUzYstGZK3LV"
      },
      "outputs": [],
      "source": [
        "# Sources:\n",
        "# https://pytorch.org/tutorials/beginner/basics/intro.html\n",
        "# https://pytorch.org/tutorials/beginner/basics/data_tutorial.html\n",
        "# https://pytorch.org/tutorials/beginner/basics/buildmodel_tutorial.html\n",
        "# https://pytorch.org/tutorials/beginner/basics/optimization_tutorial.html\n",
        "\n",
        "import torch\n",
        "from torch import nn\n",
        "from torch.utils.data import DataLoader, Dataset\n",
        "from torchvision import datasets\n",
        "from torchvision.transforms import ToTensor, Lambda, Compose"
      ]
    },
    {
      "cell_type": "markdown",
      "source": [
        "# Datasets and data loaders\n",
        "Code for processing data samples can get messy and hard to maintain; we ideally want our dataset code to be decoupled from our model training code for better readability and modularity. PyTorch provides two data primitives: `torch.utils.data.DataLoader` and `torch.utils.data.Dataset` that allow you to use pre-loaded datasets as well as your own data. `Dataset` stores the samples and their corresponding labels, and `DataLoader` wraps an iterable around the Dataset to enable easy access to the samples.\n",
        "\n",
        "PyTorch domain libraries provide a number of pre-loaded datasets (such as FashionMNIST) that subclass `torch.utils.data.Dataset` and implement functions specific to the particular data. They can be used to prototype and benchmark your model. You can find them here: [Image Datasets](https://pytorch.org/vision/stable/datasets.html), [Text Datasets](https://pytorch.org/text/stable/datasets.html), and [Audio Datasets](https://pytorch.org/audio/stable/datasets.html)."
      ],
      "metadata": {
        "id": "xuXYRPizWOyy"
      }
    },
    {
      "cell_type": "markdown",
      "source": [
        "### Loading a Dataset\n",
        "Here is an example of how to load the [Fashion-MNIST](https://research.zalando.com/project/fashion_mnist/fashion_mnist/) dataset from TorchVision. Fashion-MNIST is a dataset of Zalando’s article images consisting of 60,000 training examples and 10,000 test examples. Each example comprises a 28×28 grayscale image and an associated label from one of 10 classes.\n",
        "\n",
        "We load the [FashionMNIST Dataset](https://pytorch.org/vision/stable/datasets.html#fashion-mnist) with the following parameters:\n",
        "* `root` is the path where the train/test data is stored,\n",
        "* `train` specifies training or test dataset,\n",
        "* `download=True` downloads the data from the internet if it’s not available at root.\n",
        "* `transform` and `target_transform` specify the feature and label transformations"
      ],
      "metadata": {
        "id": "a1QGNm5-Wv80"
      }
    },
    {
      "cell_type": "code",
      "source": [
        "training_data = datasets.FashionMNIST(\n",
        "    root=\"data\",\n",
        "    train=True,\n",
        "    download=True,\n",
        "    transform=ToTensor()\n",
        ")"
      ],
      "metadata": {
        "id": "vo7tf72JXMKY",
        "colab": {
          "base_uri": "https://localhost:8080/",
          "height": 423,
          "referenced_widgets": [
            "07bfbc8387784dacbf6e19e4d7e46a9e",
            "4be1c4a765f1436989f60bcebbb28013",
            "c75a4642fa4d44f88bcfc95f867a8f20",
            "eba4afd76a514b2ca355f485b63ae2b2",
            "1963181ac59448e38ee8a58797b1011c",
            "d38ce182b23a4bf9abd07d311aede57e",
            "97dfcd7cf26f4a2ea9ebe70365f19d8d",
            "f0db5be6e6f54bdf9513715bdaa19047",
            "7c57021144d4418383207586006b033b",
            "097a6c72d31941aa814ca3857ff54696",
            "2d9f37b9e864402f946e22b95d6d6054",
            "e11429eb56914713935a175771ae76ca",
            "8fc7406246ef44e4826e5d9ff2dbc208",
            "36c3061fff6440b5bc153a023433e480",
            "0ac8e52c729a4bf09a8174e1cc3d2db4",
            "0ea7ef01052c46c2bcebb34f98185440",
            "0663a2a5d7eb4ce28f6c832ed9dd7e1c",
            "38ebc16796be4350a3ed44e40b8b502a",
            "c2f9d6940303465a998ba0f99a1bdad1",
            "f31d191636234188ace33c48b5033a21",
            "1740f3de53ba4930ac310d6c3edb3a5b",
            "1c8ea6cb350b44a087dde2cee24dae49",
            "039673052fdb409294b9fec91b4d5511",
            "7e97f86213d5432cad40e25bc5458d5f",
            "3490e2aebf66460ea4e2cf002e347983",
            "e19d7f16848e4bc190e039c719a5da8c",
            "4cd5c1b6a6304307b51d981bae59bfb4",
            "b7c7135e5dfc4621833336e6273d38e1",
            "1f1eeece1cca41738e1b934f9cb1e8bc",
            "3c7c43a7a7af455e9dbf2493d4139e19",
            "614e47544ea44e978fb43e1fb3f4b5fa",
            "20bf87cfc70c4859af5094525d981251",
            "8ae1e0bc282b4eab8f489ab7f09bf45c",
            "0b4858db8363471bbb14516c2e44cb56",
            "6f434d466135444598c6f6e1638c3330",
            "1ce255b23c1240f48ec555f1c180306a",
            "e427128b92824cea80e152065af80475",
            "4d270fdf44f84e24a43434f114860fd2",
            "a572b35c1cd74cadab174a661d9b0d1d",
            "1eae6bb1215e4c6a8ded6eb2eccd7b79",
            "d69b742f06f341b4b5eb9daa17f3c9d3",
            "36f7f18c05bb4458bedffaac05ac3ada",
            "35502742e665421b95cff9d22453acdf",
            "2e6ad6237c204cfb9d43b01054897f91"
          ]
        },
        "outputId": "54a65f0c-691b-4ce4-9a5b-abd2d3de90b2"
      },
      "execution_count": null,
      "outputs": [
        {
          "output_type": "stream",
          "name": "stdout",
          "text": [
            "Downloading http://fashion-mnist.s3-website.eu-central-1.amazonaws.com/train-images-idx3-ubyte.gz\n",
            "Downloading http://fashion-mnist.s3-website.eu-central-1.amazonaws.com/train-images-idx3-ubyte.gz to data/FashionMNIST/raw/train-images-idx3-ubyte.gz\n"
          ]
        },
        {
          "output_type": "display_data",
          "data": {
            "application/vnd.jupyter.widget-view+json": {
              "model_id": "07bfbc8387784dacbf6e19e4d7e46a9e",
              "version_minor": 0,
              "version_major": 2
            },
            "text/plain": [
              "  0%|          | 0/26421880 [00:00<?, ?it/s]"
            ]
          },
          "metadata": {}
        },
        {
          "output_type": "stream",
          "name": "stdout",
          "text": [
            "Extracting data/FashionMNIST/raw/train-images-idx3-ubyte.gz to data/FashionMNIST/raw\n",
            "\n",
            "Downloading http://fashion-mnist.s3-website.eu-central-1.amazonaws.com/train-labels-idx1-ubyte.gz\n",
            "Downloading http://fashion-mnist.s3-website.eu-central-1.amazonaws.com/train-labels-idx1-ubyte.gz to data/FashionMNIST/raw/train-labels-idx1-ubyte.gz\n"
          ]
        },
        {
          "output_type": "display_data",
          "data": {
            "application/vnd.jupyter.widget-view+json": {
              "model_id": "e11429eb56914713935a175771ae76ca",
              "version_minor": 0,
              "version_major": 2
            },
            "text/plain": [
              "  0%|          | 0/29515 [00:00<?, ?it/s]"
            ]
          },
          "metadata": {}
        },
        {
          "output_type": "stream",
          "name": "stdout",
          "text": [
            "Extracting data/FashionMNIST/raw/train-labels-idx1-ubyte.gz to data/FashionMNIST/raw\n",
            "\n",
            "Downloading http://fashion-mnist.s3-website.eu-central-1.amazonaws.com/t10k-images-idx3-ubyte.gz\n",
            "Downloading http://fashion-mnist.s3-website.eu-central-1.amazonaws.com/t10k-images-idx3-ubyte.gz to data/FashionMNIST/raw/t10k-images-idx3-ubyte.gz\n"
          ]
        },
        {
          "output_type": "display_data",
          "data": {
            "application/vnd.jupyter.widget-view+json": {
              "model_id": "039673052fdb409294b9fec91b4d5511",
              "version_minor": 0,
              "version_major": 2
            },
            "text/plain": [
              "  0%|          | 0/4422102 [00:00<?, ?it/s]"
            ]
          },
          "metadata": {}
        },
        {
          "output_type": "stream",
          "name": "stdout",
          "text": [
            "Extracting data/FashionMNIST/raw/t10k-images-idx3-ubyte.gz to data/FashionMNIST/raw\n",
            "\n",
            "Downloading http://fashion-mnist.s3-website.eu-central-1.amazonaws.com/t10k-labels-idx1-ubyte.gz\n",
            "Downloading http://fashion-mnist.s3-website.eu-central-1.amazonaws.com/t10k-labels-idx1-ubyte.gz to data/FashionMNIST/raw/t10k-labels-idx1-ubyte.gz\n"
          ]
        },
        {
          "output_type": "display_data",
          "data": {
            "application/vnd.jupyter.widget-view+json": {
              "model_id": "0b4858db8363471bbb14516c2e44cb56",
              "version_minor": 0,
              "version_major": 2
            },
            "text/plain": [
              "  0%|          | 0/5148 [00:00<?, ?it/s]"
            ]
          },
          "metadata": {}
        },
        {
          "output_type": "stream",
          "name": "stdout",
          "text": [
            "Extracting data/FashionMNIST/raw/t10k-labels-idx1-ubyte.gz to data/FashionMNIST/raw\n",
            "\n"
          ]
        }
      ]
    },
    {
      "cell_type": "code",
      "source": [
        "test_data = datasets.FashionMNIST(\n",
        "    root=\"data\",\n",
        "    train=False,\n",
        "    download=True,\n",
        "    transform=ToTensor()\n",
        ")"
      ],
      "metadata": {
        "id": "vEqnmuuBXPo0"
      },
      "execution_count": null,
      "outputs": []
    },
    {
      "cell_type": "markdown",
      "source": [
        "We pass the Dataset as an argument to DataLoader. This wraps an iterable over our dataset, and supports automatic batching, sampling, shuffling and multiprocess data loading. Here we define a batch size of 64, i.e. each element in the dataloader iterable will return a batch of 64 features and labels."
      ],
      "metadata": {
        "id": "nRBKfBakOB6t"
      }
    },
    {
      "cell_type": "code",
      "source": [
        "batch_size = 64\n",
        "\n",
        "# Create data loaders.\n",
        "train_dataloader = DataLoader(training_data, batch_size=batch_size)\n",
        "test_dataloader = DataLoader(test_data, batch_size=batch_size)\n",
        "\n",
        "for X, y in test_dataloader:\n",
        "    print(\"Shape of X [N, C, H, W]: \", X.shape)\n",
        "    print(\"Shape of y: \", y.shape, y.dtype)\n",
        "    break"
      ],
      "metadata": {
        "colab": {
          "base_uri": "https://localhost:8080/"
        },
        "id": "JtWM78MsMK4E",
        "outputId": "f7c5b8e9-10e5-4cce-cbd2-ffa07d77a376"
      },
      "execution_count": null,
      "outputs": [
        {
          "output_type": "stream",
          "name": "stdout",
          "text": [
            "Shape of X [N, C, H, W]:  torch.Size([64, 1, 28, 28])\n",
            "Shape of y:  torch.Size([64]) torch.int64\n"
          ]
        }
      ]
    },
    {
      "cell_type": "markdown",
      "source": [
        "# Creating a Custom Dataset for your files\n",
        "A custom Dataset class must implement three functions: `__init__`, `__len__`, and `__getitem__`. Take a look at this implementation; the FashionMNIST images are stored in a directory `img_dir`, and their labels are stored separately in a CSV file `annotations_file`.\n",
        "\n",
        "In the next sections, we’ll break down what’s happening in each of these functions."
      ],
      "metadata": {
        "id": "mUS8HLySXw9p"
      }
    },
    {
      "cell_type": "code",
      "source": [
        "import os\n",
        "import pandas as pd\n",
        "from torchvision.io import read_image\n",
        "\n",
        "class CustomImageDataset(Dataset):\n",
        "    def __init__(self, annotations_file, img_dir, transform=None, target_transform=None):\n",
        "        self.img_labels = pd.read_csv(annotations_file)\n",
        "        self.img_dir = img_dir\n",
        "        self.transform = transform\n",
        "        self.target_transform = target_transform\n",
        "\n",
        "    def __len__(self):\n",
        "        return len(self.img_labels)\n",
        "\n",
        "    def __getitem__(self, idx):\n",
        "        img_path = os.path.join(self.img_dir, self.img_labels.iloc[idx, 0])\n",
        "        image = read_image(img_path)\n",
        "        label = self.img_labels.iloc[idx, 1]\n",
        "        if self.transform:\n",
        "            image = self.transform(image)\n",
        "        if self.target_transform:\n",
        "            label = self.target_transform(label)\n",
        "        return image, label"
      ],
      "metadata": {
        "id": "DpipTc9zYEjy"
      },
      "execution_count": null,
      "outputs": []
    },
    {
      "cell_type": "markdown",
      "source": [
        "### `__init__`\n",
        "The `__init__` function is run once when instantiating the Dataset object. We initialize the directory containing the images, the annotations file, and both transforms (covered in more detail in the next section).\n",
        "\n",
        "The labels.csv file looks like:\n",
        "\n",
        "\n",
        "```\n",
        "tshirt1.jpg, 0\n",
        "tshirt2.jpg, 0\n",
        "......\n",
        "ankleboot999.jpg, 9\n",
        "```\n",
        "\n"
      ],
      "metadata": {
        "id": "_DRuLiFhYVsP"
      }
    },
    {
      "cell_type": "code",
      "source": [
        "def __init__(self, annotations_file, img_dir, transform=None, target_transform=None):\n",
        "    self.img_labels = pd.read_csv(annotations_file, names=['file_name', 'label'])\n",
        "    self.img_dir = img_dir\n",
        "    self.transform = transform\n",
        "    self.target_transform = target_transform"
      ],
      "metadata": {
        "id": "J_0qWzsOYixl"
      },
      "execution_count": null,
      "outputs": []
    },
    {
      "cell_type": "markdown",
      "source": [
        "### `__len__`\n",
        "The `__len__` function returns the number of samples in our dataset.\n",
        "Example:"
      ],
      "metadata": {
        "id": "wxE78-VfY4e1"
      }
    },
    {
      "cell_type": "code",
      "source": [
        "def __len__(self):\n",
        "    return len(self.img_labels)"
      ],
      "metadata": {
        "id": "un0KS_wQZDqb"
      },
      "execution_count": null,
      "outputs": []
    },
    {
      "cell_type": "markdown",
      "source": [
        "### `__getitem__`\n",
        "The `__getitem__` function loads and returns a sample from the dataset at the given index `idx`. Based on the index, it identifies the image’s location on disk, converts that to a tensor using `read_image`, retrieves the corresponding label from the csv data in `self.img_labels`, calls the transform functions on them (if applicable), and returns the tensor image and corresponding label in a tuple."
      ],
      "metadata": {
        "id": "9dG0hRbHZNzx"
      }
    },
    {
      "cell_type": "code",
      "source": [
        "def __getitem__(self, idx):\n",
        "    img_path = os.path.join(self.img_dir, self.img_labels.iloc[idx, 0])\n",
        "    image = read_image(img_path)\n",
        "    label = self.img_labels.iloc[idx, 1]\n",
        "    if self.transform:\n",
        "        image = self.transform(image)\n",
        "    if self.target_transform:\n",
        "        label = self.target_transform(label)\n",
        "    return image, label"
      ],
      "metadata": {
        "id": "w1xkfLrpZaaX"
      },
      "execution_count": null,
      "outputs": []
    },
    {
      "cell_type": "markdown",
      "source": [
        "# Creating Models\n",
        "\n",
        "To define a neural network in PyTorch, we create a class that inherits from [nn.Module](https://pytorch.org/docs/stable/generated/torch.nn.Module.html). We define the layers of the network in the `__init__` function and specify how data will pass through the network in the `forward` function. To accelerate operations in the neural network, we move it to the GPU if available."
      ],
      "metadata": {
        "id": "7VvGxn_zM-fb"
      }
    },
    {
      "cell_type": "code",
      "source": [
        "# Get cpu or gpu device for training.\n",
        "device = \"cuda\" if torch.cuda.is_available() else \"cpu\"\n",
        "print(f\"Using {device} device\")\n",
        "\n",
        "# Define model\n",
        "class NeuralNetwork(nn.Module):\n",
        "    def __init__(self):\n",
        "        super(NeuralNetwork, self).__init__()\n",
        "        self.flatten = nn.Flatten()\n",
        "        self.linear_relu_stack = nn.Sequential(\n",
        "            nn.Linear(28*28, 512),\n",
        "            nn.ReLU(),\n",
        "            nn.Linear(512, 512),\n",
        "            nn.ReLU(),\n",
        "            nn.Linear(512, 10)\n",
        "        )\n",
        "\n",
        "    def forward(self, x):\n",
        "        x = self.flatten(x)\n",
        "        logits = self.linear_relu_stack(x)\n",
        "        return logits\n",
        "\n",
        "model = NeuralNetwork().to(device)\n",
        "print(model)"
      ],
      "metadata": {
        "colab": {
          "base_uri": "https://localhost:8080/"
        },
        "id": "nfC_QhivMXkD",
        "outputId": "75f5ad48-1c4d-4d2b-dc78-33d59c971f41"
      },
      "execution_count": null,
      "outputs": [
        {
          "output_type": "stream",
          "name": "stdout",
          "text": [
            "Using cuda device\n",
            "NeuralNetwork(\n",
            "  (flatten): Flatten(start_dim=1, end_dim=-1)\n",
            "  (linear_relu_stack): Sequential(\n",
            "    (0): Linear(in_features=784, out_features=512, bias=True)\n",
            "    (1): ReLU()\n",
            "    (2): Linear(in_features=512, out_features=512, bias=True)\n",
            "    (3): ReLU()\n",
            "    (4): Linear(in_features=512, out_features=10, bias=True)\n",
            "  )\n",
            ")\n"
          ]
        }
      ]
    },
    {
      "cell_type": "markdown",
      "source": [
        "# Model Layers\n",
        "\n",
        "Let’s break down the layers in the FashionMNIST model. To illustrate it, we will take a sample minibatch of 3 images of size 28x28 and see what happens to it as we pass it through the network."
      ],
      "metadata": {
        "id": "RGZdNru1O2m9"
      }
    },
    {
      "cell_type": "code",
      "source": [
        "input_image = torch.rand(3,28,28)\n",
        "print(input_image.size())"
      ],
      "metadata": {
        "colab": {
          "base_uri": "https://localhost:8080/"
        },
        "id": "zXU41l-0OuLw",
        "outputId": "18399f97-0631-4591-ea13-cf85b25d79d9"
      },
      "execution_count": null,
      "outputs": [
        {
          "output_type": "stream",
          "name": "stdout",
          "text": [
            "torch.Size([3, 28, 28])\n"
          ]
        }
      ]
    },
    {
      "cell_type": "markdown",
      "source": [
        "### nn.Flatten\n",
        "\n",
        "We initialize the [nn.Flatten](https://pytorch.org/docs/stable/generated/torch.nn.Flatten.html) layer to convert each 2D 28x28 image into a contiguous array of 784 pixel values ( the minibatch dimension (at dim=0) is maintained)."
      ],
      "metadata": {
        "id": "MQmVy9hBPFPV"
      }
    },
    {
      "cell_type": "code",
      "source": [
        "flatten = nn.Flatten()\n",
        "flat_image = flatten(input_image)\n",
        "print(flat_image.size())"
      ],
      "metadata": {
        "colab": {
          "base_uri": "https://localhost:8080/"
        },
        "id": "8dhBafJHPCK_",
        "outputId": "08e8d047-f763-40fa-b214-62a54fd39e68"
      },
      "execution_count": null,
      "outputs": [
        {
          "output_type": "stream",
          "name": "stdout",
          "text": [
            "torch.Size([3, 784])\n"
          ]
        }
      ]
    },
    {
      "cell_type": "markdown",
      "source": [
        "### nn.Linear\n",
        "The [linear layer](https://pytorch.org/docs/stable/generated/torch.nn.Linear.html) is a module that applies a linear transformation on the input using its stored weights and biases."
      ],
      "metadata": {
        "id": "TUcf7ySDPd3p"
      }
    },
    {
      "cell_type": "code",
      "source": [
        "layer1 = nn.Linear(in_features=28*28, out_features=20)\n",
        "hidden1 = layer1(flat_image)\n",
        "print(hidden1.size())"
      ],
      "metadata": {
        "colab": {
          "base_uri": "https://localhost:8080/"
        },
        "id": "G6JfH70qP5hH",
        "outputId": "68ae543e-f633-4f2c-a9de-5c802e41a2fb"
      },
      "execution_count": null,
      "outputs": [
        {
          "output_type": "stream",
          "name": "stdout",
          "text": [
            "torch.Size([3, 20])\n"
          ]
        }
      ]
    },
    {
      "cell_type": "markdown",
      "source": [
        "### nn.ReLU\n",
        "Non-linear activations are what create the complex mappings between the model’s inputs and outputs. They are applied after linear transformations to introduce nonlinearity, helping neural networks learn a wide variety of phenomena.\n",
        "\n",
        "In this model, we use [nn.ReLU](https://pytorch.org/docs/stable/generated/torch.nn.ReLU.html) between our linear layers, but there’s other activations to introduce non-linearity in your model."
      ],
      "metadata": {
        "id": "8MfkRBLUQCi_"
      }
    },
    {
      "cell_type": "code",
      "source": [
        "print(f\"Before ReLU: {hidden1}\\n\\n\")\n",
        "hidden1 = nn.ReLU()(hidden1)\n",
        "print(f\"After ReLU: {hidden1}\")"
      ],
      "metadata": {
        "colab": {
          "base_uri": "https://localhost:8080/"
        },
        "id": "E45bx9p2QK9Q",
        "outputId": "e23a345a-8597-4297-a1d8-3da06a70ae0c"
      },
      "execution_count": null,
      "outputs": [
        {
          "output_type": "stream",
          "name": "stdout",
          "text": [
            "Before ReLU: tensor([[ 0.5236,  0.5798,  0.1236, -0.3153, -0.3376,  0.1703, -0.6148,  0.3994,\n",
            "          0.0334, -0.0918,  0.2348, -0.3999, -0.1435, -0.0367, -0.1337,  0.0689,\n",
            "          0.1211,  0.3558, -0.1990,  0.1541],\n",
            "        [ 0.1054,  0.5222,  0.1590, -0.5097, -0.1862, -0.0438, -0.3596,  0.1914,\n",
            "         -0.0064, -0.5752,  0.1239, -0.7025,  0.2334, -0.1341, -0.0578, -0.0324,\n",
            "          0.4976,  0.6137, -0.1215,  0.2029],\n",
            "        [ 0.1859,  0.3033,  0.2665, -0.3396, -0.3460, -0.0082, -0.4383,  0.4028,\n",
            "         -0.2976, -0.3912,  0.0619, -0.4468,  0.0310,  0.0781,  0.0872, -0.0916,\n",
            "          0.1320,  0.6854, -0.3045,  0.2567]], grad_fn=<AddmmBackward0>)\n",
            "\n",
            "\n",
            "After ReLU: tensor([[0.5236, 0.5798, 0.1236, 0.0000, 0.0000, 0.1703, 0.0000, 0.3994, 0.0334,\n",
            "         0.0000, 0.2348, 0.0000, 0.0000, 0.0000, 0.0000, 0.0689, 0.1211, 0.3558,\n",
            "         0.0000, 0.1541],\n",
            "        [0.1054, 0.5222, 0.1590, 0.0000, 0.0000, 0.0000, 0.0000, 0.1914, 0.0000,\n",
            "         0.0000, 0.1239, 0.0000, 0.2334, 0.0000, 0.0000, 0.0000, 0.4976, 0.6137,\n",
            "         0.0000, 0.2029],\n",
            "        [0.1859, 0.3033, 0.2665, 0.0000, 0.0000, 0.0000, 0.0000, 0.4028, 0.0000,\n",
            "         0.0000, 0.0619, 0.0000, 0.0310, 0.0781, 0.0872, 0.0000, 0.1320, 0.6854,\n",
            "         0.0000, 0.2567]], grad_fn=<ReluBackward0>)\n"
          ]
        }
      ]
    },
    {
      "cell_type": "markdown",
      "source": [
        "### nn.Sequential\n",
        "[nn.Sequential](https://pytorch.org/docs/stable/generated/torch.nn.Sequential.html) is an ordered container of modules. The data is passed through all the modules in the same order as defined. You can use sequential containers to put together a quick network like `seq_modules`."
      ],
      "metadata": {
        "id": "KGhOqZkaQdCw"
      }
    },
    {
      "cell_type": "code",
      "source": [
        "seq_modules = nn.Sequential(\n",
        "    flatten,\n",
        "    layer1,\n",
        "    nn.ReLU(),\n",
        "    nn.Linear(20, 10)\n",
        ")\n",
        "input_image = torch.rand(3,28,28)\n",
        "logits = seq_modules(input_image)"
      ],
      "metadata": {
        "id": "FV7HgCTsQrEQ"
      },
      "execution_count": null,
      "outputs": []
    },
    {
      "cell_type": "markdown",
      "source": [
        "### nn.Softmax\n",
        "The last linear layer of the neural network returns *logits* - raw values in [-infty, infty] - which are passed to the [nn.Softmax](https://pytorch.org/docs/stable/generated/torch.nn.Softmax.html) module. The logits are scaled to values [0, 1] representing the model’s predicted probabilities for each class. `dim` parameter indicates the dimension along which the values must sum to 1."
      ],
      "metadata": {
        "id": "kV7Cj1fIQ0Jm"
      }
    },
    {
      "cell_type": "code",
      "source": [
        "softmax = nn.Softmax(dim=1)\n",
        "pred_probab = softmax(logits)"
      ],
      "metadata": {
        "id": "Gx21ZfHaQ-D_"
      },
      "execution_count": null,
      "outputs": []
    },
    {
      "cell_type": "markdown",
      "source": [
        "# Model Parameters\n",
        "Many layers inside a neural network are parameterized, i.e. have associated weights and biases that are optimized during training. Subclassing `nn.Module` automatically tracks all fields defined inside your model object, and makes all parameters accessible using your model’s `parameters()` or `named_parameters()` methods.\n",
        "\n",
        "In this example, we iterate over each parameter, and print its size and a preview of its values."
      ],
      "metadata": {
        "id": "jX3Q6K-rR2Fz"
      }
    },
    {
      "cell_type": "code",
      "source": [
        "print(\"Model structure: \", model, \"\\n\\n\")\n",
        "\n",
        "for name, param in model.named_parameters():\n",
        "    print(f\"Layer: {name} | Size: {param.size()} | Values : {param[:2]} \\n\")"
      ],
      "metadata": {
        "colab": {
          "base_uri": "https://localhost:8080/"
        },
        "id": "zSp_LlSfSDI6",
        "outputId": "73581ad6-e360-4ab2-83e8-068b47cb6a9b"
      },
      "execution_count": null,
      "outputs": [
        {
          "output_type": "stream",
          "name": "stdout",
          "text": [
            "Model structure:  NeuralNetwork(\n",
            "  (flatten): Flatten(start_dim=1, end_dim=-1)\n",
            "  (linear_relu_stack): Sequential(\n",
            "    (0): Linear(in_features=784, out_features=512, bias=True)\n",
            "    (1): ReLU()\n",
            "    (2): Linear(in_features=512, out_features=512, bias=True)\n",
            "    (3): ReLU()\n",
            "    (4): Linear(in_features=512, out_features=10, bias=True)\n",
            "  )\n",
            ") \n",
            "\n",
            "\n",
            "Layer: linear_relu_stack.0.weight | Size: torch.Size([512, 784]) | Values : tensor([[-0.0003,  0.0264,  0.0280,  ..., -0.0015, -0.0327,  0.0347],\n",
            "        [-0.0032,  0.0302, -0.0270,  ...,  0.0224,  0.0310, -0.0349]],\n",
            "       device='cuda:0', grad_fn=<SliceBackward0>) \n",
            "\n",
            "Layer: linear_relu_stack.0.bias | Size: torch.Size([512]) | Values : tensor([-0.0089, -0.0275], device='cuda:0', grad_fn=<SliceBackward0>) \n",
            "\n",
            "Layer: linear_relu_stack.2.weight | Size: torch.Size([512, 512]) | Values : tensor([[ 0.0211,  0.0336, -0.0422,  ...,  0.0378,  0.0379,  0.0138],\n",
            "        [ 0.0391, -0.0382, -0.0378,  ...,  0.0141,  0.0123, -0.0058]],\n",
            "       device='cuda:0', grad_fn=<SliceBackward0>) \n",
            "\n",
            "Layer: linear_relu_stack.2.bias | Size: torch.Size([512]) | Values : tensor([-0.0337, -0.0387], device='cuda:0', grad_fn=<SliceBackward0>) \n",
            "\n",
            "Layer: linear_relu_stack.4.weight | Size: torch.Size([10, 512]) | Values : tensor([[ 0.0367, -0.0246,  0.0314,  ..., -0.0253,  0.0281, -0.0238],\n",
            "        [-0.0349,  0.0038,  0.0181,  ...,  0.0032,  0.0014, -0.0400]],\n",
            "       device='cuda:0', grad_fn=<SliceBackward0>) \n",
            "\n",
            "Layer: linear_relu_stack.4.bias | Size: torch.Size([10]) | Values : tensor([0.0403, 0.0206], device='cuda:0', grad_fn=<SliceBackward0>) \n",
            "\n"
          ]
        }
      ]
    },
    {
      "cell_type": "markdown",
      "source": [
        "# Optimizing the Model Parameters"
      ],
      "metadata": {
        "id": "q_kY528iSzHV"
      }
    },
    {
      "cell_type": "markdown",
      "source": [
        "### Hyperparameters\n",
        "Hyperparameters are adjustable parameters that let you control the model optimization process. Different hyperparameter values can impact model training and convergence rates (read more about hyperparameter tuning)\n",
        "\n",
        "We define the following hyperparameters for training:\n",
        "\n",
        "\n",
        "\n",
        "*   **Number of Epochs** - the number times to iterate over the dataset\n",
        "*   **Batch Size** - the number of data samples propagated through the network before the parameters are updated\n",
        "*   **Learning Rate** - how much to update models parameters at each batch/epoch. Smaller values yield slow learning speed, while large values may result in unpredictable behavior during training.\n",
        "\n"
      ],
      "metadata": {
        "id": "pXUcfEbJS5Yq"
      }
    },
    {
      "cell_type": "code",
      "source": [
        "learning_rate = 1e-3\n",
        "batch_size = 64\n",
        "epochs = 5"
      ],
      "metadata": {
        "id": "Ce0gbiruTO0j"
      },
      "execution_count": null,
      "outputs": []
    },
    {
      "cell_type": "markdown",
      "source": [
        "### Optimization Loop\n",
        "Once we set our hyperparameters, we can then train and optimize our model with an optimization loop. Each iteration of the optimization loop is called an epoch.\n",
        "\n",
        "Each epoch consists of two main parts:\n",
        "* **The Train Loop** - iterate over the training dataset and try to converge to optimal parameters.\n",
        "* **The Validation/Test Loop** - iterate over the test dataset to check if model performance is improving."
      ],
      "metadata": {
        "id": "wP1dFIlWTSjl"
      }
    },
    {
      "cell_type": "markdown",
      "source": [
        "### Loss Function\n",
        "When presented with some training data, our untrained network is likely not to give the correct answer. **Loss function** measures the degree of dissimilarity of obtained result to the target value, and it is the loss function that we want to minimize during training. To calculate the loss we make a prediction using the inputs of our given data sample and compare it against the true data label value.\n",
        "\n",
        "Common loss functions include [nn.MSELoss](https://pytorch.org/docs/stable/generated/torch.nn.MSELoss.html#torch.nn.MSELoss) (Mean Square Error) for regression tasks, and [nn.NLLLoss](https://pytorch.org/docs/stable/generated/torch.nn.NLLLoss.html#torch.nn.NLLLoss) (Negative Log Likelihood) for classification. [nn.CrossEntropyLoss](https://pytorch.org/docs/stable/generated/torch.nn.CrossEntropyLoss.html#torch.nn.CrossEntropyLoss) combines nn.LogSoftmax and nn.NLLLoss.\n",
        "\n",
        "We pass our model’s output logits to nn.CrossEntropyLoss, which will normalize the logits and compute the prediction error."
      ],
      "metadata": {
        "id": "Gae5ApOHTdre"
      }
    },
    {
      "cell_type": "code",
      "source": [
        "# Initialize the loss function\n",
        "loss_fn = nn.CrossEntropyLoss()"
      ],
      "metadata": {
        "id": "tli41iryy_R2"
      },
      "execution_count": null,
      "outputs": []
    },
    {
      "cell_type": "markdown",
      "source": [
        "### Optimizer\n",
        "Optimization is the process of adjusting model parameters to reduce model error in each training step. **Optimization algorithms** define how this process is performed (in this example we use Stochastic Gradient Descent). All optimization logic is encapsulated in the optimizer object. Here, we use the SGD optimizer; additionally, there are many different [optimizers](https://pytorch.org/docs/stable/optim.html) available in PyTorch such as ADAM and RMSProp, that work better for different kinds of models and data.\n",
        "\n",
        "We initialize the optimizer by registering the model’s parameters that need to be trained, and passing in the learning rate hyperparameter."
      ],
      "metadata": {
        "id": "nGv5knorT1iW"
      }
    },
    {
      "cell_type": "code",
      "source": [
        "optimizer = torch.optim.SGD(model.parameters(), lr=learning_rate)"
      ],
      "metadata": {
        "id": "K8EVwdiCUDFu"
      },
      "execution_count": null,
      "outputs": []
    },
    {
      "cell_type": "markdown",
      "source": [
        "Inside the training loop, optimization happens in three steps:\n",
        "* Call `optimizer.zero_grad()` to reset the gradients of model parameters. Gradients by default add up; to prevent double-counting, we explicitly zero them at each iteration.\n",
        "* Backpropagate the prediction loss with a call to `loss.backwards()`. PyTorch deposits the gradients of the loss w.r.t. each parameter.\n",
        "* Once we have our gradients, we call `optimizer.step()` to adjust the parameters by the gradients collected in the backward pass."
      ],
      "metadata": {
        "id": "25iNRtZRUEHM"
      }
    },
    {
      "cell_type": "markdown",
      "source": [
        "### Training and test loops\n",
        "We define `train_loop` that loops over our optimization code, and `test_loop` that evaluates the model’s performance against our test data."
      ],
      "metadata": {
        "id": "Z7I0XDELUjnO"
      }
    },
    {
      "cell_type": "code",
      "source": [
        "def train_loop(dataloader, model, loss_fn, optimizer):\n",
        "    size = len(dataloader.dataset)\n",
        "    for batch, (X, y) in enumerate(dataloader):\n",
        "        X, y = X.to(device), y.to(device)\n",
        "        \n",
        "        # Compute prediction and loss\n",
        "        pred = model(X)\n",
        "        loss = loss_fn(pred, y)\n",
        "\n",
        "        # Backpropagation\n",
        "        optimizer.zero_grad()\n",
        "        loss.backward()\n",
        "        optimizer.step()\n",
        "\n",
        "        if batch % 100 == 0:\n",
        "            loss, current = loss.item(), batch * len(X)\n",
        "            print(f\"loss: {loss:>7f}  [{current:>5d}/{size:>5d}]\")"
      ],
      "metadata": {
        "id": "bMPncBspUrkK"
      },
      "execution_count": null,
      "outputs": []
    },
    {
      "cell_type": "code",
      "source": [
        "def test_loop(dataloader, model, loss_fn):\n",
        "    size = len(dataloader.dataset)\n",
        "    num_batches = len(dataloader)\n",
        "    test_loss, correct = 0, 0\n",
        "\n",
        "    with torch.no_grad():\n",
        "        for X, y in dataloader:\n",
        "            X, y = X.to(device), y.to(device)\n",
        "            \n",
        "            pred = model(X)\n",
        "            test_loss += loss_fn(pred, y).item()\n",
        "            correct += (pred.argmax(1) == y).type(torch.float).sum().item()\n",
        "\n",
        "    test_loss /= num_batches\n",
        "    correct /= size\n",
        "    print(f\"Test Error: \\n Accuracy: {(100*correct):>0.1f}%, Avg loss: {test_loss:>8f} \\n\")"
      ],
      "metadata": {
        "id": "LkHV-A8SUvT2"
      },
      "execution_count": null,
      "outputs": []
    },
    {
      "cell_type": "markdown",
      "source": [
        "We initialize the loss function and optimizer, and pass it to `train_loop` and `test_loop`. Feel free to increase the number of epochs to track the model’s improving performance."
      ],
      "metadata": {
        "id": "xsKEEa_rVGEU"
      }
    },
    {
      "cell_type": "code",
      "source": [
        "epochs = 10\n",
        "for t in range(epochs):\n",
        "    print(f\"Epoch {t+1}\\n-------------------------------\")\n",
        "    train_loop(train_dataloader, model, loss_fn, optimizer)\n",
        "    test_loop(test_dataloader, model, loss_fn)\n",
        "print(\"Done!\")"
      ],
      "metadata": {
        "colab": {
          "base_uri": "https://localhost:8080/"
        },
        "id": "fAT44BcPVNjU",
        "outputId": "21419c7a-88f2-477c-94ec-f5ea0be9be3c"
      },
      "execution_count": null,
      "outputs": [
        {
          "output_type": "stream",
          "name": "stdout",
          "text": [
            "Epoch 1\n",
            "-------------------------------\n",
            "loss: 2.311020  [    0/60000]\n",
            "loss: 2.300525  [ 6400/60000]\n",
            "loss: 2.286558  [12800/60000]\n",
            "loss: 2.273364  [19200/60000]\n",
            "loss: 2.260027  [25600/60000]\n",
            "loss: 2.238786  [32000/60000]\n",
            "loss: 2.236733  [38400/60000]\n",
            "loss: 2.210154  [44800/60000]\n",
            "loss: 2.202801  [51200/60000]\n",
            "loss: 2.165487  [57600/60000]\n",
            "Test Error: \n",
            " Accuracy: 49.0%, Avg loss: 2.170253 \n",
            "\n",
            "Epoch 2\n",
            "-------------------------------\n",
            "loss: 2.180191  [    0/60000]\n",
            "loss: 2.172447  [ 6400/60000]\n",
            "loss: 2.120987  [12800/60000]\n",
            "loss: 2.128174  [19200/60000]\n",
            "loss: 2.095242  [25600/60000]\n",
            "loss: 2.032433  [32000/60000]\n",
            "loss: 2.054998  [38400/60000]\n",
            "loss: 1.982041  [44800/60000]\n",
            "loss: 1.980405  [51200/60000]\n",
            "loss: 1.904839  [57600/60000]\n",
            "Test Error: \n",
            " Accuracy: 60.3%, Avg loss: 1.913268 \n",
            "\n",
            "Epoch 3\n",
            "-------------------------------\n",
            "loss: 1.944755  [    0/60000]\n",
            "loss: 1.916689  [ 6400/60000]\n",
            "loss: 1.805809  [12800/60000]\n",
            "loss: 1.835377  [19200/60000]\n",
            "loss: 1.752264  [25600/60000]\n",
            "loss: 1.688429  [32000/60000]\n",
            "loss: 1.707881  [38400/60000]\n",
            "loss: 1.608891  [44800/60000]\n",
            "loss: 1.627004  [51200/60000]\n",
            "loss: 1.514866  [57600/60000]\n",
            "Test Error: \n",
            " Accuracy: 61.8%, Avg loss: 1.541185 \n",
            "\n",
            "Epoch 4\n",
            "-------------------------------\n",
            "loss: 1.608862  [    0/60000]\n",
            "loss: 1.569068  [ 6400/60000]\n",
            "loss: 1.424810  [12800/60000]\n",
            "loss: 1.486938  [19200/60000]\n",
            "loss: 1.385781  [25600/60000]\n",
            "loss: 1.369075  [32000/60000]\n",
            "loss: 1.382718  [38400/60000]\n",
            "loss: 1.304972  [44800/60000]\n",
            "loss: 1.336152  [51200/60000]\n",
            "loss: 1.230374  [57600/60000]\n",
            "Test Error: \n",
            " Accuracy: 63.3%, Avg loss: 1.264058 \n",
            "\n",
            "Epoch 5\n",
            "-------------------------------\n",
            "loss: 1.343709  [    0/60000]\n",
            "loss: 1.318454  [ 6400/60000]\n",
            "loss: 1.160233  [12800/60000]\n",
            "loss: 1.256786  [19200/60000]\n",
            "loss: 1.143098  [25600/60000]\n",
            "loss: 1.161861  [32000/60000]\n",
            "loss: 1.181754  [38400/60000]\n",
            "loss: 1.116183  [44800/60000]\n",
            "loss: 1.151074  [51200/60000]\n",
            "loss: 1.064094  [57600/60000]\n",
            "Test Error: \n",
            " Accuracy: 64.6%, Avg loss: 1.092343 \n",
            "\n",
            "Epoch 6\n",
            "-------------------------------\n",
            "loss: 1.166056  [    0/60000]\n",
            "loss: 1.161502  [ 6400/60000]\n",
            "loss: 0.988691  [12800/60000]\n",
            "loss: 1.113243  [19200/60000]\n",
            "loss: 0.994425  [25600/60000]\n",
            "loss: 1.024470  [32000/60000]\n",
            "loss: 1.057981  [38400/60000]\n",
            "loss: 0.996951  [44800/60000]\n",
            "loss: 1.031157  [51200/60000]\n",
            "loss: 0.960892  [57600/60000]\n",
            "Test Error: \n",
            " Accuracy: 65.7%, Avg loss: 0.982840 \n",
            "\n",
            "Epoch 7\n",
            "-------------------------------\n",
            "loss: 1.043674  [    0/60000]\n",
            "loss: 1.061146  [ 6400/60000]\n",
            "loss: 0.873124  [12800/60000]\n",
            "loss: 1.018647  [19200/60000]\n",
            "loss: 0.901939  [25600/60000]\n",
            "loss: 0.929633  [32000/60000]\n",
            "loss: 0.978117  [38400/60000]\n",
            "loss: 0.920265  [44800/60000]\n",
            "loss: 0.949273  [51200/60000]\n",
            "loss: 0.892182  [57600/60000]\n",
            "Test Error: \n",
            " Accuracy: 67.2%, Avg loss: 0.909337 \n",
            "\n",
            "Epoch 8\n",
            "-------------------------------\n",
            "loss: 0.954990  [    0/60000]\n",
            "loss: 0.992583  [ 6400/60000]\n",
            "loss: 0.791794  [12800/60000]\n",
            "loss: 0.952520  [19200/60000]\n",
            "loss: 0.840579  [25600/60000]\n",
            "loss: 0.861836  [32000/60000]\n",
            "loss: 0.922325  [38400/60000]\n",
            "loss: 0.869521  [44800/60000]\n",
            "loss: 0.890448  [51200/60000]\n",
            "loss: 0.842671  [57600/60000]\n",
            "Test Error: \n",
            " Accuracy: 68.6%, Avg loss: 0.857094 \n",
            "\n",
            "Epoch 9\n",
            "-------------------------------\n",
            "loss: 0.887353  [    0/60000]\n",
            "loss: 0.941924  [ 6400/60000]\n",
            "loss: 0.731426  [12800/60000]\n",
            "loss: 0.903782  [19200/60000]\n",
            "loss: 0.796736  [25600/60000]\n",
            "loss: 0.811559  [32000/60000]\n",
            "loss: 0.880351  [38400/60000]\n",
            "loss: 0.834074  [44800/60000]\n",
            "loss: 0.846400  [51200/60000]\n",
            "loss: 0.804704  [57600/60000]\n",
            "Test Error: \n",
            " Accuracy: 69.6%, Avg loss: 0.817787 \n",
            "\n",
            "Epoch 10\n",
            "-------------------------------\n",
            "loss: 0.833817  [    0/60000]\n",
            "loss: 0.901839  [ 6400/60000]\n",
            "loss: 0.684455  [12800/60000]\n",
            "loss: 0.866167  [19200/60000]\n",
            "loss: 0.763289  [25600/60000]\n",
            "loss: 0.773021  [32000/60000]\n",
            "loss: 0.846803  [38400/60000]\n",
            "loss: 0.808065  [44800/60000]\n",
            "loss: 0.812048  [51200/60000]\n",
            "loss: 0.774289  [57600/60000]\n",
            "Test Error: \n",
            " Accuracy: 70.9%, Avg loss: 0.786598 \n",
            "\n",
            "Done!\n"
          ]
        }
      ]
    },
    {
      "cell_type": "markdown",
      "source": [
        "# Saving and loading models\n"
      ],
      "metadata": {
        "id": "LCFhSx1hZu1V"
      }
    },
    {
      "cell_type": "markdown",
      "source": [
        "### Saving and loading model weights\n",
        "\n",
        "PyTorch models store the learned parameters in an internal state dictionary, called `state_dict`. These can be persisted via the `torch.save` method:"
      ],
      "metadata": {
        "id": "_FYuCTTJdpSs"
      }
    },
    {
      "cell_type": "code",
      "source": [
        "torch.save(model.state_dict(), 'model_weights.pth')"
      ],
      "metadata": {
        "id": "xCEw0GMxaBLA"
      },
      "execution_count": null,
      "outputs": []
    },
    {
      "cell_type": "markdown",
      "source": [
        "To load model weights, you need to create an instance of the same model first, and then load the parameters using `load_state_dict()` method."
      ],
      "metadata": {
        "id": "R6Ooi7w8coRe"
      }
    },
    {
      "cell_type": "code",
      "source": [
        "model.load_state_dict(torch.load('model_weights.pth'))\n",
        "model.eval()"
      ],
      "metadata": {
        "colab": {
          "base_uri": "https://localhost:8080/"
        },
        "id": "2sDPf50KctRo",
        "outputId": "36d14ed2-4801-4527-8a61-85963c2572f9"
      },
      "execution_count": null,
      "outputs": [
        {
          "output_type": "execute_result",
          "data": {
            "text/plain": [
              "NeuralNetwork(\n",
              "  (flatten): Flatten(start_dim=1, end_dim=-1)\n",
              "  (linear_relu_stack): Sequential(\n",
              "    (0): Linear(in_features=784, out_features=512, bias=True)\n",
              "    (1): ReLU()\n",
              "    (2): Linear(in_features=512, out_features=512, bias=True)\n",
              "    (3): ReLU()\n",
              "    (4): Linear(in_features=512, out_features=10, bias=True)\n",
              "  )\n",
              ")"
            ]
          },
          "metadata": {},
          "execution_count": 26
        }
      ]
    },
    {
      "cell_type": "markdown",
      "source": [
        "<font color='red'>!!! IMPORTANT !!!</font>\n",
        "\n",
        "be sure to call `model.eval()` method before inferencing to set the dropout and batch normalization layers to evaluation mode. Failing to do this will yield inconsistent inference results."
      ],
      "metadata": {
        "id": "EcVfGco3c1_A"
      }
    },
    {
      "cell_type": "markdown",
      "source": [
        "### Saving and loading models with shapes\n",
        "When loading model weights, we needed to instantiate the model class first, because the class defines the structure of a network. We might want to save the structure of this class together with the model, in which case we can pass `model` (and not `model.state_dict()`) to the saving function:"
      ],
      "metadata": {
        "id": "uYA0rqr3ddJP"
      }
    },
    {
      "cell_type": "code",
      "source": [
        "torch.save(model, 'model.pth')"
      ],
      "metadata": {
        "id": "lspGxpetdxy9"
      },
      "execution_count": null,
      "outputs": []
    },
    {
      "cell_type": "markdown",
      "source": [
        "We can then load the model like this:"
      ],
      "metadata": {
        "id": "cx4JJEcQdJTh"
      }
    },
    {
      "cell_type": "code",
      "source": [
        "model = torch.load('model.pth')"
      ],
      "metadata": {
        "id": "alcK-0mVd0h6"
      },
      "execution_count": null,
      "outputs": []
    },
    {
      "cell_type": "markdown",
      "source": [
        "# Task for today / homework\n",
        "\n",
        "Implement a simple CNN for classification of CIFAR10 images using both PyTorch and Keras/TF. Use the same architecture (number of layers, number of filters, number of neurons) and hyperparameters (optimizer, learning rate, batch size, number of epochs). Report the differences in training time, inference time and programming time (how long did it take you to solve this task **without copy-pasting your previous code**). Comment on an ease of use, code readability and your general opinion on both frameworks."
      ],
      "metadata": {
        "id": "HGnbd5bwfX2l"
      }
    },
    {
      "cell_type": "markdown",
      "source": [
        "### Tensorflow CNN"
      ],
      "metadata": {
        "id": "uk-NBQ1xoOrS"
      }
    },
    {
      "cell_type": "code",
      "source": [
        "from tensorflow.keras.datasets import cifar10\n",
        "from tensorflow.keras import Sequential\n",
        "from tensorflow.keras.layers import Convolution2D, MaxPooling2D, Dense, Flatten\n",
        "from tensorflow.keras.utils import to_categorical\n",
        "from tensorflow.keras.optimizers import Adam\n",
        "import time"
      ],
      "metadata": {
        "id": "y-X952GkoKfd"
      },
      "execution_count": null,
      "outputs": []
    },
    {
      "cell_type": "code",
      "source": [
        "(x_train, y_train), (x_test, y_test) = cifar10.load_data()\n",
        "\n",
        "print(x_train.shape)\n",
        "print(y_train.shape)\n",
        "\n",
        "(x_train, y_train), (x_test, y_test) = (x_train/255, to_categorical(y_train)), (x_test/255, to_categorical(y_test))"
      ],
      "metadata": {
        "id": "11kr2QIYoixH",
        "outputId": "61806de9-0312-474b-be3f-7a5e826c0dde",
        "colab": {
          "base_uri": "https://localhost:8080/"
        }
      },
      "execution_count": null,
      "outputs": [
        {
          "output_type": "stream",
          "name": "stdout",
          "text": [
            "(50000, 32, 32, 3)\n",
            "(50000, 1)\n"
          ]
        }
      ]
    },
    {
      "cell_type": "code",
      "source": [
        "cnn_tf = Sequential()\n",
        "cnn_tf.add(Convolution2D(64, (3,3), input_shape=(32,32,3), activation='relu'))\n",
        "cnn_tf.add(MaxPooling2D((2,2)))\n",
        "cnn_tf.add(Convolution2D(32, (3,3), activation='relu'))\n",
        "cnn_tf.add(MaxPooling2D((2,2)))\n",
        "cnn_tf.add(Convolution2D(16, (3,3), activation='relu'))\n",
        "cnn_tf.add(MaxPooling2D((2,2)))\n",
        "cnn_tf.add(Flatten())\n",
        "cnn_tf.add(Dense(64, 'relu'))\n",
        "cnn_tf.add(Dense(32, 'relu'))\n",
        "cnn_tf.add(Dense(10, 'softmax'))\n",
        "\n",
        "cnn_tf.summary()"
      ],
      "metadata": {
        "id": "OMqOz6_WoUrh",
        "outputId": "7fe80e27-706c-4c8c-9183-8ec0a643d024",
        "colab": {
          "base_uri": "https://localhost:8080/"
        }
      },
      "execution_count": null,
      "outputs": [
        {
          "output_type": "stream",
          "name": "stdout",
          "text": [
            "Model: \"sequential_4\"\n",
            "_________________________________________________________________\n",
            " Layer (type)                Output Shape              Param #   \n",
            "=================================================================\n",
            " conv2d_12 (Conv2D)          (None, 30, 30, 64)        1792      \n",
            "                                                                 \n",
            " max_pooling2d_12 (MaxPoolin  (None, 15, 15, 64)       0         \n",
            " g2D)                                                            \n",
            "                                                                 \n",
            " conv2d_13 (Conv2D)          (None, 13, 13, 32)        18464     \n",
            "                                                                 \n",
            " max_pooling2d_13 (MaxPoolin  (None, 6, 6, 32)         0         \n",
            " g2D)                                                            \n",
            "                                                                 \n",
            " conv2d_14 (Conv2D)          (None, 4, 4, 16)          4624      \n",
            "                                                                 \n",
            " max_pooling2d_14 (MaxPoolin  (None, 2, 2, 16)         0         \n",
            " g2D)                                                            \n",
            "                                                                 \n",
            " flatten_4 (Flatten)         (None, 64)                0         \n",
            "                                                                 \n",
            " dense_12 (Dense)            (None, 64)                4160      \n",
            "                                                                 \n",
            " dense_13 (Dense)            (None, 32)                2080      \n",
            "                                                                 \n",
            " dense_14 (Dense)            (None, 10)                330       \n",
            "                                                                 \n",
            "=================================================================\n",
            "Total params: 31,450\n",
            "Trainable params: 31,450\n",
            "Non-trainable params: 0\n",
            "_________________________________________________________________\n"
          ]
        }
      ]
    },
    {
      "cell_type": "code",
      "source": [
        "cnn_tf.compile(optimizer=Adam(learning_rate=0.001),\n",
        "               loss='categorical_crossentropy',\n",
        "               metrics='accuracy')\n",
        "\n",
        "start = time.time()\n",
        "cnn_tf.fit(x_train, y_train, batch_size=32, epochs=10, validation_split=0.15, verbose=1)\n",
        "print('CNN_TF model traning time: ', time.time()-start)"
      ],
      "metadata": {
        "id": "Uv8bHGSRpuwc",
        "outputId": "c15e1f49-70b8-4302-e554-ee6e641362c4",
        "colab": {
          "base_uri": "https://localhost:8080/"
        }
      },
      "execution_count": null,
      "outputs": [
        {
          "output_type": "stream",
          "name": "stdout",
          "text": [
            "Epoch 1/10\n",
            "1329/1329 [==============================] - 12s 9ms/step - loss: 1.7423 - accuracy: 0.3488 - val_loss: 1.5454 - val_accuracy: 0.4416\n",
            "Epoch 2/10\n",
            "1329/1329 [==============================] - 11s 8ms/step - loss: 1.4148 - accuracy: 0.4809 - val_loss: 1.4007 - val_accuracy: 0.5003\n",
            "Epoch 3/10\n",
            "1329/1329 [==============================] - 11s 8ms/step - loss: 1.2985 - accuracy: 0.5292 - val_loss: 1.2822 - val_accuracy: 0.5369\n",
            "Epoch 4/10\n",
            "1329/1329 [==============================] - 11s 8ms/step - loss: 1.2235 - accuracy: 0.5585 - val_loss: 1.3204 - val_accuracy: 0.5172\n",
            "Epoch 5/10\n",
            "1329/1329 [==============================] - 11s 8ms/step - loss: 1.1766 - accuracy: 0.5788 - val_loss: 1.1981 - val_accuracy: 0.5695\n",
            "Epoch 6/10\n",
            "1329/1329 [==============================] - 11s 8ms/step - loss: 1.1398 - accuracy: 0.5921 - val_loss: 1.1894 - val_accuracy: 0.5764\n",
            "Epoch 7/10\n",
            "1329/1329 [==============================] - 11s 8ms/step - loss: 1.0974 - accuracy: 0.6081 - val_loss: 1.1583 - val_accuracy: 0.5847\n",
            "Epoch 8/10\n",
            "1329/1329 [==============================] - 11s 8ms/step - loss: 1.0663 - accuracy: 0.6166 - val_loss: 1.1320 - val_accuracy: 0.5933\n",
            "Epoch 9/10\n",
            "1329/1329 [==============================] - 11s 8ms/step - loss: 1.0344 - accuracy: 0.6283 - val_loss: 1.0998 - val_accuracy: 0.5991\n",
            "Epoch 10/10\n",
            "1329/1329 [==============================] - 11s 8ms/step - loss: 1.0126 - accuracy: 0.6376 - val_loss: 1.0593 - val_accuracy: 0.6227\n",
            "313/313 [==============================] - 2s 5ms/step - loss: 1.0696 - accuracy: 0.6151\n",
            "[1.0696358680725098, 0.6151000261306763]\n",
            "CNN_TF model traning time:  115.95207190513611\n"
          ]
        }
      ]
    },
    {
      "cell_type": "markdown",
      "source": [
        "### PyTorch"
      ],
      "metadata": {
        "id": "yFjmtK_Xxa5q"
      }
    },
    {
      "cell_type": "code",
      "source": [
        "from torch.utils.data import DataLoader\n",
        "from torchvision import transforms\n",
        "from torchvision import datasets\n",
        "from torch import nn\n",
        "from torch.nn import functional\n",
        "from torch.optim import Adam\n",
        "import torch"
      ],
      "metadata": {
        "id": "YjPTvq62rdr7"
      },
      "execution_count": null,
      "outputs": []
    },
    {
      "cell_type": "code",
      "source": [
        "batch_size = 32\n",
        "\n",
        "trainset = datasets.CIFAR10(root='data', train=True, download=True, transform=transforms.ToTensor())\n",
        "trainloader = DataLoader(trainset, batch_size=batch_size)\n",
        "\n",
        "testset = datasets.CIFAR10(root='data', train=False, download=True, transform=transforms.ToTensor())\n",
        "testloader = DataLoader(testset, batch_size=batch_size)\n",
        "\n",
        "for X, y in trainloader:\n",
        "  print(X.shape)\n",
        "  print(y.shape)\n",
        "  break"
      ],
      "metadata": {
        "id": "jClB4jqiyGBD",
        "outputId": "52ec8c49-291e-4f9b-c0c7-342c9db5e012",
        "colab": {
          "base_uri": "https://localhost:8080/"
        }
      },
      "execution_count": null,
      "outputs": [
        {
          "output_type": "stream",
          "name": "stdout",
          "text": [
            "Files already downloaded and verified\n",
            "Files already downloaded and verified\n",
            "torch.Size([32, 3, 32, 32])\n",
            "torch.Size([32])\n"
          ]
        }
      ]
    },
    {
      "cell_type": "code",
      "source": [
        "class cnnTorch(nn.Module):\n",
        "  def __init__(self):\n",
        "    super().__init__()\n",
        "    self.convolution_stack = nn.Sequential(\n",
        "      nn.Conv2d(in_channels=3, out_channels=64, kernel_size=3),\n",
        "      nn.ReLU(),\n",
        "      nn.MaxPool2d(2),\n",
        "      nn.Conv2d(in_channels=64, out_channels=32, kernel_size=3),\n",
        "      nn.ReLU(),\n",
        "      nn.MaxPool2d(2),\n",
        "      nn.Conv2d(in_channels=32, out_channels=16, kernel_size=3),\n",
        "      nn.ReLU(),\n",
        "      nn.MaxPool2d(2),\n",
        "      nn.Flatten()\n",
        "    )\n",
        "    self.linear_stack = nn.Sequential(\n",
        "        nn.Linear(2*2*16, 64),\n",
        "        nn.ReLU(),\n",
        "        nn.Linear(64, 32),\n",
        "        nn.ReLU(),\n",
        "        nn.Linear(32, 10)\n",
        "    )\n",
        "  \n",
        "  def forward(self, x):\n",
        "    x = self.convolution_stack(x)\n",
        "    x = self.linear_stack(x)\n",
        "    return x\n",
        "\n",
        "cnn_torch = cnnTorch().to('cuda')\n",
        "print(cnn_torch)"
      ],
      "metadata": {
        "id": "HPAo5tBTy4k5",
        "outputId": "c3092e69-4995-4403-a3ab-52471c1f8149",
        "colab": {
          "base_uri": "https://localhost:8080/"
        }
      },
      "execution_count": null,
      "outputs": [
        {
          "output_type": "stream",
          "name": "stdout",
          "text": [
            "cnnTorch(\n",
            "  (convolution_stack): Sequential(\n",
            "    (0): Conv2d(3, 64, kernel_size=(3, 3), stride=(1, 1))\n",
            "    (1): ReLU()\n",
            "    (2): MaxPool2d(kernel_size=2, stride=2, padding=0, dilation=1, ceil_mode=False)\n",
            "    (3): Conv2d(64, 32, kernel_size=(3, 3), stride=(1, 1))\n",
            "    (4): ReLU()\n",
            "    (5): MaxPool2d(kernel_size=2, stride=2, padding=0, dilation=1, ceil_mode=False)\n",
            "    (6): Conv2d(32, 16, kernel_size=(3, 3), stride=(1, 1))\n",
            "    (7): ReLU()\n",
            "    (8): MaxPool2d(kernel_size=2, stride=2, padding=0, dilation=1, ceil_mode=False)\n",
            "    (9): Flatten(start_dim=1, end_dim=-1)\n",
            "  )\n",
            "  (linear_stack): Sequential(\n",
            "    (0): Linear(in_features=64, out_features=64, bias=True)\n",
            "    (1): ReLU()\n",
            "    (2): Linear(in_features=64, out_features=32, bias=True)\n",
            "    (3): ReLU()\n",
            "    (4): Linear(in_features=32, out_features=10, bias=True)\n",
            "  )\n",
            ")\n"
          ]
        }
      ]
    },
    {
      "cell_type": "code",
      "source": [
        "loss_ce = nn.CrossEntropyLoss()\n",
        "optimizer = Adam(cnn_torch.parameters(), lr=0.001)"
      ],
      "metadata": {
        "id": "Fh3gm8tV3Szy"
      },
      "execution_count": null,
      "outputs": []
    },
    {
      "cell_type": "code",
      "source": [
        "def train_loop():\n",
        "  train_size = len(trainloader.dataset)\n",
        "  train_loss, train_correct = 0, 0\n",
        "\n",
        "  for i, (X, y) in enumerate(trainloader):\n",
        "    X, y = X.to('cuda'), y.to('cuda')\n",
        "    pred = cnn_torch(X)\n",
        "    loss = loss_ce(pred, y)\n",
        "\n",
        "    optimizer.zero_grad()\n",
        "    loss.backward()\n",
        "    optimizer.step()\n",
        "\n",
        "    train_loss += loss.item()\n",
        "    train_correct += (pred.argmax(1) == y).type(torch.float).sum().item()\n",
        "\n",
        "    print(f\"\\r Epoch {epoch+1}, batch [{i * len(X):>5d}/{train_size:>5d}]\", end=\"\")\n",
        "\n",
        "  loss, acc = train_loss / train_size, train_correct / train_size, \n",
        "  print(f\"\\t loss: {loss:>7f}, acc: {acc:>7f}\")\n",
        "\n",
        "def test_loop():\n",
        "  test_size = len(testloader.dataset)\n",
        "  test_loss, correct = 0, 0\n",
        "\n",
        "  with torch.no_grad():\n",
        "      for X, y in testloader:\n",
        "          X, y = X.to('cuda'), y.to('cuda')\n",
        "            \n",
        "          pred = cnn_torch(X)\n",
        "          test_loss += loss_ce(pred, y).item()\n",
        "          correct += (pred.argmax(1) == y).type(torch.float).sum().item()\n",
        "    \n",
        "  test_loss, test_acc = test_loss / len(testloader), correct / test_size\n",
        "  print(f\"\\t test loss: {test_loss:>7f}, test acc: {test_acc:>4f}\")"
      ],
      "metadata": {
        "id": "m3_b-0kJ5jlm"
      },
      "execution_count": null,
      "outputs": []
    },
    {
      "cell_type": "code",
      "source": [
        "start = time.time()\n",
        "for epoch in range(10):\n",
        "  train_loop()\n",
        "test_loop()\n",
        "print('CNN_Torch model traning time: ', time.time()-start)"
      ],
      "metadata": {
        "id": "njPX8qoX7WQt",
        "outputId": "98af7763-ffc0-481f-8acc-d1fefed5461d",
        "colab": {
          "base_uri": "https://localhost:8080/"
        }
      },
      "execution_count": null,
      "outputs": [
        {
          "output_type": "stream",
          "name": "stdout",
          "text": [
            " Epoch 1, batch [24992/50000]\t loss: 0.029707, acc: 0.662580\n",
            " Epoch 2, batch [24992/50000]\t loss: 0.029430, acc: 0.667280\n",
            " Epoch 3, batch [24992/50000]\t loss: 0.029123, acc: 0.667780\n",
            " Epoch 4, batch [24992/50000]\t loss: 0.028887, acc: 0.670620\n",
            " Epoch 5, batch [24992/50000]\t loss: 0.028678, acc: 0.673460\n",
            " Epoch 6, batch [24992/50000]\t loss: 0.028483, acc: 0.675700\n",
            " Epoch 7, batch [24992/50000]\t loss: 0.028292, acc: 0.679360\n",
            " Epoch 8, batch [24992/50000]\t loss: 0.028056, acc: 0.680560\n",
            " Epoch 9, batch [24992/50000]\t loss: 0.027955, acc: 0.683360\n",
            " Epoch 10, batch [24992/50000]\t loss: 0.027748, acc: 0.683480\n",
            "\t test loss: 1.040048, test acc: 0.638800\n",
            "CNN_Torch model traning time:  246.77141189575195\n"
          ]
        }
      ]
    },
    {
      "cell_type": "markdown",
      "source": [
        "## Conclusions"
      ],
      "metadata": {
        "id": "H-nZh4t9IJqz"
      }
    },
    {
      "cell_type": "markdown",
      "source": [
        "We can see implementations of simple CNN models trained on CIFAR10 dataset. First model was created using Tensorflow2 framework, second one using PyTorch. Both models have the same architecture and hyperparameters. \n",
        "\n",
        "There are three Conv2d+Maxpool2d layers with ReLU activation functions. There are also three Dense/Linear layers with ReLU (and softmax in the output layer) activation functions. Both models were trained for 10 epochs long with batch size = 32, both using Colab GPU. \n",
        "\n",
        "It seems that in that case, model written in Tensorflow was trained faster. Traning process of TF model took 155s, while traning of PyTorch model took 246s. So TF was about 60% faster here, which is huge difference. \n",
        "\n",
        "It's intrestring, because actulally I saw some other people comparison of these two frameworks, and PyTorch's performance was generally faster. It means that performance comparison of these two deep learning frameworks depends on many more aspects than only architecture. Maybe running it on Colab provided by Google made some difference. \n",
        "\n",
        "It took me about 30 min to create model using TF framework, and about 1 hour to create it using PyTorch. I tried not to copy any other implementation, but in case of PyTorch it was impossible, because It was my first model created using that framework. \n",
        "\n",
        "Generally speaking, at this moment, when I'am more familiar with TensorFlow, and just started to learn PyTorch, for me Tensorflow looks easier. It seems to operate on higher level of abstracion, so for me even if It's not \"pythonic\", it looks faster to prototype and for example it's easier to explain to someone else. \n",
        "\n",
        "But I've heard a lot of opionions that PyTorch is generally better, especially after update, that gives a possiblity to connect PyTorch model to tensorboard. Because of that I want to learn PyTorch better, I want to use It more often to get familiar with that framework. \n",
        "\n",
        "After some time my opinion will be more reliable, but at this moment I definitely prefer TensorFlow.\n"
      ],
      "metadata": {
        "id": "J73yy3MlIOT2"
      }
    },
    {
      "cell_type": "code",
      "source": [
        ""
      ],
      "metadata": {
        "id": "fcWX-wD2zL9_"
      },
      "execution_count": null,
      "outputs": []
    }
  ]
}